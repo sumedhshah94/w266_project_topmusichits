{
 "cells": [
  {
   "cell_type": "markdown",
   "id": "1e6aebeb",
   "metadata": {},
   "source": [
    "# Wordcloud"
   ]
  },
  {
   "cell_type": "code",
   "execution_count": 2,
   "id": "ac949572",
   "metadata": {},
   "outputs": [],
   "source": [
    "#!pip install pyspark\n",
    "#!pip install wordcloud\n",
    "import numpy as np\n",
    "import pandas as pd\n",
    "from pyspark.sql import HiveContext\n",
    "from pyspark import SparkContext\n",
    "#hive_context = HiveContext(sc)\n",
    "from os import path\n",
    "from PIL import Image\n",
    "from wordcloud import WordCloud, STOPWORDS, ImageColorGenerator\n",
    "\n",
    "import matplotlib.pyplot as plt\n",
    "%matplotlib inline\n",
    "import os\n",
    "import sys\n",
    "sys.path.append(os.getcwd())\n"
   ]
  },
  {
   "cell_type": "code",
   "execution_count": 3,
   "id": "11d63ec5",
   "metadata": {},
   "outputs": [
    {
     "data": {
      "text/plain": [
       "'/home/jupyter/w266_project_topmusichits/notebooks'"
      ]
     },
     "execution_count": 3,
     "metadata": {},
     "output_type": "execute_result"
    }
   ],
   "source": [
    "os.getcwd()"
   ]
  },
  {
   "cell_type": "code",
   "execution_count": 4,
   "id": "fa616b5e",
   "metadata": {},
   "outputs": [],
   "source": [
    "# import os\n",
    "# for f in os.listdir(\"/home/jupyter/w266_project_topmusichits/data/interim\"):\n",
    "# \tprint(f)"
   ]
  },
  {
   "cell_type": "code",
   "execution_count": 5,
   "id": "f73ce524",
   "metadata": {},
   "outputs": [],
   "source": [
    "song_charts = pd.read_csv(\"songs_charts.csv\")"
   ]
  },
  {
   "cell_type": "code",
   "execution_count": 6,
   "id": "ae536ac5",
   "metadata": {},
   "outputs": [
    {
     "data": {
      "text/html": [
       "<div>\n",
       "<style scoped>\n",
       "    .dataframe tbody tr th:only-of-type {\n",
       "        vertical-align: middle;\n",
       "    }\n",
       "\n",
       "    .dataframe tbody tr th {\n",
       "        vertical-align: top;\n",
       "    }\n",
       "\n",
       "    .dataframe thead th {\n",
       "        text-align: right;\n",
       "    }\n",
       "</style>\n",
       "<table border=\"1\" class=\"dataframe\">\n",
       "  <thead>\n",
       "    <tr style=\"text-align: right;\">\n",
       "      <th></th>\n",
       "      <th>Unnamed: 0</th>\n",
       "      <th>track_name</th>\n",
       "      <th>track_artist</th>\n",
       "      <th>lyrics</th>\n",
       "      <th>track_popularity</th>\n",
       "      <th>track_album_name</th>\n",
       "      <th>playlist_name</th>\n",
       "      <th>playlist_genre</th>\n",
       "      <th>playlist_subgenre</th>\n",
       "      <th>danceability</th>\n",
       "      <th>...</th>\n",
       "      <th>instrumentalness</th>\n",
       "      <th>liveness</th>\n",
       "      <th>valence</th>\n",
       "      <th>tempo</th>\n",
       "      <th>duration_ms</th>\n",
       "      <th>language</th>\n",
       "      <th>song_year</th>\n",
       "      <th>trending_year</th>\n",
       "      <th>Weeks_On_Chart</th>\n",
       "      <th>Hit</th>\n",
       "    </tr>\n",
       "  </thead>\n",
       "  <tbody>\n",
       "    <tr>\n",
       "      <th>0</th>\n",
       "      <td>1</td>\n",
       "      <td>i feel alive</td>\n",
       "      <td>steady rollin</td>\n",
       "      <td>The trees, are singing in the wind The sky blu...</td>\n",
       "      <td>28</td>\n",
       "      <td>Love &amp; Loss</td>\n",
       "      <td>Hard Rock Workout</td>\n",
       "      <td>rock</td>\n",
       "      <td>hard rock</td>\n",
       "      <td>0.303</td>\n",
       "      <td>...</td>\n",
       "      <td>0.00994</td>\n",
       "      <td>0.3470</td>\n",
       "      <td>0.404</td>\n",
       "      <td>135.225</td>\n",
       "      <td>373512</td>\n",
       "      <td>en</td>\n",
       "      <td>2017</td>\n",
       "      <td>NaN</td>\n",
       "      <td>0.0</td>\n",
       "      <td>0</td>\n",
       "    </tr>\n",
       "    <tr>\n",
       "      <th>1</th>\n",
       "      <td>2</td>\n",
       "      <td>poison</td>\n",
       "      <td>bell biv devoe</td>\n",
       "      <td>NA Yeah, Spyderman and Freeze in full effect U...</td>\n",
       "      <td>0</td>\n",
       "      <td>Gold</td>\n",
       "      <td>Back in the day - R&amp;B, New Jack Swing, Swingbe...</td>\n",
       "      <td>r&amp;b</td>\n",
       "      <td>new jack swing</td>\n",
       "      <td>0.845</td>\n",
       "      <td>...</td>\n",
       "      <td>0.00723</td>\n",
       "      <td>0.4890</td>\n",
       "      <td>0.650</td>\n",
       "      <td>111.904</td>\n",
       "      <td>262467</td>\n",
       "      <td>en</td>\n",
       "      <td>2005</td>\n",
       "      <td>1990.0</td>\n",
       "      <td>22.0</td>\n",
       "      <td>1</td>\n",
       "    </tr>\n",
       "    <tr>\n",
       "      <th>2</th>\n",
       "      <td>3</td>\n",
       "      <td>baby it's cold outside (feat. christina aguilera)</td>\n",
       "      <td>ceelo green</td>\n",
       "      <td>I really can't stay Baby it's cold outside I'v...</td>\n",
       "      <td>41</td>\n",
       "      <td>CeeLo's Magic Moment</td>\n",
       "      <td>Christmas Soul</td>\n",
       "      <td>r&amp;b</td>\n",
       "      <td>neo soul</td>\n",
       "      <td>0.425</td>\n",
       "      <td>...</td>\n",
       "      <td>0.00000</td>\n",
       "      <td>0.0664</td>\n",
       "      <td>0.405</td>\n",
       "      <td>118.593</td>\n",
       "      <td>243067</td>\n",
       "      <td>en</td>\n",
       "      <td>2012</td>\n",
       "      <td>NaN</td>\n",
       "      <td>0.0</td>\n",
       "      <td>0</td>\n",
       "    </tr>\n",
       "    <tr>\n",
       "      <th>3</th>\n",
       "      <td>4</td>\n",
       "      <td>dumb litty</td>\n",
       "      <td>kard</td>\n",
       "      <td>Get up out of my business You don't keep me fr...</td>\n",
       "      <td>65</td>\n",
       "      <td>KARD 2nd Digital Single ‘Dumb Litty’</td>\n",
       "      <td>K-Party Dance Mix</td>\n",
       "      <td>pop</td>\n",
       "      <td>dance pop</td>\n",
       "      <td>0.760</td>\n",
       "      <td>...</td>\n",
       "      <td>0.00000</td>\n",
       "      <td>0.1380</td>\n",
       "      <td>0.240</td>\n",
       "      <td>130.018</td>\n",
       "      <td>193160</td>\n",
       "      <td>en</td>\n",
       "      <td>2019</td>\n",
       "      <td>NaN</td>\n",
       "      <td>0.0</td>\n",
       "      <td>0</td>\n",
       "    </tr>\n",
       "    <tr>\n",
       "      <th>4</th>\n",
       "      <td>5</td>\n",
       "      <td>soldier</td>\n",
       "      <td>james tw</td>\n",
       "      <td>Hold your breath, don't look down, keep trying...</td>\n",
       "      <td>70</td>\n",
       "      <td>Chapters</td>\n",
       "      <td>urban contemporary</td>\n",
       "      <td>r&amp;b</td>\n",
       "      <td>urban contemporary</td>\n",
       "      <td>0.496</td>\n",
       "      <td>...</td>\n",
       "      <td>0.00000</td>\n",
       "      <td>0.0975</td>\n",
       "      <td>0.305</td>\n",
       "      <td>147.764</td>\n",
       "      <td>224720</td>\n",
       "      <td>en</td>\n",
       "      <td>2019</td>\n",
       "      <td>NaN</td>\n",
       "      <td>0.0</td>\n",
       "      <td>0</td>\n",
       "    </tr>\n",
       "  </tbody>\n",
       "</table>\n",
       "<p>5 rows × 26 columns</p>\n",
       "</div>"
      ],
      "text/plain": [
       "   Unnamed: 0                                         track_name  \\\n",
       "0           1                                       i feel alive   \n",
       "1           2                                             poison   \n",
       "2           3  baby it's cold outside (feat. christina aguilera)   \n",
       "3           4                                         dumb litty   \n",
       "4           5                                            soldier   \n",
       "\n",
       "     track_artist                                             lyrics  \\\n",
       "0   steady rollin  The trees, are singing in the wind The sky blu...   \n",
       "1  bell biv devoe  NA Yeah, Spyderman and Freeze in full effect U...   \n",
       "2     ceelo green  I really can't stay Baby it's cold outside I'v...   \n",
       "3            kard  Get up out of my business You don't keep me fr...   \n",
       "4        james tw  Hold your breath, don't look down, keep trying...   \n",
       "\n",
       "   track_popularity                      track_album_name  \\\n",
       "0                28                           Love & Loss   \n",
       "1                 0                                  Gold   \n",
       "2                41                  CeeLo's Magic Moment   \n",
       "3                65  KARD 2nd Digital Single ‘Dumb Litty’   \n",
       "4                70                              Chapters   \n",
       "\n",
       "                                       playlist_name playlist_genre  \\\n",
       "0                                  Hard Rock Workout           rock   \n",
       "1  Back in the day - R&B, New Jack Swing, Swingbe...            r&b   \n",
       "2                                     Christmas Soul            r&b   \n",
       "3                                  K-Party Dance Mix            pop   \n",
       "4                                 urban contemporary            r&b   \n",
       "\n",
       "    playlist_subgenre  danceability  ...  instrumentalness  liveness  valence  \\\n",
       "0           hard rock         0.303  ...           0.00994    0.3470    0.404   \n",
       "1      new jack swing         0.845  ...           0.00723    0.4890    0.650   \n",
       "2            neo soul         0.425  ...           0.00000    0.0664    0.405   \n",
       "3           dance pop         0.760  ...           0.00000    0.1380    0.240   \n",
       "4  urban contemporary         0.496  ...           0.00000    0.0975    0.305   \n",
       "\n",
       "     tempo  duration_ms  language  song_year  trending_year  Weeks_On_Chart  \\\n",
       "0  135.225       373512        en       2017            NaN             0.0   \n",
       "1  111.904       262467        en       2005         1990.0            22.0   \n",
       "2  118.593       243067        en       2012            NaN             0.0   \n",
       "3  130.018       193160        en       2019            NaN             0.0   \n",
       "4  147.764       224720        en       2019            NaN             0.0   \n",
       "\n",
       "   Hit  \n",
       "0    0  \n",
       "1    1  \n",
       "2    0  \n",
       "3    0  \n",
       "4    0  \n",
       "\n",
       "[5 rows x 26 columns]"
      ]
     },
     "execution_count": 6,
     "metadata": {},
     "output_type": "execute_result"
    }
   ],
   "source": [
    "song_charts.head()"
   ]
  },
  {
   "cell_type": "code",
   "execution_count": 7,
   "id": "0c220f35",
   "metadata": {},
   "outputs": [
    {
     "data": {
      "text/plain": [
       "(13747, 26)"
      ]
     },
     "execution_count": 7,
     "metadata": {},
     "output_type": "execute_result"
    }
   ],
   "source": [
    "song_charts.shape"
   ]
  },
  {
   "cell_type": "code",
   "execution_count": 8,
   "id": "bcf2edc0",
   "metadata": {},
   "outputs": [
    {
     "data": {
      "text/plain": [
       "Unnamed: 0             int64\n",
       "track_name            object\n",
       "track_artist          object\n",
       "lyrics                object\n",
       "track_popularity       int64\n",
       "track_album_name      object\n",
       "playlist_name         object\n",
       "playlist_genre        object\n",
       "playlist_subgenre     object\n",
       "danceability         float64\n",
       "energy               float64\n",
       "key                    int64\n",
       "loudness             float64\n",
       "mode                   int64\n",
       "speechiness          float64\n",
       "acousticness         float64\n",
       "instrumentalness     float64\n",
       "liveness             float64\n",
       "valence              float64\n",
       "tempo                float64\n",
       "duration_ms            int64\n",
       "language              object\n",
       "song_year              int64\n",
       "trending_year        float64\n",
       "Weeks_On_Chart       float64\n",
       "Hit                    int64\n",
       "dtype: object"
      ]
     },
     "execution_count": 8,
     "metadata": {},
     "output_type": "execute_result"
    }
   ],
   "source": [
    "song_charts.dtypes"
   ]
  },
  {
   "cell_type": "code",
   "execution_count": 9,
   "id": "6f7de5c3",
   "metadata": {},
   "outputs": [
    {
     "data": {
      "text/plain": [
       "(13747, 26)"
      ]
     },
     "execution_count": 9,
     "metadata": {},
     "output_type": "execute_result"
    }
   ],
   "source": [
    "df_lyrics = song_charts[song_charts['lyrics'].notnull()]\n",
    "df_lyrics.shape"
   ]
  },
  {
   "cell_type": "code",
   "execution_count": 10,
   "id": "ba67b14b",
   "metadata": {},
   "outputs": [
    {
     "data": {
      "text/plain": [
       "pop      3541\n",
       "r&b      2927\n",
       "rock     2456\n",
       "rap      2359\n",
       "edm      1637\n",
       "latin     827\n",
       "Name: playlist_genre, dtype: int64"
      ]
     },
     "execution_count": 10,
     "metadata": {},
     "output_type": "execute_result"
    }
   ],
   "source": [
    "df_lyrics.playlist_genre.value_counts()"
   ]
  },
  {
   "cell_type": "code",
   "execution_count": 11,
   "id": "55b066c1",
   "metadata": {},
   "outputs": [
    {
     "data": {
      "text/plain": [
       "2019    2362\n",
       "2018    1209\n",
       "2017    1123\n",
       "2016    1053\n",
       "2015     897\n",
       "2014     712\n",
       "2013     482\n",
       "2012     399\n",
       "2011     352\n",
       "2008     346\n",
       "2005     298\n",
       "2010     289\n",
       "2009     252\n",
       "2007     249\n",
       "2006     238\n",
       "2004     235\n",
       "2001     210\n",
       "2003     208\n",
       "2020     190\n",
       "2000     171\n",
       "1999     168\n",
       "1994     167\n",
       "1998     165\n",
       "1996     163\n",
       "2002     161\n",
       "1995     152\n",
       "1993     150\n",
       "1997     148\n",
       "1991     146\n",
       "1987     118\n",
       "1988     117\n",
       "1992     115\n",
       "1990      98\n",
       "1989      90\n",
       "1985      90\n",
       "1986      84\n",
       "1984      73\n",
       "1982      73\n",
       "1983      70\n",
       "1980      67\n",
       "1981      57\n",
       "Name: song_year, dtype: int64"
      ]
     },
     "execution_count": 11,
     "metadata": {},
     "output_type": "execute_result"
    }
   ],
   "source": [
    "df_lyrics.song_year.value_counts()"
   ]
  },
  {
   "cell_type": "code",
   "execution_count": 12,
   "id": "1660a8ad",
   "metadata": {},
   "outputs": [
    {
     "data": {
      "text/plain": [
       "2015 - 2020    5937\n",
       "2010 - 2014    3131\n",
       "2005 - 2009    1383\n",
       "2000 - 2004     985\n",
       "1995 - 1999     796\n",
       "1990 - 1994     676\n",
       "1985 - 1989     499\n",
       "1981 - 1984     340\n",
       "Name: year_condensed, dtype: int64"
      ]
     },
     "execution_count": 12,
     "metadata": {},
     "output_type": "execute_result"
    }
   ],
   "source": [
    "conditions = [\n",
    "    df_lyrics['song_year']<=1984,\n",
    "    (df_lyrics['song_year']>=1985) & (df_lyrics['song_year']<=1989),\n",
    "    (df_lyrics['song_year']>=1990) & (df_lyrics['song_year']<=1994),\n",
    "    (df_lyrics['song_year']>=1995) & (df_lyrics['song_year']<=1999),\n",
    "    (df_lyrics['song_year']>=2000) & (df_lyrics['song_year']<=2004),\n",
    "    (df_lyrics['song_year']>=2005) & (df_lyrics['song_year']<=2009),\n",
    "    (df_lyrics['song_year']>=2010) & (df_lyrics['song_year']<=2015),\n",
    "    (df_lyrics['song_year']>=2016) & (df_lyrics['song_year']<=2020)\n",
    "]\n",
    "choices = [\n",
    "    '1981 - 1984', \n",
    "    '1985 - 1989',          \n",
    "    '1990 - 1994',            \n",
    "    '1995 - 1999',\n",
    "    '2000 - 2004',    \n",
    "    '2005 - 2009',        \n",
    "    '2010 - 2014',      \n",
    "    '2015 - 2020',      \n",
    "          ]\n",
    "df_lyrics['year_condensed'] = np.select(conditions, choices)\n",
    "\n",
    "df_lyrics.year_condensed.value_counts()"
   ]
  },
  {
   "cell_type": "code",
   "execution_count": 13,
   "id": "58fe923a",
   "metadata": {},
   "outputs": [
    {
     "name": "stdout",
     "output_type": "stream",
     "text": [
      "(3541, 27)\n",
      "(2927, 27)\n",
      "(2456, 27)\n",
      "(2359, 27)\n",
      "(1637, 27)\n",
      "(827, 27)\n"
     ]
    }
   ],
   "source": [
    "# One dataset per genre\n",
    "df_lyrics_pop = df_lyrics[df_lyrics['playlist_genre'] == 'pop']\n",
    "print(df_lyrics_pop.shape)\n",
    "df_lyrics_r_b = df_lyrics[df_lyrics['playlist_genre'] == 'r&b']\n",
    "print(df_lyrics_r_b.shape)\n",
    "df_lyrics_rock = df_lyrics[df_lyrics['playlist_genre'] == 'rock']\n",
    "print(df_lyrics_rock.shape)\n",
    "df_lyrics_rap = df_lyrics[df_lyrics['playlist_genre'] == 'rap']\n",
    "print(df_lyrics_rap.shape)\n",
    "df_lyrics_edm = df_lyrics[df_lyrics['playlist_genre'] == 'edm']\n",
    "print(df_lyrics_edm.shape)\n",
    "df_lyrics_latin = df_lyrics[df_lyrics['playlist_genre'] == 'latin']\n",
    "print(df_lyrics_latin.shape)"
   ]
  },
  {
   "cell_type": "code",
   "execution_count": 48,
   "id": "9236554f",
   "metadata": {},
   "outputs": [
    {
     "data": {
      "text/plain": [
       "(42, 27)"
      ]
     },
     "execution_count": 48,
     "metadata": {},
     "output_type": "execute_result"
    }
   ],
   "source": [
    "#Random samples 10% stratified by year_condensed\n",
    "\n",
    "\n",
    "df_lyrics_pop_s = df_lyrics_pop.groupby('year_condensed', group_keys=False).apply(lambda x: x.sample(frac=0.05))\n",
    "df_lyrics_pop_s.shape\n",
    "df_lyrics_r_b_s = df_lyrics_r_b.groupby('year_condensed', group_keys=False).apply(lambda x: x.sample(frac=0.05))\n",
    "df_lyrics_r_b_s.shape\n",
    "df_lyrics_rock_s = df_lyrics_rock.groupby('year_condensed', group_keys=False).apply(lambda x: x.sample(frac=0.05))\n",
    "df_lyrics_rock_s.shape\n",
    "df_lyrics_rap_s = df_lyrics_rap.groupby('year_condensed', group_keys=False).apply(lambda x: x.sample(frac=0.05))\n",
    "df_lyrics_rap_s.shape\n",
    "df_lyrics_edm_s = df_lyrics_edm.groupby('year_condensed', group_keys=False).apply(lambda x: x.sample(frac=0.05))\n",
    "df_lyrics_edm_s.shape\n",
    "df_lyrics_latin_s = df_lyrics_latin.groupby('year_condensed', group_keys=False).apply(lambda x: x.sample(frac=0.05))\n",
    "df_lyrics_latin_s.shape"
   ]
  },
  {
   "cell_type": "code",
   "execution_count": 24,
   "id": "3c4ce158",
   "metadata": {},
   "outputs": [
    {
     "name": "stdout",
     "output_type": "stream",
     "text": [
      "(340, 27)\n",
      "(499, 27)\n",
      "(676, 27)\n",
      "(796, 27)\n",
      "(985, 27)\n",
      "(1383, 27)\n",
      "(3131, 27)\n",
      "(5937, 27)\n"
     ]
    }
   ],
   "source": [
    "# One dataset per condensed dates\n",
    "\n",
    "df_lyrics_8184 = df_lyrics[df_lyrics['year_condensed'] == '1981 - 1984']\n",
    "print(df_lyrics_8184.shape)\n",
    "df_lyrics_8589 = df_lyrics[df_lyrics['year_condensed'] == '1985 - 1989']\n",
    "print(df_lyrics_8589.shape)\n",
    "df_lyrics_9094 = df_lyrics[df_lyrics['year_condensed'] == '1990 - 1994']\n",
    "print(df_lyrics_9094.shape)\n",
    "df_lyrics_9599 = df_lyrics[df_lyrics['year_condensed'] == '1995 - 1999']\n",
    "print(df_lyrics_9599.shape)\n",
    "df_lyrics_0004 = df_lyrics[df_lyrics['year_condensed'] == '2000 - 2004']\n",
    "print(df_lyrics_0004.shape)\n",
    "df_lyrics_0509 = df_lyrics[df_lyrics['year_condensed'] == '2005 - 2009']\n",
    "print(df_lyrics_0509.shape)\n",
    "df_lyrics_1014 = df_lyrics[df_lyrics['year_condensed'] == '2010 - 2014']\n",
    "print(df_lyrics_1014.shape)\n",
    "df_lyrics_1520 = df_lyrics[df_lyrics['year_condensed'] == '2015 - 2020']\n",
    "print(df_lyrics_1520.shape)"
   ]
  },
  {
   "cell_type": "markdown",
   "id": "9a59200d",
   "metadata": {},
   "source": [
    "### Libraries"
   ]
  },
  {
   "cell_type": "code",
   "execution_count": 25,
   "id": "a79fbe42",
   "metadata": {},
   "outputs": [
    {
     "name": "stderr",
     "output_type": "stream",
     "text": [
      "[nltk_data] Downloading package stopwords to\n",
      "[nltk_data]     /home/jupyter/nltk_data...\n",
      "[nltk_data]   Package stopwords is already up-to-date!\n",
      "[nltk_data] Downloading package wordnet to /home/jupyter/nltk_data...\n",
      "[nltk_data]   Package wordnet is already up-to-date!\n"
     ]
    }
   ],
   "source": [
    "import re\n",
    "import nltk\n",
    "\n",
    "nltk.download('stopwords')\n",
    "nltk.download('wordnet')\n",
    "\n",
    "from nltk.corpus import stopwords\n",
    "from nltk.stem.porter import PorterStemmer\n",
    "from nltk.tokenize import RegexpTokenizer\n",
    "from nltk.stem.wordnet import WordNetLemmatizer"
   ]
  },
  {
   "cell_type": "markdown",
   "id": "6bce1442",
   "metadata": {},
   "source": [
    "### Pre-process the dataset to get a clened, normalized text corpus"
   ]
  },
  {
   "cell_type": "code",
   "execution_count": 87,
   "id": "c8c6dfc3",
   "metadata": {
    "scrolled": true
   },
   "outputs": [
    {
     "name": "stderr",
     "output_type": "stream",
     "text": [
      "[nltk_data] Downloading package omw-1.4 to /home/jupyter/nltk_data...\n",
      "[nltk_data]   Package omw-1.4 is already up-to-date!\n"
     ]
    }
   ],
   "source": [
    "dataset = df_lyrics_latin_s\n",
    "datacol = 'lyrics'\n",
    "from sklearn.feature_extraction.text import CountVectorizer\n",
    "import re\n",
    "import string\n",
    "from nltk.stem.porter import PorterStemmer\n",
    "from nltk.stem.wordnet import WordNetLemmatizer\n",
    "nltk.download('omw-1.4')\n",
    "lem = WordNetLemmatizer()\n",
    "ps = PorterStemmer()\n",
    "stop_words = set(stopwords.words(\"english\"))"
   ]
  },
  {
   "cell_type": "code",
   "execution_count": 88,
   "id": "ba60a8a4",
   "metadata": {},
   "outputs": [],
   "source": [
    "# Pre-process dataset to get a cleaned and normalised text corpus\n",
    "corpus = []\n",
    "dataset['word_count'] = dataset[datacol].apply(lambda x: len(str(x).split(\" \")))\n",
    "ds_count = len(dataset.word_count)\n",
    "for i in range(0, ds_count):\n",
    "    #Remove punctuation\n",
    "    text = [re.sub('[^a-zA-Z]', ' ',i) for i in dataset[datacol]]\n",
    "\n",
    "    #Convert to lowercase\n",
    "    text = [word.lower() for word in text]\n",
    "\n",
    "    #Remove tags\n",
    "    text = [re.sub(\"&lt;/?.*?&gt;\",\" &lt;&gt; \",i) for i in text]\n",
    "\n",
    "    #Remove special characters and digits\n",
    "    text = [re.sub(\"(\\\\d|\\\\W)+\",\" \",i) for i in text]\n",
    "\n",
    "    #Stemming\n",
    "    ps = PorterStemmer()\n",
    "\n",
    "    #Lemmatisation\n",
    "    lem = WordNetLemmatizer()\n",
    "    text = [lem.lemmatize(word) for word in text if not word in stop_words]\n",
    "    text = \" \".join(text)\n",
    "    corpus.append(text)"
   ]
  },
  {
   "cell_type": "code",
   "execution_count": 89,
   "id": "a1578d67",
   "metadata": {},
   "outputs": [
    {
     "name": "stdout",
     "output_type": "stream",
     "text": [
      "<wordcloud.wordcloud.WordCloud object at 0x7fdcfd6474c0>\n"
     ]
    },
    {
     "data": {
      "image/png": "[encoded data removed]",
      "text/plain": [
       "<Figure size 432x288 with 1 Axes>"
      ]
     },
     "metadata": {
      "needs_background": "light"
     },
     "output_type": "display_data"
    }
   ],
   "source": [
    "#Generate word cloud\n",
    "from os import path\n",
    "from PIL import Image\n",
    "from wordcloud import WordCloud, STOPWORDS, ImageColorGenerator\n",
    "import matplotlib.pyplot as plt\n",
    "%matplotlib inline\n",
    "wordcloud = WordCloud(\n",
    "                        background_color = 'white',\n",
    "                        stopwords = stop_words,\n",
    "                        max_words = 100,\n",
    "                        max_font_size = 50,\n",
    "                        random_state = 42\n",
    "                        ).generate(str(corpus))\n",
    "print(wordcloud)\n",
    "fig = plt.figure(1)\n",
    "plt.imshow(wordcloud)\n",
    "plt.axis('off')\n",
    "plt.show()"
   ]
  },
  {
   "cell_type": "code",
   "execution_count": 90,
   "id": "84a1dd97",
   "metadata": {},
   "outputs": [],
   "source": [
    "#Tokenize the text and build a vocabulary of known words\n",
    "from sklearn.feature_extraction.text import CountVectorizer\n",
    "import re \n",
    "cv = CountVectorizer(stop_words = stop_words, ngram_range = (1,3))\n",
    "X = cv.fit_transform(corpus)"
   ]
  },
  {
   "cell_type": "code",
   "execution_count": 91,
   "id": "ab7059ad",
   "metadata": {},
   "outputs": [
    {
     "data": {
      "text/plain": [
       "['began',\n",
       " 'begin',\n",
       " 'knowin',\n",
       " 'know',\n",
       " 'growing',\n",
       " 'strong',\n",
       " 'spring',\n",
       " 'became',\n",
       " 'summer',\n",
       " 'believed']"
      ]
     },
     "execution_count": 91,
     "metadata": {},
     "output_type": "execute_result"
    }
   ],
   "source": [
    "#Sample the returned vector encoding the length of the entire vocabulary\n",
    "list(cv.vocabulary_.keys())[:10]"
   ]
  },
  {
   "cell_type": "code",
   "execution_count": 92,
   "id": "c045020c",
   "metadata": {},
   "outputs": [
    {
     "data": {
      "text/plain": [
       "8219"
      ]
     },
     "execution_count": 92,
     "metadata": {},
     "output_type": "execute_result"
    }
   ],
   "source": [
    "len(list(cv.vocabulary_.keys()))"
   ]
  },
  {
   "cell_type": "markdown",
   "id": "16c6dd0e",
   "metadata": {},
   "source": [
    "### Extract most frequently occuring keywords and n-grams"
   ]
  },
  {
   "cell_type": "markdown",
   "id": "f12d5941",
   "metadata": {},
   "source": [
    "#### Unigrams"
   ]
  },
  {
   "cell_type": "code",
   "execution_count": 93,
   "id": "e196b2be",
   "metadata": {
    "scrolled": true
   },
   "outputs": [
    {
     "name": "stdout",
     "output_type": "stream",
     "text": [
      "   Keyword  Frequency\n",
      "0       oh       9786\n",
      "1     love       8022\n",
      "2       go       6720\n",
      "3     know       5124\n",
      "4     like       4032\n",
      "5      get       4032\n",
      "6    cause       3948\n",
      "7     baby       3948\n",
      "8      try       3780\n",
      "9      let       3654\n",
      "10    come       3024\n",
      "11     say       2982\n",
      "12    time       2940\n",
      "13    yeah       2730\n",
      "14    tell       2688\n",
      "15    away       2520\n",
      "16     one       2100\n",
      "17     see       2058\n",
      "18    life       2058\n",
      "19    back       2016\n"
     ]
    },
    {
     "data": {
      "text/plain": [
       "[Text(0, 0, 'oh'),\n",
       " Text(1, 0, 'love'),\n",
       " Text(2, 0, 'go'),\n",
       " Text(3, 0, 'know'),\n",
       " Text(4, 0, 'like'),\n",
       " Text(5, 0, 'get'),\n",
       " Text(6, 0, 'cause'),\n",
       " Text(7, 0, 'baby'),\n",
       " Text(8, 0, 'try'),\n",
       " Text(9, 0, 'let'),\n",
       " Text(10, 0, 'come'),\n",
       " Text(11, 0, 'say'),\n",
       " Text(12, 0, 'time'),\n",
       " Text(13, 0, 'yeah'),\n",
       " Text(14, 0, 'tell'),\n",
       " Text(15, 0, 'away'),\n",
       " Text(16, 0, 'one'),\n",
       " Text(17, 0, 'see'),\n",
       " Text(18, 0, 'life'),\n",
       " Text(19, 0, 'back')]"
      ]
     },
     "execution_count": 93,
     "metadata": {},
     "output_type": "execute_result"
    },
    {
     "data": {
      "image/png": "[encoded data removed]",
      "text/plain": [
       "<Figure size 936x576 with 1 Axes>"
      ]
     },
     "metadata": {},
     "output_type": "display_data"
    }
   ],
   "source": [
    "#View most frequently occuring keywords\n",
    "def get_top_n_words(corpus, n=None):\n",
    "    vec = CountVectorizer(stop_words = stop_words).fit(corpus)\n",
    "    bag_of_words = vec.transform(corpus)\n",
    "    sum_words = bag_of_words.sum(axis = 0)\n",
    "    words_freq = [(word, sum_words[0, idx]) for word, idx in\n",
    "                 vec.vocabulary_.items()]\n",
    "    words_freq = sorted(words_freq, key = lambda x: x[1],\n",
    "                       reverse = True)\n",
    "    return words_freq[:n]\n",
    "    \n",
    "#Convert most freq words to dataframe for plotting bar plot\n",
    "top_words = get_top_n_words(corpus, n=20)\n",
    "top_df = pd.DataFrame(top_words)\n",
    "top_df.columns = [\"Keyword\", \"Frequency\"]\n",
    "print(top_df)\n",
    "\n",
    "#Barplot of most freq words\n",
    "import seaborn as sns\n",
    "sns.set(rc = {'figure.figsize':(13,8)})\n",
    "g = sns.barplot(x=\"Keyword\", y=\"Frequency\", data = top_df)\n",
    "g.set_xticklabels(g.get_xticklabels(), rotation = 45)\n"
   ]
  },
  {
   "cell_type": "markdown",
   "id": "d63ae69f",
   "metadata": {},
   "source": [
    "#### Bigrams"
   ]
  },
  {
   "cell_type": "code",
   "execution_count": 94,
   "id": "4a1eb0df",
   "metadata": {
    "scrolled": true
   },
   "outputs": [
    {
     "name": "stdout",
     "output_type": "stream",
     "text": [
      "         Bi-gram  Frequency\n",
      "0          oh oh       2436\n",
      "1        love oh       1722\n",
      "2        try try       1680\n",
      "3         let go       1554\n",
      "4      cause get       1386\n",
      "5        oh love       1386\n",
      "6      get cause       1344\n",
      "7          go go       1344\n",
      "8        go stop       1260\n",
      "9       bet life       1134\n",
      "10     yeah yeah       1092\n",
      "11     good time       1092\n",
      "12     know know       1008\n",
      "13         ay ay       1008\n",
      "14     come back       1008\n",
      "15     gotta get        966\n",
      "16   always good        966\n",
      "17  walking away        924\n",
      "18       whoa oh        882\n",
      "19     back come        882\n"
     ]
    },
    {
     "data": {
      "text/plain": [
       "[Text(0, 0, 'oh'),\n",
       " Text(1, 0, 'love'),\n",
       " Text(2, 0, 'go'),\n",
       " Text(3, 0, 'know'),\n",
       " Text(4, 0, 'like'),\n",
       " Text(5, 0, 'get'),\n",
       " Text(6, 0, 'cause'),\n",
       " Text(7, 0, 'baby'),\n",
       " Text(8, 0, 'try'),\n",
       " Text(9, 0, 'let'),\n",
       " Text(10, 0, 'come'),\n",
       " Text(11, 0, 'say'),\n",
       " Text(12, 0, 'time'),\n",
       " Text(13, 0, 'yeah'),\n",
       " Text(14, 0, 'tell'),\n",
       " Text(15, 0, 'away'),\n",
       " Text(16, 0, 'one'),\n",
       " Text(17, 0, 'see'),\n",
       " Text(18, 0, 'life'),\n",
       " Text(19, 0, 'back')]"
      ]
     },
     "execution_count": 94,
     "metadata": {},
     "output_type": "execute_result"
    },
    {
     "data": {
      "image/png": "[encoded data removed]",
      "text/plain": [
       "<Figure size 936x576 with 1 Axes>"
      ]
     },
     "metadata": {},
     "output_type": "display_data"
    }
   ],
   "source": [
    "#View most frequently occuring bigrams\n",
    "def get_top_n2_words(corpus, n=None):\n",
    "    vec1 = CountVectorizer(stop_words = stop_words, ngram_range=(2,2)).fit(corpus)\n",
    "    bag_of_words = vec1.transform(corpus)\n",
    "    sum_words = bag_of_words.sum(axis = 0)\n",
    "    words_freq = [(word, sum_words[0, idx]) for word, idx in\n",
    "                 vec1.vocabulary_.items()]\n",
    "    words_freq = sorted(words_freq, key = lambda x: x[1],\n",
    "                       reverse = True)\n",
    "    return words_freq[:n]\n",
    "    \n",
    "#Convert most freq words to dataframe for plotting bar plot, save as CSV\n",
    "top2_words = get_top_n2_words(corpus, n=20)\n",
    "top2_df = pd.DataFrame(top2_words)\n",
    "top2_df.columns = [\"Bi-gram\", \"Frequency\"]\n",
    "print(top2_df)\n",
    "\n",
    "#Barplot of most freq words\n",
    "import seaborn as sns\n",
    "sns.set(rc = {'figure.figsize':(13,8)})\n",
    "h = sns.barplot(x=\"Bi-gram\", y=\"Frequency\", data = top2_df)\n",
    "h.set_xticklabels(h.get_xticklabels(), rotation = 75)"
   ]
  },
  {
   "cell_type": "markdown",
   "id": "a7766f82",
   "metadata": {},
   "source": [
    "#### Trigrams"
   ]
  },
  {
   "cell_type": "code",
   "execution_count": 95,
   "id": "4db2fdf4",
   "metadata": {},
   "outputs": [
    {
     "name": "stdout",
     "output_type": "stream",
     "text": [
      "             Tri-gram  Frequency\n",
      "0     cause get cause       1344\n",
      "1          oh love oh       1176\n",
      "2        love oh love       1050\n",
      "3    always good time        966\n",
      "4            oh oh oh        924\n",
      "5          whoa oh oh        882\n",
      "6        bet life bet        840\n",
      "7      back come back        840\n",
      "8      go stop rockin        840\n",
      "9    stop rockin tune        840\n",
      "10  rockin tune cause        840\n",
      "11           go go go        840\n",
      "12     come back come        756\n",
      "13        try try try        714\n",
      "14      life bet life        672\n",
      "15     tune cause get        672\n",
      "16      get cause get        672\n",
      "17       get cause go        672\n",
      "18      cause go stop        672\n",
      "19      gotta get try        630\n"
     ]
    },
    {
     "data": {
      "text/plain": [
       "[Text(0, 0, 'oh'),\n",
       " Text(1, 0, 'love'),\n",
       " Text(2, 0, 'go'),\n",
       " Text(3, 0, 'know'),\n",
       " Text(4, 0, 'like'),\n",
       " Text(5, 0, 'get'),\n",
       " Text(6, 0, 'cause'),\n",
       " Text(7, 0, 'baby'),\n",
       " Text(8, 0, 'try'),\n",
       " Text(9, 0, 'let'),\n",
       " Text(10, 0, 'come'),\n",
       " Text(11, 0, 'say'),\n",
       " Text(12, 0, 'time'),\n",
       " Text(13, 0, 'yeah'),\n",
       " Text(14, 0, 'tell'),\n",
       " Text(15, 0, 'away'),\n",
       " Text(16, 0, 'one'),\n",
       " Text(17, 0, 'see'),\n",
       " Text(18, 0, 'life'),\n",
       " Text(19, 0, 'back')]"
      ]
     },
     "execution_count": 95,
     "metadata": {},
     "output_type": "execute_result"
    },
    {
     "data": {
      "image/png": "[encoded data removed]",
      "text/plain": [
       "<Figure size 936x576 with 1 Axes>"
      ]
     },
     "metadata": {},
     "output_type": "display_data"
    }
   ],
   "source": [
    "#View most frequently occuring trigrams\n",
    "def get_top_n3_words(corpus, n=None):\n",
    "    vec = CountVectorizer(stop_words = stop_words, ngram_range=(3,3)).fit(corpus)\n",
    "    bag_of_words = vec.transform(corpus)\n",
    "    sum_words = bag_of_words.sum(axis = 0)\n",
    "    words_freq = [(word, sum_words[0, idx]) for word, idx in\n",
    "                 vec.vocabulary_.items()]\n",
    "    words_freq = sorted(words_freq, key = lambda x: x[1],\n",
    "                       reverse = True)\n",
    "    return words_freq[:n]\n",
    "    \n",
    "#Convert most freq trigrams to dataframe for plotting bar plot, save as CSV\n",
    "top3_words = get_top_n3_words(corpus, n=20)\n",
    "top3_df = pd.DataFrame(top3_words)\n",
    "top3_df.columns = [\"Tri-gram\", \"Frequency\"]\n",
    "print(top3_df)\n",
    "\n",
    "#Barplot of most freq Tri-grams\n",
    "import seaborn as sns\n",
    "sns.set(rc = {'figure.figsize':(13,8)})\n",
    "j = sns.barplot(x=\"Tri-gram\", y=\"Frequency\", data = top3_df)\n",
    "j.set_xticklabels(j.get_xticklabels(), rotation = 75)"
   ]
  },
  {
   "cell_type": "code",
   "execution_count": null,
   "id": "c76a8a4c",
   "metadata": {},
   "outputs": [],
   "source": []
  }
 ],
 "metadata": {
  "kernelspec": {
   "display_name": "Python 3",
   "language": "python",
   "name": "python3"
  },
  "language_info": {
   "codemirror_mode": {
    "name": "ipython",
    "version": 3
   },
   "file_extension": ".py",
   "mimetype": "text/x-python",
   "name": "python",
   "nbconvert_exporter": "python",
   "pygments_lexer": "ipython3",
   "version": "3.8.8"
  }
 },
 "nbformat": 4,
 "nbformat_minor": 5
}
