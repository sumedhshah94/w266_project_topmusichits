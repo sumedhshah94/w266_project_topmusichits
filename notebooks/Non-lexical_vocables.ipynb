{
 "cells": [
  {
   "cell_type": "markdown",
   "id": "8a199ca8",
   "metadata": {},
   "source": [
    "# Non-lexical vocables"
   ]
  },
  {
   "cell_type": "code",
   "execution_count": 2,
   "id": "07d2616d",
   "metadata": {},
   "outputs": [
    {
     "name": "stderr",
     "output_type": "stream",
     "text": [
      "[nltk_data] Downloading package stopwords to\n",
      "[nltk_data]     /home/jupyter/nltk_data...\n",
      "[nltk_data]   Package stopwords is already up-to-date!\n",
      "[nltk_data] Downloading package wordnet to /home/jupyter/nltk_data...\n",
      "[nltk_data]   Package wordnet is already up-to-date!\n"
     ]
    }
   ],
   "source": [
    "#!pip install pyspark\n",
    "#!pip install wordcloud\n",
    "import numpy as np\n",
    "import pandas as pd\n",
    "from pyspark.sql import HiveContext\n",
    "from pyspark import SparkContext\n",
    "#hive_context = HiveContext(sc)\n",
    "from os import path\n",
    "from PIL import Image\n",
    "from wordcloud import WordCloud, STOPWORDS, ImageColorGenerator\n",
    "\n",
    "import matplotlib.pyplot as plt\n",
    "%matplotlib inline\n",
    "import os\n",
    "import sys\n",
    "sys.path.append(os.getcwd())\n",
    "\n",
    "import re\n",
    "import nltk\n",
    "\n",
    "nltk.download('stopwords')\n",
    "nltk.download('wordnet')\n",
    "\n",
    "from nltk.corpus import stopwords\n",
    "from nltk.stem.porter import PorterStemmer\n",
    "from nltk.tokenize import RegexpTokenizer\n",
    "from nltk.stem.wordnet import WordNetLemmatizer"
   ]
  },
  {
   "cell_type": "code",
   "execution_count": 3,
   "id": "246fc7f5",
   "metadata": {},
   "outputs": [
    {
     "data": {
      "text/plain": [
       "'/home/jupyter/w266_project_topmusichits/notebooks'"
      ]
     },
     "execution_count": 3,
     "metadata": {},
     "output_type": "execute_result"
    }
   ],
   "source": [
    "pwd"
   ]
  },
  {
   "cell_type": "code",
   "execution_count": 5,
   "id": "6ecabfd0",
   "metadata": {},
   "outputs": [],
   "source": [
    "df = pd.read_csv(\"/home/jupyter/w266_project_topmusichits/data/interim/songs_charts_new_2000s.csv\")\n",
    "df2 = pd.read_csv(\"/home/jupyter/w266_project_topmusichits/data/interim/songs_charts_new_2000s.csv\")\n"
   ]
  },
  {
   "cell_type": "code",
   "execution_count": 6,
   "id": "688e133e",
   "metadata": {},
   "outputs": [
    {
     "data": {
      "text/plain": [
       "Index(['song_name', 'artist_name', 'lyrics', 'album_name', 'genre', 'subgenre',\n",
       "       'danceability', 'energy', 'key', 'loudness', 'mode', 'speechiness',\n",
       "       'acousticness', 'instrumentalness', 'liveness', 'valence', 'tempo',\n",
       "       'duration_ms', 'song_year', 'trending_year', 'weeks_on_chart', 'hit',\n",
       "       'star'],\n",
       "      dtype='object')"
      ]
     },
     "execution_count": 6,
     "metadata": {},
     "output_type": "execute_result"
    }
   ],
   "source": [
    "df.columns"
   ]
  },
  {
   "cell_type": "code",
   "execution_count": 7,
   "id": "29d11c09",
   "metadata": {},
   "outputs": [],
   "source": [
    "df['lyrics_lower'] = df['lyrics'].str.lower()"
   ]
  },
  {
   "cell_type": "code",
   "execution_count": 8,
   "id": "acb05924",
   "metadata": {},
   "outputs": [],
   "source": [
    "#Non-lexical vocables identified in the data:\n",
    "#     'nah'\n",
    "#     'na'\n",
    "#     'oh'\n",
    "#     'ooh'\n",
    "#     'oo'\n",
    "#     'uh'\n",
    "#     'la'\n",
    "#     'ah'\n",
    "#     'doo'\n",
    "#     'da'\n",
    "\n",
    "df['nah']=df.lyrics_lower.str.count(\"nah\")\n",
    "df['na']=df.lyrics_lower.str.count(\"na\")\n",
    "df['oh']=df.lyrics_lower.str.count(\"oh\")\n",
    "df['ooh']=df.lyrics_lower.str.count(\"ooh\")\n",
    "df['oo']=df.lyrics_lower.str.count(\"oo\")\n",
    "df['uh']=df.lyrics_lower.str.count(\"uh\")\n",
    "df['la']=df.lyrics_lower.str.count(\"la\")\n",
    "df['ah']=df.lyrics_lower.str.count(\"ah\")\n",
    "df['doo']=df.lyrics_lower.str.count(\"doo\")\n",
    "df['da']=df.lyrics_lower.str.count(\"da\")\n",
    "df['num_nonlexvoc_1'] = df['nah'] + df['na'] + df['oh'] + df['ooh'] + df['oo'] + df['uh'] + df['la'] + df['ah'] + df['doo'] + df['da']\n",
    "df['nah nah nah']=df.lyrics_lower.str.count(\"nah nah nah\")\n",
    "df['na na na']=df.lyrics_lower.str.count(\"na na na\")\n",
    "df['oh oh oh']=df.lyrics_lower.str.count(\"oh oh oh\")\n",
    "df['ooh ooh ooh']=df.lyrics_lower.str.count(\"ooh ooh ooh\")\n",
    "df['oo oo oo']=df.lyrics_lower.str.count(\"oo oo oo\")\n",
    "df['uh uh uh']=df.lyrics_lower.str.count(\"uh uh uh\")\n",
    "df['la la la']=df.lyrics_lower.str.count(\"la la la\")\n",
    "df['ah ah ah']=df.lyrics_lower.str.count(\"ah ah ah\")\n",
    "df['doo doo doo']=df.lyrics_lower.str.count(\"doo doo doo\")\n",
    "df['da da da']=df.lyrics_lower.str.count(\"da da da\")\n",
    "df['num_nonlexvoc_3'] = df['nah nah nah'] + df['na na na'] + df['oh oh oh'] + df['ooh ooh ooh'] + df['oo oo oo'] + df['uh uh uh'] + df['la la la'] + df['ah ah ah'] + df['doo doo doo'] + df['da da da']"
   ]
  },
  {
   "cell_type": "code",
   "execution_count": 9,
   "id": "5449aa89",
   "metadata": {},
   "outputs": [
    {
     "data": {
      "text/html": [
       "<div>\n",
       "<style scoped>\n",
       "    .dataframe tbody tr th:only-of-type {\n",
       "        vertical-align: middle;\n",
       "    }\n",
       "\n",
       "    .dataframe tbody tr th {\n",
       "        vertical-align: top;\n",
       "    }\n",
       "\n",
       "    .dataframe thead th {\n",
       "        text-align: right;\n",
       "    }\n",
       "</style>\n",
       "<table border=\"1\" class=\"dataframe\">\n",
       "  <thead>\n",
       "    <tr style=\"text-align: right;\">\n",
       "      <th></th>\n",
       "      <th>song_name</th>\n",
       "      <th>artist_name</th>\n",
       "      <th>lyrics</th>\n",
       "      <th>album_name</th>\n",
       "      <th>genre</th>\n",
       "      <th>subgenre</th>\n",
       "      <th>danceability</th>\n",
       "      <th>energy</th>\n",
       "      <th>key</th>\n",
       "      <th>loudness</th>\n",
       "      <th>...</th>\n",
       "      <th>na na na</th>\n",
       "      <th>oh oh oh</th>\n",
       "      <th>ooh ooh ooh</th>\n",
       "      <th>oo oo oo</th>\n",
       "      <th>uh uh uh</th>\n",
       "      <th>la la la</th>\n",
       "      <th>ah ah ah</th>\n",
       "      <th>doo doo doo</th>\n",
       "      <th>da da da</th>\n",
       "      <th>num_nonlexvoc_3</th>\n",
       "    </tr>\n",
       "  </thead>\n",
       "  <tbody>\n",
       "    <tr>\n",
       "      <th>0</th>\n",
       "      <td>?</td>\n",
       "      <td>MF DOOM</td>\n",
       "      <td>NA My servants began to forge what was to beco...</td>\n",
       "      <td>Operation: Doomsday (Complete)</td>\n",
       "      <td>rap</td>\n",
       "      <td>gangster rap</td>\n",
       "      <td>0.532</td>\n",
       "      <td>0.629</td>\n",
       "      <td>10</td>\n",
       "      <td>-7.955</td>\n",
       "      <td>...</td>\n",
       "      <td>0</td>\n",
       "      <td>0</td>\n",
       "      <td>0</td>\n",
       "      <td>0</td>\n",
       "      <td>0</td>\n",
       "      <td>0</td>\n",
       "      <td>0</td>\n",
       "      <td>0</td>\n",
       "      <td>0</td>\n",
       "      <td>0</td>\n",
       "    </tr>\n",
       "    <tr>\n",
       "      <th>1</th>\n",
       "      <td>0 To 100 / The Catch Up</td>\n",
       "      <td>Drake</td>\n",
       "      <td>NA NA Fuck bein' on some chill shit We go 0 to...</td>\n",
       "      <td>0 To 100 / The Catch Up</td>\n",
       "      <td>r&amp;b</td>\n",
       "      <td>urban contemporary</td>\n",
       "      <td>0.559</td>\n",
       "      <td>0.716</td>\n",
       "      <td>11</td>\n",
       "      <td>-3.964</td>\n",
       "      <td>...</td>\n",
       "      <td>0</td>\n",
       "      <td>0</td>\n",
       "      <td>0</td>\n",
       "      <td>0</td>\n",
       "      <td>0</td>\n",
       "      <td>0</td>\n",
       "      <td>0</td>\n",
       "      <td>0</td>\n",
       "      <td>0</td>\n",
       "      <td>0</td>\n",
       "    </tr>\n",
       "    <tr>\n",
       "      <th>2</th>\n",
       "      <td>10%</td>\n",
       "      <td>KAYTRANADA</td>\n",
       "      <td>You keep on takin' from me But where's my ten ...</td>\n",
       "      <td>BUBBA</td>\n",
       "      <td>r&amp;b</td>\n",
       "      <td>urban contemporary</td>\n",
       "      <td>0.794</td>\n",
       "      <td>0.757</td>\n",
       "      <td>6</td>\n",
       "      <td>-6.644</td>\n",
       "      <td>...</td>\n",
       "      <td>0</td>\n",
       "      <td>0</td>\n",
       "      <td>0</td>\n",
       "      <td>0</td>\n",
       "      <td>0</td>\n",
       "      <td>0</td>\n",
       "      <td>0</td>\n",
       "      <td>0</td>\n",
       "      <td>0</td>\n",
       "      <td>0</td>\n",
       "    </tr>\n",
       "    <tr>\n",
       "      <th>3</th>\n",
       "      <td>1000 Nights</td>\n",
       "      <td>FRENSHIP</td>\n",
       "      <td>When the fever's gone And the road's to dust I...</td>\n",
       "      <td>1000 Nights</td>\n",
       "      <td>pop</td>\n",
       "      <td>indie poptimism</td>\n",
       "      <td>0.594</td>\n",
       "      <td>0.709</td>\n",
       "      <td>6</td>\n",
       "      <td>-9.541</td>\n",
       "      <td>...</td>\n",
       "      <td>0</td>\n",
       "      <td>0</td>\n",
       "      <td>8</td>\n",
       "      <td>0</td>\n",
       "      <td>0</td>\n",
       "      <td>0</td>\n",
       "      <td>0</td>\n",
       "      <td>0</td>\n",
       "      <td>0</td>\n",
       "      <td>8</td>\n",
       "    </tr>\n",
       "    <tr>\n",
       "      <th>4</th>\n",
       "      <td>1000 Rounds</td>\n",
       "      <td>Pouya</td>\n",
       "      <td>Bullets fly, legs buckle, bodies pile to the s...</td>\n",
       "      <td>1000 Rounds</td>\n",
       "      <td>rap</td>\n",
       "      <td>gangster rap</td>\n",
       "      <td>0.825</td>\n",
       "      <td>0.761</td>\n",
       "      <td>8</td>\n",
       "      <td>-5.389</td>\n",
       "      <td>...</td>\n",
       "      <td>0</td>\n",
       "      <td>0</td>\n",
       "      <td>0</td>\n",
       "      <td>0</td>\n",
       "      <td>0</td>\n",
       "      <td>0</td>\n",
       "      <td>0</td>\n",
       "      <td>0</td>\n",
       "      <td>0</td>\n",
       "      <td>0</td>\n",
       "    </tr>\n",
       "  </tbody>\n",
       "</table>\n",
       "<p>5 rows × 46 columns</p>\n",
       "</div>"
      ],
      "text/plain": [
       "                 song_name artist_name  \\\n",
       "0                        ?     MF DOOM   \n",
       "1  0 To 100 / The Catch Up       Drake   \n",
       "2                      10%  KAYTRANADA   \n",
       "3              1000 Nights    FRENSHIP   \n",
       "4              1000 Rounds       Pouya   \n",
       "\n",
       "                                              lyrics  \\\n",
       "0  NA My servants began to forge what was to beco...   \n",
       "1  NA NA Fuck bein' on some chill shit We go 0 to...   \n",
       "2  You keep on takin' from me But where's my ten ...   \n",
       "3  When the fever's gone And the road's to dust I...   \n",
       "4  Bullets fly, legs buckle, bodies pile to the s...   \n",
       "\n",
       "                       album_name genre            subgenre  danceability  \\\n",
       "0  Operation: Doomsday (Complete)   rap        gangster rap         0.532   \n",
       "1         0 To 100 / The Catch Up   r&b  urban contemporary         0.559   \n",
       "2                           BUBBA   r&b  urban contemporary         0.794   \n",
       "3                     1000 Nights   pop     indie poptimism         0.594   \n",
       "4                     1000 Rounds   rap        gangster rap         0.825   \n",
       "\n",
       "   energy  key  loudness  ...  na na na  oh oh oh  ooh ooh ooh  oo oo oo  \\\n",
       "0   0.629   10    -7.955  ...         0         0            0         0   \n",
       "1   0.716   11    -3.964  ...         0         0            0         0   \n",
       "2   0.757    6    -6.644  ...         0         0            0         0   \n",
       "3   0.709    6    -9.541  ...         0         0            8         0   \n",
       "4   0.761    8    -5.389  ...         0         0            0         0   \n",
       "\n",
       "   uh uh uh  la la la  ah ah ah  doo doo doo  da da da  num_nonlexvoc_3  \n",
       "0         0         0         0            0         0                0  \n",
       "1         0         0         0            0         0                0  \n",
       "2         0         0         0            0         0                0  \n",
       "3         0         0         0            0         0                8  \n",
       "4         0         0         0            0         0                0  \n",
       "\n",
       "[5 rows x 46 columns]"
      ]
     },
     "execution_count": 9,
     "metadata": {},
     "output_type": "execute_result"
    }
   ],
   "source": [
    "df.head()"
   ]
  },
  {
   "cell_type": "code",
   "execution_count": 10,
   "id": "09c14996",
   "metadata": {},
   "outputs": [
    {
     "data": {
      "text/plain": [
       "(8586, 46)"
      ]
     },
     "execution_count": 10,
     "metadata": {},
     "output_type": "execute_result"
    }
   ],
   "source": [
    "df.shape"
   ]
  },
  {
   "cell_type": "code",
   "execution_count": 11,
   "id": "ff71a216",
   "metadata": {},
   "outputs": [
    {
     "name": "stdout",
     "output_type": "stream",
     "text": [
      "282937\n",
      "1986\n"
     ]
    }
   ],
   "source": [
    "print(df['num_nonlexvoc_1'].sum())\n",
    "\n",
    "print(df['num_nonlexvoc_3'].sum())"
   ]
  },
  {
   "cell_type": "code",
   "execution_count": 12,
   "id": "3f254285",
   "metadata": {},
   "outputs": [
    {
     "data": {
      "text/html": [
       "<div>\n",
       "<style scoped>\n",
       "    .dataframe tbody tr th:only-of-type {\n",
       "        vertical-align: middle;\n",
       "    }\n",
       "\n",
       "    .dataframe tbody tr th {\n",
       "        vertical-align: top;\n",
       "    }\n",
       "\n",
       "    .dataframe thead th {\n",
       "        text-align: right;\n",
       "    }\n",
       "</style>\n",
       "<table border=\"1\" class=\"dataframe\">\n",
       "  <thead>\n",
       "    <tr style=\"text-align: right;\">\n",
       "      <th>num_nonlexvoc_1</th>\n",
       "      <th>0</th>\n",
       "      <th>1</th>\n",
       "      <th>2</th>\n",
       "      <th>3</th>\n",
       "      <th>4</th>\n",
       "      <th>5</th>\n",
       "      <th>6</th>\n",
       "      <th>7</th>\n",
       "      <th>8</th>\n",
       "      <th>9</th>\n",
       "      <th>...</th>\n",
       "      <th>593</th>\n",
       "      <th>616</th>\n",
       "      <th>618</th>\n",
       "      <th>732</th>\n",
       "      <th>772</th>\n",
       "      <th>864</th>\n",
       "      <th>924</th>\n",
       "      <th>960</th>\n",
       "      <th>1256</th>\n",
       "      <th>1280</th>\n",
       "    </tr>\n",
       "    <tr>\n",
       "      <th>hit</th>\n",
       "      <th></th>\n",
       "      <th></th>\n",
       "      <th></th>\n",
       "      <th></th>\n",
       "      <th></th>\n",
       "      <th></th>\n",
       "      <th></th>\n",
       "      <th></th>\n",
       "      <th></th>\n",
       "      <th></th>\n",
       "      <th></th>\n",
       "      <th></th>\n",
       "      <th></th>\n",
       "      <th></th>\n",
       "      <th></th>\n",
       "      <th></th>\n",
       "      <th></th>\n",
       "      <th></th>\n",
       "      <th></th>\n",
       "      <th></th>\n",
       "      <th></th>\n",
       "    </tr>\n",
       "  </thead>\n",
       "  <tbody>\n",
       "    <tr>\n",
       "      <th>0</th>\n",
       "      <td>171</td>\n",
       "      <td>135</td>\n",
       "      <td>169</td>\n",
       "      <td>223</td>\n",
       "      <td>256</td>\n",
       "      <td>223</td>\n",
       "      <td>250</td>\n",
       "      <td>246</td>\n",
       "      <td>247</td>\n",
       "      <td>235</td>\n",
       "      <td>...</td>\n",
       "      <td>1</td>\n",
       "      <td>1</td>\n",
       "      <td>0</td>\n",
       "      <td>1</td>\n",
       "      <td>0</td>\n",
       "      <td>1</td>\n",
       "      <td>0</td>\n",
       "      <td>0</td>\n",
       "      <td>0</td>\n",
       "      <td>0</td>\n",
       "    </tr>\n",
       "    <tr>\n",
       "      <th>1</th>\n",
       "      <td>7</td>\n",
       "      <td>5</td>\n",
       "      <td>18</td>\n",
       "      <td>18</td>\n",
       "      <td>21</td>\n",
       "      <td>27</td>\n",
       "      <td>26</td>\n",
       "      <td>32</td>\n",
       "      <td>29</td>\n",
       "      <td>30</td>\n",
       "      <td>...</td>\n",
       "      <td>0</td>\n",
       "      <td>0</td>\n",
       "      <td>1</td>\n",
       "      <td>0</td>\n",
       "      <td>1</td>\n",
       "      <td>0</td>\n",
       "      <td>1</td>\n",
       "      <td>1</td>\n",
       "      <td>1</td>\n",
       "      <td>1</td>\n",
       "    </tr>\n",
       "  </tbody>\n",
       "</table>\n",
       "<p>2 rows × 281 columns</p>\n",
       "</div>"
      ],
      "text/plain": [
       "num_nonlexvoc_1  0     1     2     3     4     5     6     7     8     9     \\\n",
       "hit                                                                           \n",
       "0                 171   135   169   223   256   223   250   246   247   235   \n",
       "1                   7     5    18    18    21    27    26    32    29    30   \n",
       "\n",
       "num_nonlexvoc_1  ...  593   616   618   732   772   864   924   960   1256  \\\n",
       "hit              ...                                                         \n",
       "0                ...     1     1     0     1     0     1     0     0     0   \n",
       "1                ...     0     0     1     0     1     0     1     1     1   \n",
       "\n",
       "num_nonlexvoc_1  1280  \n",
       "hit                    \n",
       "0                   0  \n",
       "1                   1  \n",
       "\n",
       "[2 rows x 281 columns]"
      ]
     },
     "execution_count": 12,
     "metadata": {},
     "output_type": "execute_result"
    }
   ],
   "source": [
    "pd.crosstab(df.hit, df.num_nonlexvoc_1)"
   ]
  },
  {
   "cell_type": "code",
   "execution_count": 13,
   "id": "8be01f22",
   "metadata": {},
   "outputs": [],
   "source": [
    "df.loc[df['num_nonlexvoc_1'] >=1, 'num_nonlexvoc_1b'] = 1\n",
    "df.loc[df['num_nonlexvoc_1'] ==0, 'num_nonlexvoc_1b'] = 0"
   ]
  },
  {
   "cell_type": "code",
   "execution_count": 14,
   "id": "6ee97ed8",
   "metadata": {},
   "outputs": [
    {
     "data": {
      "text/html": [
       "<div>\n",
       "<style scoped>\n",
       "    .dataframe tbody tr th:only-of-type {\n",
       "        vertical-align: middle;\n",
       "    }\n",
       "\n",
       "    .dataframe tbody tr th {\n",
       "        vertical-align: top;\n",
       "    }\n",
       "\n",
       "    .dataframe thead th {\n",
       "        text-align: right;\n",
       "    }\n",
       "</style>\n",
       "<table border=\"1\" class=\"dataframe\">\n",
       "  <thead>\n",
       "    <tr style=\"text-align: right;\">\n",
       "      <th>num_nonlexvoc_1b</th>\n",
       "      <th>0.0</th>\n",
       "      <th>1.0</th>\n",
       "    </tr>\n",
       "    <tr>\n",
       "      <th>hit</th>\n",
       "      <th></th>\n",
       "      <th></th>\n",
       "    </tr>\n",
       "  </thead>\n",
       "  <tbody>\n",
       "    <tr>\n",
       "      <th>0</th>\n",
       "      <td>171</td>\n",
       "      <td>6807</td>\n",
       "    </tr>\n",
       "    <tr>\n",
       "      <th>1</th>\n",
       "      <td>7</td>\n",
       "      <td>1601</td>\n",
       "    </tr>\n",
       "  </tbody>\n",
       "</table>\n",
       "</div>"
      ],
      "text/plain": [
       "num_nonlexvoc_1b  0.0   1.0\n",
       "hit                        \n",
       "0                 171  6807\n",
       "1                   7  1601"
      ]
     },
     "execution_count": 14,
     "metadata": {},
     "output_type": "execute_result"
    }
   ],
   "source": [
    "pd.crosstab(df.hit, df.num_nonlexvoc_1b)"
   ]
  },
  {
   "cell_type": "code",
   "execution_count": 15,
   "id": "53daf20b",
   "metadata": {},
   "outputs": [
    {
     "data": {
      "text/html": [
       "<div>\n",
       "<style scoped>\n",
       "    .dataframe tbody tr th:only-of-type {\n",
       "        vertical-align: middle;\n",
       "    }\n",
       "\n",
       "    .dataframe tbody tr th {\n",
       "        vertical-align: top;\n",
       "    }\n",
       "\n",
       "    .dataframe thead th {\n",
       "        text-align: right;\n",
       "    }\n",
       "</style>\n",
       "<table border=\"1\" class=\"dataframe\">\n",
       "  <thead>\n",
       "    <tr style=\"text-align: right;\">\n",
       "      <th>num_nonlexvoc_1b</th>\n",
       "      <th>0.0</th>\n",
       "      <th>1.0</th>\n",
       "    </tr>\n",
       "    <tr>\n",
       "      <th>hit</th>\n",
       "      <th></th>\n",
       "      <th></th>\n",
       "    </tr>\n",
       "  </thead>\n",
       "  <tbody>\n",
       "    <tr>\n",
       "      <th>0</th>\n",
       "      <td>0.024506</td>\n",
       "      <td>0.975494</td>\n",
       "    </tr>\n",
       "    <tr>\n",
       "      <th>1</th>\n",
       "      <td>0.004353</td>\n",
       "      <td>0.995647</td>\n",
       "    </tr>\n",
       "  </tbody>\n",
       "</table>\n",
       "</div>"
      ],
      "text/plain": [
       "num_nonlexvoc_1b       0.0       1.0\n",
       "hit                                 \n",
       "0                 0.024506  0.975494\n",
       "1                 0.004353  0.995647"
      ]
     },
     "execution_count": 15,
     "metadata": {},
     "output_type": "execute_result"
    }
   ],
   "source": [
    "pd.crosstab(df.hit, df.num_nonlexvoc_1b, normalize='index')"
   ]
  },
  {
   "cell_type": "code",
   "execution_count": 16,
   "id": "fb3b23f1",
   "metadata": {},
   "outputs": [
    {
     "data": {
      "text/html": [
       "<div>\n",
       "<style scoped>\n",
       "    .dataframe tbody tr th:only-of-type {\n",
       "        vertical-align: middle;\n",
       "    }\n",
       "\n",
       "    .dataframe tbody tr th {\n",
       "        vertical-align: top;\n",
       "    }\n",
       "\n",
       "    .dataframe thead th {\n",
       "        text-align: right;\n",
       "    }\n",
       "</style>\n",
       "<table border=\"1\" class=\"dataframe\">\n",
       "  <thead>\n",
       "    <tr style=\"text-align: right;\">\n",
       "      <th>nah_b</th>\n",
       "      <th>0.0</th>\n",
       "      <th>1.0</th>\n",
       "    </tr>\n",
       "    <tr>\n",
       "      <th>hit</th>\n",
       "      <th></th>\n",
       "      <th></th>\n",
       "    </tr>\n",
       "  </thead>\n",
       "  <tbody>\n",
       "    <tr>\n",
       "      <th>0</th>\n",
       "      <td>0.961164</td>\n",
       "      <td>0.038836</td>\n",
       "    </tr>\n",
       "    <tr>\n",
       "      <th>1</th>\n",
       "      <td>0.937189</td>\n",
       "      <td>0.062811</td>\n",
       "    </tr>\n",
       "  </tbody>\n",
       "</table>\n",
       "</div>"
      ],
      "text/plain": [
       "nah_b       0.0       1.0\n",
       "hit                      \n",
       "0      0.961164  0.038836\n",
       "1      0.937189  0.062811"
      ]
     },
     "execution_count": 16,
     "metadata": {},
     "output_type": "execute_result"
    }
   ],
   "source": [
    "df.loc[df['nah'] >=1, 'nah_b'] = 1\n",
    "df.loc[df['nah'] ==0, 'nah_b'] = 0\n",
    "\n",
    "pd.crosstab(df.hit, df.nah_b, normalize='index')"
   ]
  },
  {
   "cell_type": "code",
   "execution_count": 17,
   "id": "44a1fbe5",
   "metadata": {},
   "outputs": [
    {
     "data": {
      "text/html": [
       "<div>\n",
       "<style scoped>\n",
       "    .dataframe tbody tr th:only-of-type {\n",
       "        vertical-align: middle;\n",
       "    }\n",
       "\n",
       "    .dataframe tbody tr th {\n",
       "        vertical-align: top;\n",
       "    }\n",
       "\n",
       "    .dataframe thead th {\n",
       "        text-align: right;\n",
       "    }\n",
       "</style>\n",
       "<table border=\"1\" class=\"dataframe\">\n",
       "  <thead>\n",
       "    <tr style=\"text-align: right;\">\n",
       "      <th>na_b</th>\n",
       "      <th>0.0</th>\n",
       "      <th>1.0</th>\n",
       "    </tr>\n",
       "    <tr>\n",
       "      <th>hit</th>\n",
       "      <th></th>\n",
       "      <th></th>\n",
       "    </tr>\n",
       "  </thead>\n",
       "  <tbody>\n",
       "    <tr>\n",
       "      <th>0</th>\n",
       "      <td>0.346948</td>\n",
       "      <td>0.653052</td>\n",
       "    </tr>\n",
       "    <tr>\n",
       "      <th>1</th>\n",
       "      <td>0.212687</td>\n",
       "      <td>0.787313</td>\n",
       "    </tr>\n",
       "  </tbody>\n",
       "</table>\n",
       "</div>"
      ],
      "text/plain": [
       "na_b       0.0       1.0\n",
       "hit                     \n",
       "0     0.346948  0.653052\n",
       "1     0.212687  0.787313"
      ]
     },
     "execution_count": 17,
     "metadata": {},
     "output_type": "execute_result"
    }
   ],
   "source": [
    "df.loc[df['na'] >=1, 'na_b'] = 1\n",
    "df.loc[df['na'] ==0, 'na_b'] = 0\n",
    "\n",
    "pd.crosstab(df.hit, df.na_b, normalize='index')"
   ]
  },
  {
   "cell_type": "code",
   "execution_count": 18,
   "id": "58db1c5a",
   "metadata": {},
   "outputs": [
    {
     "name": "stdout",
     "output_type": "stream",
     "text": [
      "1-40     6477\n",
      "41-80    1220\n",
      "80+       711\n",
      "0         178\n",
      "Name: num_nonlexvoc_1_ranges, dtype: int64\n"
     ]
    }
   ],
   "source": [
    "bins = [-np.inf, 0, 40, 80, np.inf]\n",
    "labels=['0', '1-40','41-80', '80+']\n",
    "df['num_nonlexvoc_1_ranges'] = pd.cut(df['num_nonlexvoc_1'], bins=bins, labels=labels)\n",
    "print(df['num_nonlexvoc_1_ranges'].value_counts())"
   ]
  },
  {
   "cell_type": "code",
   "execution_count": 19,
   "id": "3180a817",
   "metadata": {},
   "outputs": [
    {
     "data": {
      "text/html": [
       "<div>\n",
       "<style scoped>\n",
       "    .dataframe tbody tr th:only-of-type {\n",
       "        vertical-align: middle;\n",
       "    }\n",
       "\n",
       "    .dataframe tbody tr th {\n",
       "        vertical-align: top;\n",
       "    }\n",
       "\n",
       "    .dataframe thead th {\n",
       "        text-align: right;\n",
       "    }\n",
       "</style>\n",
       "<table border=\"1\" class=\"dataframe\">\n",
       "  <thead>\n",
       "    <tr style=\"text-align: right;\">\n",
       "      <th>num_nonlexvoc_1_ranges</th>\n",
       "      <th>0</th>\n",
       "      <th>1-40</th>\n",
       "      <th>41-80</th>\n",
       "      <th>80+</th>\n",
       "    </tr>\n",
       "    <tr>\n",
       "      <th>hit</th>\n",
       "      <th></th>\n",
       "      <th></th>\n",
       "      <th></th>\n",
       "      <th></th>\n",
       "    </tr>\n",
       "  </thead>\n",
       "  <tbody>\n",
       "    <tr>\n",
       "      <th>0</th>\n",
       "      <td>0.024506</td>\n",
       "      <td>0.797220</td>\n",
       "      <td>0.121955</td>\n",
       "      <td>0.056320</td>\n",
       "    </tr>\n",
       "    <tr>\n",
       "      <th>1</th>\n",
       "      <td>0.004353</td>\n",
       "      <td>0.568408</td>\n",
       "      <td>0.229478</td>\n",
       "      <td>0.197761</td>\n",
       "    </tr>\n",
       "  </tbody>\n",
       "</table>\n",
       "</div>"
      ],
      "text/plain": [
       "num_nonlexvoc_1_ranges         0      1-40     41-80       80+\n",
       "hit                                                           \n",
       "0                       0.024506  0.797220  0.121955  0.056320\n",
       "1                       0.004353  0.568408  0.229478  0.197761"
      ]
     },
     "execution_count": 19,
     "metadata": {},
     "output_type": "execute_result"
    }
   ],
   "source": [
    "pd.crosstab(df.hit, df['num_nonlexvoc_1_ranges'], normalize='index')"
   ]
  },
  {
   "cell_type": "code",
   "execution_count": 20,
   "id": "0e3c08ca",
   "metadata": {},
   "outputs": [
    {
     "name": "stdout",
     "output_type": "stream",
     "text": [
      "Low non-lexical vocables       6477\n",
      "Medium non-lexical vocables    1220\n",
      "High non-lexical vocables       711\n",
      "Zero non-lexical vocables       178\n",
      "Name: num_nonlexvoc_1_r_label, dtype: int64\n"
     ]
    }
   ],
   "source": [
    "bins = [-np.inf, 0, 40, 80, np.inf]\n",
    "labels=['Zero non-lexical vocables', 'Low non-lexical vocables','Medium non-lexical vocables', 'High non-lexical vocables']\n",
    "df['num_nonlexvoc_1_r_label'] = pd.cut(df['num_nonlexvoc_1'], bins=bins, labels=labels)\n",
    "print(df['num_nonlexvoc_1_r_label'].value_counts())"
   ]
  },
  {
   "cell_type": "code",
   "execution_count": 25,
   "id": "c29f1bc8",
   "metadata": {},
   "outputs": [],
   "source": [
    "df2['lyrics_lower'] = df2['lyrics'].str.lower()\n",
    "df2['nah']=df2.lyrics_lower.str.count(\"nah\")\n",
    "df2['na']=df2.lyrics_lower.str.count(\"na\")\n",
    "df2['oh']=df2.lyrics_lower.str.count(\"oh\")\n",
    "df2['ooh']=df2.lyrics_lower.str.count(\"ooh\")\n",
    "df2['oo']=df2.lyrics_lower.str.count(\"oo\")\n",
    "df2['uh']=df2.lyrics_lower.str.count(\"uh\")\n",
    "df2['la']=df2.lyrics_lower.str.count(\"la\")\n",
    "df2['ah']=df2.lyrics_lower.str.count(\"ah\")\n",
    "df2['doo']=df2.lyrics_lower.str.count(\"doo\")\n",
    "df2['da']=df2.lyrics_lower.str.count(\"da\")\n",
    "df2['num_nonlexvoc_1'] = df2['nah'] + df2['na'] + df2['oh'] + df2['ooh'] + df2['oo'] + df2['uh'] + df2['la'] + df2['ah'] + df2['doo'] + df2['da']\n",
    "df2 = df2.drop(columns=['lyrics_lower', 'nah', 'na', 'oh', 'ooh', 'oo', 'uh' , 'la', 'ah', 'doo', 'da'])\n",
    "bins = [-np.inf, 0, 40, 80, np.inf]\n",
    "labels=['Zero non-lexical vocables', 'Low non-lexical vocables','Medium non-lexical vocables', 'High non-lexical vocables']\n",
    "df2['num_nonlexvoc_1_r_label'] = pd.cut(df2['num_nonlexvoc_1'], bins=bins, labels=labels)\n"
   ]
  },
  {
   "cell_type": "code",
   "execution_count": 26,
   "id": "b142d740",
   "metadata": {},
   "outputs": [
    {
     "data": {
      "text/plain": [
       "Index(['song_name', 'artist_name', 'lyrics', 'album_name', 'genre', 'subgenre',\n",
       "       'danceability', 'energy', 'key', 'loudness', 'mode', 'speechiness',\n",
       "       'acousticness', 'instrumentalness', 'liveness', 'valence', 'tempo',\n",
       "       'duration_ms', 'song_year', 'trending_year', 'weeks_on_chart', 'hit',\n",
       "       'star', 'num_nonlexvoc_1', 'num_nonlexvoc_1_r_label'],\n",
       "      dtype='object')"
      ]
     },
     "execution_count": 26,
     "metadata": {},
     "output_type": "execute_result"
    }
   ],
   "source": [
    "df2.columns"
   ]
  },
  {
   "cell_type": "code",
   "execution_count": 30,
   "id": "57372e5a",
   "metadata": {},
   "outputs": [],
   "source": [
    "df2.to_csv('/home/jupyter/w266_project_topmusichits/data/interim/songs_charts_new_2000s.csv')"
   ]
  },
  {
   "cell_type": "markdown",
   "id": "704abeda",
   "metadata": {},
   "source": [
    "# Trigrams"
   ]
  },
  {
   "cell_type": "code",
   "execution_count": 17,
   "id": "155df012",
   "metadata": {},
   "outputs": [
    {
     "data": {
      "text/html": [
       "<div>\n",
       "<style scoped>\n",
       "    .dataframe tbody tr th:only-of-type {\n",
       "        vertical-align: middle;\n",
       "    }\n",
       "\n",
       "    .dataframe tbody tr th {\n",
       "        vertical-align: top;\n",
       "    }\n",
       "\n",
       "    .dataframe thead th {\n",
       "        text-align: right;\n",
       "    }\n",
       "</style>\n",
       "<table border=\"1\" class=\"dataframe\">\n",
       "  <thead>\n",
       "    <tr style=\"text-align: right;\">\n",
       "      <th>num_nonlexvoc_3</th>\n",
       "      <th>0</th>\n",
       "      <th>1</th>\n",
       "      <th>2</th>\n",
       "      <th>3</th>\n",
       "      <th>4</th>\n",
       "      <th>5</th>\n",
       "      <th>6</th>\n",
       "      <th>7</th>\n",
       "      <th>8</th>\n",
       "      <th>9</th>\n",
       "      <th>...</th>\n",
       "      <th>27</th>\n",
       "      <th>28</th>\n",
       "      <th>30</th>\n",
       "      <th>34</th>\n",
       "      <th>35</th>\n",
       "      <th>38</th>\n",
       "      <th>48</th>\n",
       "      <th>80</th>\n",
       "      <th>88</th>\n",
       "      <th>99</th>\n",
       "    </tr>\n",
       "    <tr>\n",
       "      <th>hit</th>\n",
       "      <th></th>\n",
       "      <th></th>\n",
       "      <th></th>\n",
       "      <th></th>\n",
       "      <th></th>\n",
       "      <th></th>\n",
       "      <th></th>\n",
       "      <th></th>\n",
       "      <th></th>\n",
       "      <th></th>\n",
       "      <th></th>\n",
       "      <th></th>\n",
       "      <th></th>\n",
       "      <th></th>\n",
       "      <th></th>\n",
       "      <th></th>\n",
       "      <th></th>\n",
       "      <th></th>\n",
       "      <th></th>\n",
       "      <th></th>\n",
       "      <th></th>\n",
       "    </tr>\n",
       "  </thead>\n",
       "  <tbody>\n",
       "    <tr>\n",
       "      <th>0</th>\n",
       "      <td>6785</td>\n",
       "      <td>50</td>\n",
       "      <td>24</td>\n",
       "      <td>15</td>\n",
       "      <td>20</td>\n",
       "      <td>8</td>\n",
       "      <td>15</td>\n",
       "      <td>2</td>\n",
       "      <td>9</td>\n",
       "      <td>4</td>\n",
       "      <td>...</td>\n",
       "      <td>0</td>\n",
       "      <td>1</td>\n",
       "      <td>3</td>\n",
       "      <td>1</td>\n",
       "      <td>2</td>\n",
       "      <td>1</td>\n",
       "      <td>1</td>\n",
       "      <td>0</td>\n",
       "      <td>1</td>\n",
       "      <td>0</td>\n",
       "    </tr>\n",
       "    <tr>\n",
       "      <th>1</th>\n",
       "      <td>1551</td>\n",
       "      <td>9</td>\n",
       "      <td>12</td>\n",
       "      <td>3</td>\n",
       "      <td>10</td>\n",
       "      <td>0</td>\n",
       "      <td>2</td>\n",
       "      <td>1</td>\n",
       "      <td>5</td>\n",
       "      <td>0</td>\n",
       "      <td>...</td>\n",
       "      <td>1</td>\n",
       "      <td>0</td>\n",
       "      <td>1</td>\n",
       "      <td>0</td>\n",
       "      <td>0</td>\n",
       "      <td>0</td>\n",
       "      <td>0</td>\n",
       "      <td>1</td>\n",
       "      <td>0</td>\n",
       "      <td>1</td>\n",
       "    </tr>\n",
       "  </tbody>\n",
       "</table>\n",
       "<p>2 rows × 33 columns</p>\n",
       "</div>"
      ],
      "text/plain": [
       "num_nonlexvoc_3    0   1   2   3   4   5   6   7   8   9   ...  27  28  30  \\\n",
       "hit                                                        ...               \n",
       "0                6785  50  24  15  20   8  15   2   9   4  ...   0   1   3   \n",
       "1                1551   9  12   3  10   0   2   1   5   0  ...   1   0   1   \n",
       "\n",
       "num_nonlexvoc_3  34  35  38  48  80  88  99  \n",
       "hit                                          \n",
       "0                 1   2   1   1   0   1   0  \n",
       "1                 0   0   0   0   1   0   1  \n",
       "\n",
       "[2 rows x 33 columns]"
      ]
     },
     "execution_count": 17,
     "metadata": {},
     "output_type": "execute_result"
    }
   ],
   "source": [
    "pd.crosstab(df.hit, df.num_nonlexvoc_3)"
   ]
  },
  {
   "cell_type": "code",
   "execution_count": 18,
   "id": "17fb3223",
   "metadata": {},
   "outputs": [],
   "source": [
    "df.loc[df['num_nonlexvoc_3'] >=1, 'num_nonlexvoc_3b'] = 1\n",
    "df.loc[df['num_nonlexvoc_3'] ==0, 'num_nonlexvoc_3b'] = 0"
   ]
  },
  {
   "cell_type": "code",
   "execution_count": 19,
   "id": "5d86181a",
   "metadata": {},
   "outputs": [
    {
     "data": {
      "text/html": [
       "<div>\n",
       "<style scoped>\n",
       "    .dataframe tbody tr th:only-of-type {\n",
       "        vertical-align: middle;\n",
       "    }\n",
       "\n",
       "    .dataframe tbody tr th {\n",
       "        vertical-align: top;\n",
       "    }\n",
       "\n",
       "    .dataframe thead th {\n",
       "        text-align: right;\n",
       "    }\n",
       "</style>\n",
       "<table border=\"1\" class=\"dataframe\">\n",
       "  <thead>\n",
       "    <tr style=\"text-align: right;\">\n",
       "      <th>num_nonlexvoc_3b</th>\n",
       "      <th>0.0</th>\n",
       "      <th>1.0</th>\n",
       "    </tr>\n",
       "    <tr>\n",
       "      <th>hit</th>\n",
       "      <th></th>\n",
       "      <th></th>\n",
       "    </tr>\n",
       "  </thead>\n",
       "  <tbody>\n",
       "    <tr>\n",
       "      <th>0</th>\n",
       "      <td>0.972342</td>\n",
       "      <td>0.027658</td>\n",
       "    </tr>\n",
       "    <tr>\n",
       "      <th>1</th>\n",
       "      <td>0.964552</td>\n",
       "      <td>0.035448</td>\n",
       "    </tr>\n",
       "  </tbody>\n",
       "</table>\n",
       "</div>"
      ],
      "text/plain": [
       "num_nonlexvoc_3b       0.0       1.0\n",
       "hit                                 \n",
       "0                 0.972342  0.027658\n",
       "1                 0.964552  0.035448"
      ]
     },
     "execution_count": 19,
     "metadata": {},
     "output_type": "execute_result"
    }
   ],
   "source": [
    "pd.crosstab(df.hit, df.num_nonlexvoc_3b, normalize='index')"
   ]
  },
  {
   "cell_type": "code",
   "execution_count": 20,
   "id": "92a0c160",
   "metadata": {},
   "outputs": [
    {
     "data": {
      "text/html": [
       "<div>\n",
       "<style scoped>\n",
       "    .dataframe tbody tr th:only-of-type {\n",
       "        vertical-align: middle;\n",
       "    }\n",
       "\n",
       "    .dataframe tbody tr th {\n",
       "        vertical-align: top;\n",
       "    }\n",
       "\n",
       "    .dataframe thead th {\n",
       "        text-align: right;\n",
       "    }\n",
       "</style>\n",
       "<table border=\"1\" class=\"dataframe\">\n",
       "  <thead>\n",
       "    <tr style=\"text-align: right;\">\n",
       "      <th>nah nah nah_b</th>\n",
       "      <th>0.0</th>\n",
       "      <th>1.0</th>\n",
       "    </tr>\n",
       "    <tr>\n",
       "      <th>hit</th>\n",
       "      <th></th>\n",
       "      <th></th>\n",
       "    </tr>\n",
       "  </thead>\n",
       "  <tbody>\n",
       "    <tr>\n",
       "      <th>0</th>\n",
       "      <td>0.99957</td>\n",
       "      <td>0.00043</td>\n",
       "    </tr>\n",
       "    <tr>\n",
       "      <th>1</th>\n",
       "      <td>1.00000</td>\n",
       "      <td>0.00000</td>\n",
       "    </tr>\n",
       "  </tbody>\n",
       "</table>\n",
       "</div>"
      ],
      "text/plain": [
       "nah nah nah_b      0.0      1.0\n",
       "hit                            \n",
       "0              0.99957  0.00043\n",
       "1              1.00000  0.00000"
      ]
     },
     "execution_count": 20,
     "metadata": {},
     "output_type": "execute_result"
    }
   ],
   "source": [
    "df.loc[df['nah nah nah'] >=1, 'nah nah nah_b'] = 1\n",
    "df.loc[df['nah nah nah'] ==0, 'nah nah nah_b'] = 0\n",
    "\n",
    "pd.crosstab(df.hit, df['nah nah nah_b'], normalize='index')"
   ]
  },
  {
   "cell_type": "code",
   "execution_count": 27,
   "id": "9e707cda",
   "metadata": {},
   "outputs": [
    {
     "name": "stdout",
     "output_type": "stream",
     "text": [
      "0      8336\n",
      "8+       79\n",
      "1        59\n",
      "4-7      58\n",
      "2-3      54\n",
      "Name: num_nonlexvoc_3_ranges, dtype: int64\n"
     ]
    }
   ],
   "source": [
    "bins = [-np.inf, 0, 1, 3, 7, np.inf]\n",
    "labels=['0', '1', '2-3', '4-7','8+']\n",
    "df['num_nonlexvoc_3_ranges'] = pd.cut(df['num_nonlexvoc_3'], bins=bins, labels=labels)\n",
    "print(df['num_nonlexvoc_3_ranges'].value_counts())"
   ]
  },
  {
   "cell_type": "code",
   "execution_count": 28,
   "id": "e48a0ec8",
   "metadata": {},
   "outputs": [
    {
     "data": {
      "text/html": [
       "<div>\n",
       "<style scoped>\n",
       "    .dataframe tbody tr th:only-of-type {\n",
       "        vertical-align: middle;\n",
       "    }\n",
       "\n",
       "    .dataframe tbody tr th {\n",
       "        vertical-align: top;\n",
       "    }\n",
       "\n",
       "    .dataframe thead th {\n",
       "        text-align: right;\n",
       "    }\n",
       "</style>\n",
       "<table border=\"1\" class=\"dataframe\">\n",
       "  <thead>\n",
       "    <tr style=\"text-align: right;\">\n",
       "      <th>num_nonlexvoc_3_ranges</th>\n",
       "      <th>0</th>\n",
       "      <th>1</th>\n",
       "      <th>2-3</th>\n",
       "      <th>4-7</th>\n",
       "      <th>8+</th>\n",
       "    </tr>\n",
       "    <tr>\n",
       "      <th>hit</th>\n",
       "      <th></th>\n",
       "      <th></th>\n",
       "      <th></th>\n",
       "      <th></th>\n",
       "      <th></th>\n",
       "    </tr>\n",
       "  </thead>\n",
       "  <tbody>\n",
       "    <tr>\n",
       "      <th>0</th>\n",
       "      <td>0.972342</td>\n",
       "      <td>0.007165</td>\n",
       "      <td>0.005589</td>\n",
       "      <td>0.006449</td>\n",
       "      <td>0.008455</td>\n",
       "    </tr>\n",
       "    <tr>\n",
       "      <th>1</th>\n",
       "      <td>0.964552</td>\n",
       "      <td>0.005597</td>\n",
       "      <td>0.009328</td>\n",
       "      <td>0.008085</td>\n",
       "      <td>0.012438</td>\n",
       "    </tr>\n",
       "  </tbody>\n",
       "</table>\n",
       "</div>"
      ],
      "text/plain": [
       "num_nonlexvoc_3_ranges         0         1       2-3       4-7        8+\n",
       "hit                                                                     \n",
       "0                       0.972342  0.007165  0.005589  0.006449  0.008455\n",
       "1                       0.964552  0.005597  0.009328  0.008085  0.012438"
      ]
     },
     "execution_count": 28,
     "metadata": {},
     "output_type": "execute_result"
    }
   ],
   "source": [
    "pd.crosstab(df.hit, df['num_nonlexvoc_3_ranges'], normalize='index')"
   ]
  },
  {
   "cell_type": "code",
   "execution_count": 29,
   "id": "fae63bd0",
   "metadata": {},
   "outputs": [
    {
     "data": {
      "text/html": [
       "<div>\n",
       "<style scoped>\n",
       "    .dataframe tbody tr th:only-of-type {\n",
       "        vertical-align: middle;\n",
       "    }\n",
       "\n",
       "    .dataframe tbody tr th {\n",
       "        vertical-align: top;\n",
       "    }\n",
       "\n",
       "    .dataframe thead th {\n",
       "        text-align: right;\n",
       "    }\n",
       "</style>\n",
       "<table border=\"1\" class=\"dataframe\">\n",
       "  <thead>\n",
       "    <tr style=\"text-align: right;\">\n",
       "      <th>num_nonlexvoc_3_ranges</th>\n",
       "      <th>0</th>\n",
       "      <th>1</th>\n",
       "      <th>2-3</th>\n",
       "      <th>4-7</th>\n",
       "      <th>8+</th>\n",
       "    </tr>\n",
       "    <tr>\n",
       "      <th>hit</th>\n",
       "      <th></th>\n",
       "      <th></th>\n",
       "      <th></th>\n",
       "      <th></th>\n",
       "      <th></th>\n",
       "    </tr>\n",
       "  </thead>\n",
       "  <tbody>\n",
       "    <tr>\n",
       "      <th>0</th>\n",
       "      <td>6785</td>\n",
       "      <td>50</td>\n",
       "      <td>39</td>\n",
       "      <td>45</td>\n",
       "      <td>59</td>\n",
       "    </tr>\n",
       "    <tr>\n",
       "      <th>1</th>\n",
       "      <td>1551</td>\n",
       "      <td>9</td>\n",
       "      <td>15</td>\n",
       "      <td>13</td>\n",
       "      <td>20</td>\n",
       "    </tr>\n",
       "  </tbody>\n",
       "</table>\n",
       "</div>"
      ],
      "text/plain": [
       "num_nonlexvoc_3_ranges     0   1  2-3  4-7  8+\n",
       "hit                                           \n",
       "0                       6785  50   39   45  59\n",
       "1                       1551   9   15   13  20"
      ]
     },
     "execution_count": 29,
     "metadata": {},
     "output_type": "execute_result"
    }
   ],
   "source": [
    "pd.crosstab(df.hit, df['num_nonlexvoc_3_ranges'])"
   ]
  },
  {
   "cell_type": "code",
   "execution_count": 20,
   "id": "9608dba9",
   "metadata": {},
   "outputs": [],
   "source": [
    "df.to_csv('df.csv')"
   ]
  },
  {
   "cell_type": "code",
   "execution_count": null,
   "id": "97724efc",
   "metadata": {},
   "outputs": [],
   "source": []
  }
 ],
 "metadata": {
  "kernelspec": {
   "display_name": "Python 3",
   "language": "python",
   "name": "python3"
  },
  "language_info": {
   "codemirror_mode": {
    "name": "ipython",
    "version": 3
   },
   "file_extension": ".py",
   "mimetype": "text/x-python",
   "name": "python",
   "nbconvert_exporter": "python",
   "pygments_lexer": "ipython3",
   "version": "3.8.8"
  }
 },
 "nbformat": 4,
 "nbformat_minor": 5
}
