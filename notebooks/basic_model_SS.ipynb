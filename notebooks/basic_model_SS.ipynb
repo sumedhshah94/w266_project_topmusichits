{
 "cells": [
  {
   "cell_type": "code",
   "execution_count": 35,
   "id": "d36ecd32",
   "metadata": {},
   "outputs": [],
   "source": [
    "import pandas as pd\n",
    "import numpy as np\n",
    "\n",
    "from time import time\n",
    "from sklearn.feature_extraction.text import TfidfVectorizer, CountVectorizer\n",
    "from sklearn.model_selection import train_test_split\n",
    "from sklearn.naive_bayes import MultinomialNB\n",
    "from sklearn import metrics"
   ]
  },
  {
   "cell_type": "code",
   "execution_count": 2,
   "id": "a7cf0da7",
   "metadata": {},
   "outputs": [],
   "source": [
    "songs = pd.read_csv('/home/sumedhshah94/w266_project_topmusichits/data/interim/songs_charts.csv',index_col=[0])"
   ]
  },
  {
   "cell_type": "code",
   "execution_count": 3,
   "id": "e4bd5151",
   "metadata": {},
   "outputs": [
    {
     "data": {
      "text/html": [
       "<div>\n",
       "<style scoped>\n",
       "    .dataframe tbody tr th:only-of-type {\n",
       "        vertical-align: middle;\n",
       "    }\n",
       "\n",
       "    .dataframe tbody tr th {\n",
       "        vertical-align: top;\n",
       "    }\n",
       "\n",
       "    .dataframe thead th {\n",
       "        text-align: right;\n",
       "    }\n",
       "</style>\n",
       "<table border=\"1\" class=\"dataframe\">\n",
       "  <thead>\n",
       "    <tr style=\"text-align: right;\">\n",
       "      <th></th>\n",
       "      <th>track_name</th>\n",
       "      <th>track_artist</th>\n",
       "      <th>lyrics</th>\n",
       "      <th>track_popularity</th>\n",
       "      <th>track_album_name</th>\n",
       "      <th>playlist_name</th>\n",
       "      <th>playlist_genre</th>\n",
       "      <th>playlist_subgenre</th>\n",
       "      <th>danceability</th>\n",
       "      <th>energy</th>\n",
       "      <th>...</th>\n",
       "      <th>instrumentalness</th>\n",
       "      <th>liveness</th>\n",
       "      <th>valence</th>\n",
       "      <th>tempo</th>\n",
       "      <th>duration_ms</th>\n",
       "      <th>language</th>\n",
       "      <th>song_year</th>\n",
       "      <th>trending_year</th>\n",
       "      <th>Weeks_On_Chart</th>\n",
       "      <th>Hit</th>\n",
       "    </tr>\n",
       "  </thead>\n",
       "  <tbody>\n",
       "    <tr>\n",
       "      <th>1</th>\n",
       "      <td>i feel alive</td>\n",
       "      <td>steady rollin</td>\n",
       "      <td>The trees, are singing in the wind The sky blu...</td>\n",
       "      <td>28</td>\n",
       "      <td>Love &amp; Loss</td>\n",
       "      <td>Hard Rock Workout</td>\n",
       "      <td>rock</td>\n",
       "      <td>hard rock</td>\n",
       "      <td>0.303</td>\n",
       "      <td>0.880</td>\n",
       "      <td>...</td>\n",
       "      <td>0.00994</td>\n",
       "      <td>0.3470</td>\n",
       "      <td>0.404</td>\n",
       "      <td>135.225</td>\n",
       "      <td>373512</td>\n",
       "      <td>en</td>\n",
       "      <td>2017</td>\n",
       "      <td>NaN</td>\n",
       "      <td>0.0</td>\n",
       "      <td>0</td>\n",
       "    </tr>\n",
       "    <tr>\n",
       "      <th>2</th>\n",
       "      <td>poison</td>\n",
       "      <td>bell biv devoe</td>\n",
       "      <td>NA Yeah, Spyderman and Freeze in full effect U...</td>\n",
       "      <td>0</td>\n",
       "      <td>Gold</td>\n",
       "      <td>Back in the day - R&amp;B, New Jack Swing, Swingbe...</td>\n",
       "      <td>r&amp;b</td>\n",
       "      <td>new jack swing</td>\n",
       "      <td>0.845</td>\n",
       "      <td>0.652</td>\n",
       "      <td>...</td>\n",
       "      <td>0.00723</td>\n",
       "      <td>0.4890</td>\n",
       "      <td>0.650</td>\n",
       "      <td>111.904</td>\n",
       "      <td>262467</td>\n",
       "      <td>en</td>\n",
       "      <td>2005</td>\n",
       "      <td>1990.0</td>\n",
       "      <td>22.0</td>\n",
       "      <td>1</td>\n",
       "    </tr>\n",
       "    <tr>\n",
       "      <th>3</th>\n",
       "      <td>baby it's cold outside (feat. christina aguilera)</td>\n",
       "      <td>ceelo green</td>\n",
       "      <td>I really can't stay Baby it's cold outside I'v...</td>\n",
       "      <td>41</td>\n",
       "      <td>CeeLo's Magic Moment</td>\n",
       "      <td>Christmas Soul</td>\n",
       "      <td>r&amp;b</td>\n",
       "      <td>neo soul</td>\n",
       "      <td>0.425</td>\n",
       "      <td>0.378</td>\n",
       "      <td>...</td>\n",
       "      <td>0.00000</td>\n",
       "      <td>0.0664</td>\n",
       "      <td>0.405</td>\n",
       "      <td>118.593</td>\n",
       "      <td>243067</td>\n",
       "      <td>en</td>\n",
       "      <td>2012</td>\n",
       "      <td>NaN</td>\n",
       "      <td>0.0</td>\n",
       "      <td>0</td>\n",
       "    </tr>\n",
       "    <tr>\n",
       "      <th>4</th>\n",
       "      <td>dumb litty</td>\n",
       "      <td>kard</td>\n",
       "      <td>Get up out of my business You don't keep me fr...</td>\n",
       "      <td>65</td>\n",
       "      <td>KARD 2nd Digital Single ‘Dumb Litty’</td>\n",
       "      <td>K-Party Dance Mix</td>\n",
       "      <td>pop</td>\n",
       "      <td>dance pop</td>\n",
       "      <td>0.760</td>\n",
       "      <td>0.887</td>\n",
       "      <td>...</td>\n",
       "      <td>0.00000</td>\n",
       "      <td>0.1380</td>\n",
       "      <td>0.240</td>\n",
       "      <td>130.018</td>\n",
       "      <td>193160</td>\n",
       "      <td>en</td>\n",
       "      <td>2019</td>\n",
       "      <td>NaN</td>\n",
       "      <td>0.0</td>\n",
       "      <td>0</td>\n",
       "    </tr>\n",
       "    <tr>\n",
       "      <th>5</th>\n",
       "      <td>soldier</td>\n",
       "      <td>james tw</td>\n",
       "      <td>Hold your breath, don't look down, keep trying...</td>\n",
       "      <td>70</td>\n",
       "      <td>Chapters</td>\n",
       "      <td>urban contemporary</td>\n",
       "      <td>r&amp;b</td>\n",
       "      <td>urban contemporary</td>\n",
       "      <td>0.496</td>\n",
       "      <td>0.639</td>\n",
       "      <td>...</td>\n",
       "      <td>0.00000</td>\n",
       "      <td>0.0975</td>\n",
       "      <td>0.305</td>\n",
       "      <td>147.764</td>\n",
       "      <td>224720</td>\n",
       "      <td>en</td>\n",
       "      <td>2019</td>\n",
       "      <td>NaN</td>\n",
       "      <td>0.0</td>\n",
       "      <td>0</td>\n",
       "    </tr>\n",
       "  </tbody>\n",
       "</table>\n",
       "<p>5 rows × 25 columns</p>\n",
       "</div>"
      ],
      "text/plain": [
       "                                          track_name    track_artist  \\\n",
       "1                                       i feel alive   steady rollin   \n",
       "2                                             poison  bell biv devoe   \n",
       "3  baby it's cold outside (feat. christina aguilera)     ceelo green   \n",
       "4                                         dumb litty            kard   \n",
       "5                                            soldier        james tw   \n",
       "\n",
       "                                              lyrics  track_popularity  \\\n",
       "1  The trees, are singing in the wind The sky blu...                28   \n",
       "2  NA Yeah, Spyderman and Freeze in full effect U...                 0   \n",
       "3  I really can't stay Baby it's cold outside I'v...                41   \n",
       "4  Get up out of my business You don't keep me fr...                65   \n",
       "5  Hold your breath, don't look down, keep trying...                70   \n",
       "\n",
       "                       track_album_name  \\\n",
       "1                           Love & Loss   \n",
       "2                                  Gold   \n",
       "3                  CeeLo's Magic Moment   \n",
       "4  KARD 2nd Digital Single ‘Dumb Litty’   \n",
       "5                              Chapters   \n",
       "\n",
       "                                       playlist_name playlist_genre  \\\n",
       "1                                  Hard Rock Workout           rock   \n",
       "2  Back in the day - R&B, New Jack Swing, Swingbe...            r&b   \n",
       "3                                     Christmas Soul            r&b   \n",
       "4                                  K-Party Dance Mix            pop   \n",
       "5                                 urban contemporary            r&b   \n",
       "\n",
       "    playlist_subgenre  danceability  energy  ...  instrumentalness  liveness  \\\n",
       "1           hard rock         0.303   0.880  ...           0.00994    0.3470   \n",
       "2      new jack swing         0.845   0.652  ...           0.00723    0.4890   \n",
       "3            neo soul         0.425   0.378  ...           0.00000    0.0664   \n",
       "4           dance pop         0.760   0.887  ...           0.00000    0.1380   \n",
       "5  urban contemporary         0.496   0.639  ...           0.00000    0.0975   \n",
       "\n",
       "   valence    tempo  duration_ms  language  song_year  trending_year  \\\n",
       "1    0.404  135.225       373512        en       2017            NaN   \n",
       "2    0.650  111.904       262467        en       2005         1990.0   \n",
       "3    0.405  118.593       243067        en       2012            NaN   \n",
       "4    0.240  130.018       193160        en       2019            NaN   \n",
       "5    0.305  147.764       224720        en       2019            NaN   \n",
       "\n",
       "   Weeks_On_Chart  Hit  \n",
       "1             0.0    0  \n",
       "2            22.0    1  \n",
       "3             0.0    0  \n",
       "4             0.0    0  \n",
       "5             0.0    0  \n",
       "\n",
       "[5 rows x 25 columns]"
      ]
     },
     "execution_count": 3,
     "metadata": {},
     "output_type": "execute_result"
    }
   ],
   "source": [
    "songs.head()"
   ]
  },
  {
   "cell_type": "code",
   "execution_count": 8,
   "id": "cde2a233",
   "metadata": {},
   "outputs": [
    {
     "data": {
      "text/plain": [
       "'The trees, are singing in the wind The sky blue, only as it can be And the angels, smiled at me I saw you, in that lonely bench At half past four, I kissed your soft soft hands and at 6 I kissed your lips and the angels smiled, I thought Hey I feel alive! The park sign, said it was closed And we jumped that fence with no cares at all and we kissed under a tree We danced, under the midnight sun And I loved you, without knowing you at all and we laughed and felt so free and the angels they smiled, I thought Hey, I feel alive!'"
      ]
     },
     "execution_count": 8,
     "metadata": {},
     "output_type": "execute_result"
    }
   ],
   "source": [
    "songs['lyrics'].iloc[0]"
   ]
  },
  {
   "cell_type": "markdown",
   "id": "481e56be",
   "metadata": {},
   "source": [
    "# TFIDFVectorizer and Naive Bayes Classifier on 500 records"
   ]
  },
  {
   "cell_type": "code",
   "execution_count": 13,
   "id": "f5aa75ea",
   "metadata": {},
   "outputs": [
    {
     "name": "stdout",
     "output_type": "stream",
     "text": [
      "  (0, 48)\t0.05707301455353496\n",
      "  (0, 18)\t0.05707301455353496\n",
      "  (0, 43)\t0.05707301455353496\n",
      "  (0, 15)\t0.05707301455353496\n",
      "  (0, 27)\t0.05707301455353496\n",
      "  (0, 26)\t0.05707301455353496\n",
      "  (0, 57)\t0.05707301455353496\n",
      "  (0, 30)\t0.05707301455353496\n",
      "  (0, 45)\t0.05707301455353496\n",
      "  (0, 32)\t0.05707301455353496\n",
      "  (0, 13)\t0.05707301455353496\n",
      "  (0, 50)\t0.05707301455353496\n",
      "  (0, 52)\t0.11414602910706992\n",
      "  (0, 1)\t0.11414602910706992\n",
      "  (0, 11)\t0.05707301455353496\n",
      "  (0, 33)\t0.05707301455353496\n",
      "  (0, 56)\t0.05707301455353496\n",
      "  (0, 16)\t0.05707301455353496\n",
      "  (0, 24)\t0.05707301455353496\n",
      "  (0, 54)\t0.22829205821413984\n",
      "  (0, 12)\t0.05707301455353496\n",
      "  (0, 53)\t0.05707301455353496\n",
      "  (0, 37)\t0.05707301455353496\n",
      "  (0, 39)\t0.05707301455353496\n",
      "  (0, 35)\t0.05707301455353496\n",
      "  :\t:\n",
      "  (0, 36)\t0.05707301455353496\n",
      "  (0, 19)\t0.05707301455353496\n",
      "  (0, 8)\t0.05707301455353496\n",
      "  (0, 29)\t0.05707301455353496\n",
      "  (0, 46)\t0.11414602910706992\n",
      "  (0, 58)\t0.1712190436606049\n",
      "  (0, 38)\t0.05707301455353496\n",
      "  (0, 31)\t0.05707301455353496\n",
      "  (0, 6)\t0.2853650727676748\n",
      "  (0, 42)\t0.1712190436606049\n",
      "  (0, 3)\t0.1712190436606049\n",
      "  (0, 2)\t0.5136571309818146\n",
      "  (0, 7)\t0.05707301455353496\n",
      "  (0, 10)\t0.05707301455353496\n",
      "  (0, 23)\t0.11414602910706992\n",
      "  (0, 5)\t0.05707301455353496\n",
      "  (0, 34)\t0.05707301455353496\n",
      "  (0, 9)\t0.05707301455353496\n",
      "  (0, 41)\t0.05707301455353496\n",
      "  (0, 55)\t0.05707301455353496\n",
      "  (0, 22)\t0.11414602910706992\n",
      "  (0, 40)\t0.05707301455353496\n",
      "  (0, 4)\t0.05707301455353496\n",
      "  (0, 51)\t0.05707301455353496\n",
      "  (0, 47)\t0.4565841164282797\n"
     ]
    }
   ],
   "source": [
    "vectorizer = TfidfVectorizer()\n",
    "X = vectorizer.fit_transform([songs['lyrics'].iloc[0]])\n",
    "vectorizer.get_feature_names()\n",
    "print(X)"
   ]
  },
  {
   "cell_type": "code",
   "execution_count": 24,
   "id": "3f93a061",
   "metadata": {},
   "outputs": [],
   "source": [
    "songs_2 = songs[['lyrics','Hit']].iloc[0:500]"
   ]
  },
  {
   "cell_type": "code",
   "execution_count": 28,
   "id": "6c5277ec",
   "metadata": {},
   "outputs": [],
   "source": [
    "train_X = songs_2['lyrics'].iloc[0:400].to_list()  # '0' corresponds to Texts/Reviews\n",
    "train_y = songs_2['Hit'].iloc[0:400]   # '1' corresponds to Label (1 - positive and 0 - negative)\n",
    "test_X = songs_2['lyrics'].iloc[400:500].to_list()\n",
    "test_y = songs_2['Hit'].iloc[400:500]"
   ]
  },
  {
   "cell_type": "code",
   "execution_count": 29,
   "id": "d649c007",
   "metadata": {},
   "outputs": [],
   "source": [
    "X_train_tf = vectorizer.fit_transform(train_X)"
   ]
  },
  {
   "cell_type": "code",
   "execution_count": 30,
   "id": "b9b20960",
   "metadata": {},
   "outputs": [],
   "source": [
    "X_test_tf = vectorizer.transform(test_X)"
   ]
  },
  {
   "cell_type": "code",
   "execution_count": 31,
   "id": "9e565758",
   "metadata": {},
   "outputs": [
    {
     "data": {
      "text/plain": [
       "MultinomialNB()"
      ]
     },
     "execution_count": 31,
     "metadata": {},
     "output_type": "execute_result"
    }
   ],
   "source": [
    "naive_bayes_classifier = MultinomialNB()\n",
    "naive_bayes_classifier.fit(X_train_tf, train_y)"
   ]
  },
  {
   "cell_type": "code",
   "execution_count": 32,
   "id": "f6a7e55c",
   "metadata": {},
   "outputs": [
    {
     "name": "stdout",
     "output_type": "stream",
     "text": [
      "accuracy:   0.670\n"
     ]
    }
   ],
   "source": [
    "y_pred = naive_bayes_classifier.predict(X_test_tf)\n",
    "\n",
    "\n",
    "\n",
    "# compute the performance measures\n",
    "score1 = metrics.accuracy_score(test_y, y_pred)\n",
    "print(\"accuracy:   %0.3f\" % score1)"
   ]
  },
  {
   "cell_type": "code",
   "execution_count": 33,
   "id": "a93ea4b9",
   "metadata": {},
   "outputs": [
    {
     "name": "stdout",
     "output_type": "stream",
     "text": [
      "              precision    recall  f1-score   support\n",
      "\n",
      "         Hit       0.67      1.00      0.80        67\n",
      "     Non-Hit       0.00      0.00      0.00        33\n",
      "\n",
      "    accuracy                           0.67       100\n",
      "   macro avg       0.34      0.50      0.40       100\n",
      "weighted avg       0.45      0.67      0.54       100\n",
      "\n"
     ]
    },
    {
     "name": "stderr",
     "output_type": "stream",
     "text": [
      "/home/sumedhshah94/anaconda3/lib/python3.8/site-packages/sklearn/metrics/_classification.py:1245: UndefinedMetricWarning: Precision and F-score are ill-defined and being set to 0.0 in labels with no predicted samples. Use `zero_division` parameter to control this behavior.\n",
      "  _warn_prf(average, modifier, msg_start, len(result))\n",
      "/home/sumedhshah94/anaconda3/lib/python3.8/site-packages/sklearn/metrics/_classification.py:1245: UndefinedMetricWarning: Precision and F-score are ill-defined and being set to 0.0 in labels with no predicted samples. Use `zero_division` parameter to control this behavior.\n",
      "  _warn_prf(average, modifier, msg_start, len(result))\n",
      "/home/sumedhshah94/anaconda3/lib/python3.8/site-packages/sklearn/metrics/_classification.py:1245: UndefinedMetricWarning: Precision and F-score are ill-defined and being set to 0.0 in labels with no predicted samples. Use `zero_division` parameter to control this behavior.\n",
      "  _warn_prf(average, modifier, msg_start, len(result))\n"
     ]
    }
   ],
   "source": [
    "print(metrics.classification_report(test_y, y_pred,\n",
    "                                            target_names=['Hit','Non-Hit']))"
   ]
  },
  {
   "cell_type": "code",
   "execution_count": 34,
   "id": "bd3a0881",
   "metadata": {},
   "outputs": [
    {
     "name": "stdout",
     "output_type": "stream",
     "text": [
      "confusion matrix:\n",
      "[[67  0]\n",
      " [33  0]]\n"
     ]
    }
   ],
   "source": [
    "print(\"confusion matrix:\")\n",
    "print(metrics.confusion_matrix(test_y, y_pred))"
   ]
  },
  {
   "cell_type": "markdown",
   "id": "4f68c0bc",
   "metadata": {},
   "source": [
    "# TFIDFVectorizer and Naive Bayes Classifier on all records"
   ]
  },
  {
   "cell_type": "code",
   "execution_count": 36,
   "id": "f328c37b",
   "metadata": {},
   "outputs": [],
   "source": [
    "train_X_all, test_Y_all = train_test_split(songs[['lyrics','Hit']], test_size=0.2, random_state=25)"
   ]
  },
  {
   "cell_type": "code",
   "execution_count": 39,
   "id": "3b7ec952",
   "metadata": {},
   "outputs": [],
   "source": [
    "train_X_2 = train_X_all['lyrics'].to_list()\n",
    "train_y_2 = train_X_all['Hit']\n",
    "test_X_2 = test_Y_all['lyrics'].to_list()\n",
    "test_y_2 = test_Y_all['Hit']"
   ]
  },
  {
   "cell_type": "code",
   "execution_count": 40,
   "id": "617691d0",
   "metadata": {},
   "outputs": [],
   "source": [
    "X_train_tf_2 = vectorizer.fit_transform(train_X_2)\n",
    "X_test_tf_2 = vectorizer.transform(test_X_2)"
   ]
  },
  {
   "cell_type": "code",
   "execution_count": 41,
   "id": "923468a4",
   "metadata": {},
   "outputs": [
    {
     "data": {
      "text/plain": [
       "MultinomialNB()"
      ]
     },
     "execution_count": 41,
     "metadata": {},
     "output_type": "execute_result"
    }
   ],
   "source": [
    "naive_bayes_classifier = MultinomialNB()\n",
    "naive_bayes_classifier.fit(X_train_tf_2, train_y_2)"
   ]
  },
  {
   "cell_type": "code",
   "execution_count": 42,
   "id": "6ebe2f46",
   "metadata": {},
   "outputs": [
    {
     "name": "stdout",
     "output_type": "stream",
     "text": [
      "accuracy:   0.813\n"
     ]
    }
   ],
   "source": [
    "y_pred = naive_bayes_classifier.predict(X_test_tf_2)\n",
    "\n",
    "# compute the performance measures\n",
    "score1 = metrics.accuracy_score(test_y_2, y_pred)\n",
    "print(\"accuracy:   %0.3f\" % score1)"
   ]
  },
  {
   "cell_type": "code",
   "execution_count": 44,
   "id": "922157fa",
   "metadata": {},
   "outputs": [
    {
     "name": "stdout",
     "output_type": "stream",
     "text": [
      "              precision    recall  f1-score   support\n",
      "\n",
      "         Hit       0.81      1.00      0.90      2237\n",
      "     Non-Hit       0.00      0.00      0.00       513\n",
      "\n",
      "    accuracy                           0.81      2750\n",
      "   macro avg       0.41      0.50      0.45      2750\n",
      "weighted avg       0.66      0.81      0.73      2750\n",
      "\n"
     ]
    },
    {
     "name": "stderr",
     "output_type": "stream",
     "text": [
      "/home/sumedhshah94/anaconda3/lib/python3.8/site-packages/sklearn/metrics/_classification.py:1245: UndefinedMetricWarning: Precision and F-score are ill-defined and being set to 0.0 in labels with no predicted samples. Use `zero_division` parameter to control this behavior.\n",
      "  _warn_prf(average, modifier, msg_start, len(result))\n",
      "/home/sumedhshah94/anaconda3/lib/python3.8/site-packages/sklearn/metrics/_classification.py:1245: UndefinedMetricWarning: Precision and F-score are ill-defined and being set to 0.0 in labels with no predicted samples. Use `zero_division` parameter to control this behavior.\n",
      "  _warn_prf(average, modifier, msg_start, len(result))\n",
      "/home/sumedhshah94/anaconda3/lib/python3.8/site-packages/sklearn/metrics/_classification.py:1245: UndefinedMetricWarning: Precision and F-score are ill-defined and being set to 0.0 in labels with no predicted samples. Use `zero_division` parameter to control this behavior.\n",
      "  _warn_prf(average, modifier, msg_start, len(result))\n"
     ]
    }
   ],
   "source": [
    "print(metrics.classification_report(test_y_2, y_pred,\n",
    "                                            target_names=['Hit','Non-Hit']))"
   ]
  },
  {
   "cell_type": "markdown",
   "id": "bc76d541",
   "metadata": {},
   "source": [
    "# Looking at specific genre songs"
   ]
  },
  {
   "cell_type": "code",
   "execution_count": 53,
   "id": "571bbe71",
   "metadata": {},
   "outputs": [],
   "source": [
    "songs_3 = songs[songs.playlist_genre=='r&b'][['lyrics','Hit']]"
   ]
  },
  {
   "cell_type": "code",
   "execution_count": 54,
   "id": "93263b17",
   "metadata": {},
   "outputs": [],
   "source": [
    "train_X_all, test_Y_all = train_test_split(songs_3, test_size=0.2, random_state=25)"
   ]
  },
  {
   "cell_type": "code",
   "execution_count": 55,
   "id": "86e36704",
   "metadata": {},
   "outputs": [],
   "source": [
    "train_X_2 = train_X_all['lyrics'].to_list()\n",
    "train_y_2 = train_X_all['Hit']\n",
    "test_X_2 = test_Y_all['lyrics'].to_list()\n",
    "test_y_2 = test_Y_all['Hit']"
   ]
  },
  {
   "cell_type": "code",
   "execution_count": 56,
   "id": "6ddcc238",
   "metadata": {},
   "outputs": [],
   "source": [
    "X_train_tf_2 = vectorizer.fit_transform(train_X_2)\n",
    "X_test_tf_2 = vectorizer.transform(test_X_2)"
   ]
  },
  {
   "cell_type": "code",
   "execution_count": 57,
   "id": "858ad323",
   "metadata": {},
   "outputs": [
    {
     "data": {
      "text/plain": [
       "MultinomialNB()"
      ]
     },
     "execution_count": 57,
     "metadata": {},
     "output_type": "execute_result"
    }
   ],
   "source": [
    "naive_bayes_classifier = MultinomialNB()\n",
    "naive_bayes_classifier.fit(X_train_tf_2, train_y_2)"
   ]
  },
  {
   "cell_type": "code",
   "execution_count": 58,
   "id": "1e9afb70",
   "metadata": {},
   "outputs": [
    {
     "name": "stdout",
     "output_type": "stream",
     "text": [
      "accuracy:   0.751\n"
     ]
    }
   ],
   "source": [
    "y_pred = naive_bayes_classifier.predict(X_test_tf_2)\n",
    "\n",
    "# compute the performance measures\n",
    "score1 = metrics.accuracy_score(test_y_2, y_pred)\n",
    "print(\"accuracy:   %0.3f\" % score1)"
   ]
  },
  {
   "cell_type": "code",
   "execution_count": 60,
   "id": "f15e352d",
   "metadata": {},
   "outputs": [
    {
     "name": "stdout",
     "output_type": "stream",
     "text": [
      "              precision    recall  f1-score   support\n",
      "\n",
      "     Non-Hit       0.75      1.00      0.86       440\n",
      "         Hit       0.00      0.00      0.00       146\n",
      "\n",
      "    accuracy                           0.75       586\n",
      "   macro avg       0.38      0.50      0.43       586\n",
      "weighted avg       0.56      0.75      0.64       586\n",
      "\n"
     ]
    },
    {
     "name": "stderr",
     "output_type": "stream",
     "text": [
      "/home/sumedhshah94/anaconda3/lib/python3.8/site-packages/sklearn/metrics/_classification.py:1245: UndefinedMetricWarning: Precision and F-score are ill-defined and being set to 0.0 in labels with no predicted samples. Use `zero_division` parameter to control this behavior.\n",
      "  _warn_prf(average, modifier, msg_start, len(result))\n",
      "/home/sumedhshah94/anaconda3/lib/python3.8/site-packages/sklearn/metrics/_classification.py:1245: UndefinedMetricWarning: Precision and F-score are ill-defined and being set to 0.0 in labels with no predicted samples. Use `zero_division` parameter to control this behavior.\n",
      "  _warn_prf(average, modifier, msg_start, len(result))\n",
      "/home/sumedhshah94/anaconda3/lib/python3.8/site-packages/sklearn/metrics/_classification.py:1245: UndefinedMetricWarning: Precision and F-score are ill-defined and being set to 0.0 in labels with no predicted samples. Use `zero_division` parameter to control this behavior.\n",
      "  _warn_prf(average, modifier, msg_start, len(result))\n"
     ]
    }
   ],
   "source": [
    "print(metrics.classification_report(test_y_2, y_pred,\n",
    "                                            target_names=['Non-Hit','Hit']))"
   ]
  },
  {
   "cell_type": "code",
   "execution_count": null,
   "id": "9193d7b5",
   "metadata": {},
   "outputs": [],
   "source": []
  },
  {
   "cell_type": "code",
   "execution_count": null,
   "id": "8055200b",
   "metadata": {},
   "outputs": [],
   "source": []
  }
 ],
 "metadata": {
  "kernelspec": {
   "display_name": "Python 3",
   "language": "python",
   "name": "python3"
  },
  "language_info": {
   "codemirror_mode": {
    "name": "ipython",
    "version": 3
   },
   "file_extension": ".py",
   "mimetype": "text/x-python",
   "name": "python",
   "nbconvert_exporter": "python",
   "pygments_lexer": "ipython3",
   "version": "3.8.8"
  }
 },
 "nbformat": 4,
 "nbformat_minor": 5
}
