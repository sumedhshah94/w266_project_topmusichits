{
 "cells": [
  {
   "cell_type": "code",
   "execution_count": null,
   "metadata": {
    "colab": {
     "base_uri": "https://localhost:8080/"
    },
    "id": "ZRn93pHS_Pz_",
    "outputId": "88775491-1601-45bd-ba75-9c720db242ec"
   },
   "outputs": [
    {
     "name": "stdout",
     "output_type": "stream",
     "text": [
      "Mounted at /content/drive/\n"
     ]
    },
    {
     "name": "stderr",
     "output_type": "stream",
     "text": [
      "/usr/local/lib/python3.7/dist-packages/statsmodels/tools/_testing.py:19: FutureWarning: pandas.util.testing is deprecated. Use the functions in the public API at pandas.testing instead.\n",
      "  import pandas.util.testing as tm\n"
     ]
    },
    {
     "name": "stdout",
     "output_type": "stream",
     "text": [
      "Requirement already satisfied: transformers in /usr/local/lib/python3.7/dist-packages (4.18.0)\n",
      "Requirement already satisfied: regex!=2019.12.17 in /usr/local/lib/python3.7/dist-packages (from transformers) (2019.12.20)\n",
      "Requirement already satisfied: pyyaml>=5.1 in /usr/local/lib/python3.7/dist-packages (from transformers) (6.0)\n",
      "Requirement already satisfied: tokenizers!=0.11.3,<0.13,>=0.11.1 in /usr/local/lib/python3.7/dist-packages (from transformers) (0.11.6)\n",
      "Requirement already satisfied: filelock in /usr/local/lib/python3.7/dist-packages (from transformers) (3.6.0)\n",
      "Requirement already satisfied: importlib-metadata in /usr/local/lib/python3.7/dist-packages (from transformers) (4.11.3)\n",
      "Requirement already satisfied: numpy>=1.17 in /usr/local/lib/python3.7/dist-packages (from transformers) (1.21.5)\n",
      "Requirement already satisfied: huggingface-hub<1.0,>=0.1.0 in /usr/local/lib/python3.7/dist-packages (from transformers) (0.5.1)\n",
      "Requirement already satisfied: requests in /usr/local/lib/python3.7/dist-packages (from transformers) (2.23.0)\n",
      "Requirement already satisfied: sacremoses in /usr/local/lib/python3.7/dist-packages (from transformers) (0.0.49)\n",
      "Requirement already satisfied: packaging>=20.0 in /usr/local/lib/python3.7/dist-packages (from transformers) (21.3)\n",
      "Requirement already satisfied: tqdm>=4.27 in /usr/local/lib/python3.7/dist-packages (from transformers) (4.63.0)\n",
      "Requirement already satisfied: typing-extensions>=3.7.4.3 in /usr/local/lib/python3.7/dist-packages (from huggingface-hub<1.0,>=0.1.0->transformers) (3.10.0.2)\n",
      "Requirement already satisfied: pyparsing!=3.0.5,>=2.0.2 in /usr/local/lib/python3.7/dist-packages (from packaging>=20.0->transformers) (3.0.7)\n",
      "Requirement already satisfied: zipp>=0.5 in /usr/local/lib/python3.7/dist-packages (from importlib-metadata->transformers) (3.7.0)\n",
      "Requirement already satisfied: idna<3,>=2.5 in /usr/local/lib/python3.7/dist-packages (from requests->transformers) (2.10)\n",
      "Requirement already satisfied: chardet<4,>=3.0.2 in /usr/local/lib/python3.7/dist-packages (from requests->transformers) (3.0.4)\n",
      "Requirement already satisfied: urllib3!=1.25.0,!=1.25.1,<1.26,>=1.21.1 in /usr/local/lib/python3.7/dist-packages (from requests->transformers) (1.24.3)\n",
      "Requirement already satisfied: certifi>=2017.4.17 in /usr/local/lib/python3.7/dist-packages (from requests->transformers) (2021.10.8)\n",
      "Requirement already satisfied: click in /usr/local/lib/python3.7/dist-packages (from sacremoses->transformers) (7.1.2)\n",
      "Requirement already satisfied: six in /usr/local/lib/python3.7/dist-packages (from sacremoses->transformers) (1.15.0)\n",
      "Requirement already satisfied: joblib in /usr/local/lib/python3.7/dist-packages (from sacremoses->transformers) (1.1.0)\n"
     ]
    }
   ],
   "source": [
    "# Import libraries\n",
    "from google.colab import drive\n",
    "drive.mount('/content/drive/', force_remount=True)\n",
    "import pandas as pd\n",
    "import io\n",
    "import os, sys\n",
    "import matplotlib.pyplot as plt\n",
    "import tensorflow as tf\n",
    "import torch\n",
    "import numpy as np\n",
    "import seaborn as sn\n",
    "import logging\n",
    "import math\n",
    "import pickle\n",
    "import statsmodels.api as sm\n",
    "tf.get_logger().setLevel(logging.ERROR)\n",
    "\n",
    "!pip install transformers\n",
    "\n",
    "from tensorflow import keras\n",
    "from transformers import BertTokenizer, TFBertModel\n",
    "from sklearn.model_selection import train_test_split\n",
    "from sklearn.metrics import confusion_matrix, classification_report,roc_curve,roc_auc_score,accuracy_score,f1_score\n",
    "from imblearn.over_sampling import RandomOverSampler"
   ]
  },
  {
   "cell_type": "code",
   "execution_count": null,
   "metadata": {
    "colab": {
     "base_uri": "https://localhost:8080/"
    },
    "id": "fXg1RaACQNB9",
    "outputId": "9f7035c6-d1a2-4fe0-8353-baa0ade163ab"
   },
   "outputs": [
    {
     "name": "stdout",
     "output_type": "stream",
     "text": [
      "Found GPU at: /device:GPU:0\n"
     ]
    }
   ],
   "source": [
    "# Check for GPU\n",
    "device_name = tf.test.gpu_device_name()\n",
    "if device_name != '/device:GPU:0':\n",
    "  raise SystemError('GPU device not found')\n",
    "print('Found GPU at: {}'.format(device_name))"
   ]
  },
  {
   "cell_type": "code",
   "execution_count": null,
   "metadata": {
    "colab": {
     "base_uri": "https://localhost:8080/",
     "height": 35
    },
    "id": "cEK_1XMELrA7",
    "outputId": "72bbcd5c-c83e-4860-a9d8-4e8abc46c88c"
   },
   "outputs": [
    {
     "data": {
      "application/vnd.google.colaboratory.intrinsic+json": {
       "type": "string"
      },
      "text/plain": [
       "'Tesla P100-PCIE-16GB'"
      ]
     },
     "execution_count": 5,
     "metadata": {},
     "output_type": "execute_result"
    }
   ],
   "source": [
    "# Specify GPU device\n",
    "device = torch.device(\"cuda\" if torch.cuda.is_available() else \"cpu\")\n",
    "n_gpu = torch.cuda.device_count()\n",
    "torch.cuda.get_device_name(0)"
   ]
  },
  {
   "cell_type": "markdown",
   "metadata": {
    "id": "GqJkp9tglaLn"
   },
   "source": [
    "## **Load Data**"
   ]
  },
  {
   "cell_type": "code",
   "execution_count": null,
   "metadata": {
    "colab": {
     "base_uri": "https://localhost:8080/"
    },
    "id": "eBuoi39r_Ubo",
    "outputId": "2901dad3-2f39-46fa-fdab-d100e94f8418"
   },
   "outputs": [
    {
     "name": "stdout",
     "output_type": "stream",
     "text": [
      "Index(['song_year', 'song_name', 'artist_name', 'album_name', 'genre',\n",
      "       'lyrics', 'danceability', 'loudness', 'speechiness', 'acousticness',\n",
      "       'valence', 'tempo', 'num_nonlexvoc', 'star', 'hit'],\n",
      "      dtype='object')\n",
      "Length of data 8546\n"
     ]
    }
   ],
   "source": [
    "data = pd.read_csv(\"~/w266_project_topmusichits/data/processed/songs_charts_final.csv\")\n",
    "print(data.columns)\n",
    "print(\"Length of data\",len(data))"
   ]
  },
  {
   "cell_type": "code",
   "execution_count": null,
   "metadata": {
    "colab": {
     "base_uri": "https://localhost:8080/",
     "height": 774
    },
    "id": "ak0uQ6lH1AaD",
    "outputId": "332efe8d-21bd-4fa8-83a3-3219c31badc1"
   },
   "outputs": [
    {
     "data": {
      "text/html": [
       "\n",
       "  <div id=\"df-806f2667-55ad-4c93-b42c-9fa875a6dafb\">\n",
       "    <div class=\"colab-df-container\">\n",
       "      <div>\n",
       "<style scoped>\n",
       "    .dataframe tbody tr th:only-of-type {\n",
       "        vertical-align: middle;\n",
       "    }\n",
       "\n",
       "    .dataframe tbody tr th {\n",
       "        vertical-align: top;\n",
       "    }\n",
       "\n",
       "    .dataframe thead th {\n",
       "        text-align: right;\n",
       "    }\n",
       "</style>\n",
       "<table border=\"1\" class=\"dataframe\">\n",
       "  <thead>\n",
       "    <tr style=\"text-align: right;\">\n",
       "      <th></th>\n",
       "      <th>song_year</th>\n",
       "      <th>song_name</th>\n",
       "      <th>artist_name</th>\n",
       "      <th>album_name</th>\n",
       "      <th>genre</th>\n",
       "      <th>lyrics</th>\n",
       "      <th>danceability</th>\n",
       "      <th>loudness</th>\n",
       "      <th>speechiness</th>\n",
       "      <th>acousticness</th>\n",
       "      <th>valence</th>\n",
       "      <th>tempo</th>\n",
       "      <th>num_nonlexvoc</th>\n",
       "      <th>star</th>\n",
       "      <th>hit</th>\n",
       "    </tr>\n",
       "  </thead>\n",
       "  <tbody>\n",
       "    <tr>\n",
       "      <th>0</th>\n",
       "      <td>2000</td>\n",
       "      <td>Tho Dem Wraps</td>\n",
       "      <td>Nelly</td>\n",
       "      <td>Country Grammar</td>\n",
       "      <td>rap</td>\n",
       "      <td>I boss thru in a Hummer, Murphy the Don, Lizzi...</td>\n",
       "      <td>medium</td>\n",
       "      <td>medium</td>\n",
       "      <td>medium</td>\n",
       "      <td>low</td>\n",
       "      <td>medium</td>\n",
       "      <td>high</td>\n",
       "      <td>low</td>\n",
       "      <td>no</td>\n",
       "      <td>0</td>\n",
       "    </tr>\n",
       "    <tr>\n",
       "      <th>1</th>\n",
       "      <td>2000</td>\n",
       "      <td>Beautiful Day</td>\n",
       "      <td>U2</td>\n",
       "      <td>All That You Can't Leave Behind</td>\n",
       "      <td>rock</td>\n",
       "      <td>The heart is a bloom, shoots up through the st...</td>\n",
       "      <td>low</td>\n",
       "      <td>medium</td>\n",
       "      <td>medium</td>\n",
       "      <td>low</td>\n",
       "      <td>medium</td>\n",
       "      <td>high</td>\n",
       "      <td>low</td>\n",
       "      <td>yes</td>\n",
       "      <td>1</td>\n",
       "    </tr>\n",
       "    <tr>\n",
       "      <th>2</th>\n",
       "      <td>2000</td>\n",
       "      <td>Kryptonite</td>\n",
       "      <td>3 Doors Down</td>\n",
       "      <td>The Better Life</td>\n",
       "      <td>rock</td>\n",
       "      <td>Well, I took a walk around the world to ease m...</td>\n",
       "      <td>low</td>\n",
       "      <td>medium</td>\n",
       "      <td>low</td>\n",
       "      <td>low</td>\n",
       "      <td>medium</td>\n",
       "      <td>low</td>\n",
       "      <td>low</td>\n",
       "      <td>no</td>\n",
       "      <td>1</td>\n",
       "    </tr>\n",
       "    <tr>\n",
       "      <th>3</th>\n",
       "      <td>2000</td>\n",
       "      <td>Without You</td>\n",
       "      <td>Lucy Pearl</td>\n",
       "      <td>Lucy Pearl</td>\n",
       "      <td>r&amp;b</td>\n",
       "      <td>Girl you know I want you And I dont know what ...</td>\n",
       "      <td>high</td>\n",
       "      <td>high</td>\n",
       "      <td>high</td>\n",
       "      <td>high</td>\n",
       "      <td>high</td>\n",
       "      <td>low</td>\n",
       "      <td>low</td>\n",
       "      <td>yes</td>\n",
       "      <td>0</td>\n",
       "    </tr>\n",
       "    <tr>\n",
       "      <th>4</th>\n",
       "      <td>2000</td>\n",
       "      <td>Ride Wit Me</td>\n",
       "      <td>Nelly</td>\n",
       "      <td>Country Grammar</td>\n",
       "      <td>rap</td>\n",
       "      <td>Where they at? Where they at? Where they at? W...</td>\n",
       "      <td>high</td>\n",
       "      <td>medium</td>\n",
       "      <td>medium</td>\n",
       "      <td>medium</td>\n",
       "      <td>high</td>\n",
       "      <td>low</td>\n",
       "      <td>high</td>\n",
       "      <td>yes</td>\n",
       "      <td>1</td>\n",
       "    </tr>\n",
       "  </tbody>\n",
       "</table>\n",
       "</div>\n",
       "      <button class=\"colab-df-convert\" onclick=\"convertToInteractive('df-806f2667-55ad-4c93-b42c-9fa875a6dafb')\"\n",
       "              title=\"Convert this dataframe to an interactive table.\"\n",
       "              style=\"display:none;\">\n",
       "        \n",
       "  <svg xmlns=\"http://www.w3.org/2000/svg\" height=\"24px\"viewBox=\"0 0 24 24\"\n",
       "       width=\"24px\">\n",
       "    <path d=\"M0 0h24v24H0V0z\" fill=\"none\"/>\n",
       "    <path d=\"M18.56 5.44l.94 2.06.94-2.06 2.06-.94-2.06-.94-.94-2.06-.94 2.06-2.06.94zm-11 1L8.5 8.5l.94-2.06 2.06-.94-2.06-.94L8.5 2.5l-.94 2.06-2.06.94zm10 10l.94 2.06.94-2.06 2.06-.94-2.06-.94-.94-2.06-.94 2.06-2.06.94z\"/><path d=\"M17.41 7.96l-1.37-1.37c-.4-.4-.92-.59-1.43-.59-.52 0-1.04.2-1.43.59L10.3 9.45l-7.72 7.72c-.78.78-.78 2.05 0 2.83L4 21.41c.39.39.9.59 1.41.59.51 0 1.02-.2 1.41-.59l7.78-7.78 2.81-2.81c.8-.78.8-2.07 0-2.86zM5.41 20L4 18.59l7.72-7.72 1.47 1.35L5.41 20z\"/>\n",
       "  </svg>\n",
       "      </button>\n",
       "      \n",
       "  <style>\n",
       "    .colab-df-container {\n",
       "      display:flex;\n",
       "      flex-wrap:wrap;\n",
       "      gap: 12px;\n",
       "    }\n",
       "\n",
       "    .colab-df-convert {\n",
       "      background-color: #E8F0FE;\n",
       "      border: none;\n",
       "      border-radius: 50%;\n",
       "      cursor: pointer;\n",
       "      display: none;\n",
       "      fill: #1967D2;\n",
       "      height: 32px;\n",
       "      padding: 0 0 0 0;\n",
       "      width: 32px;\n",
       "    }\n",
       "\n",
       "    .colab-df-convert:hover {\n",
       "      background-color: #E2EBFA;\n",
       "      box-shadow: 0px 1px 2px rgba(60, 64, 67, 0.3), 0px 1px 3px 1px rgba(60, 64, 67, 0.15);\n",
       "      fill: #174EA6;\n",
       "    }\n",
       "\n",
       "    [theme=dark] .colab-df-convert {\n",
       "      background-color: #3B4455;\n",
       "      fill: #D2E3FC;\n",
       "    }\n",
       "\n",
       "    [theme=dark] .colab-df-convert:hover {\n",
       "      background-color: #434B5C;\n",
       "      box-shadow: 0px 1px 3px 1px rgba(0, 0, 0, 0.15);\n",
       "      filter: drop-shadow(0px 1px 2px rgba(0, 0, 0, 0.3));\n",
       "      fill: #FFFFFF;\n",
       "    }\n",
       "  </style>\n",
       "\n",
       "      <script>\n",
       "        const buttonEl =\n",
       "          document.querySelector('#df-806f2667-55ad-4c93-b42c-9fa875a6dafb button.colab-df-convert');\n",
       "        buttonEl.style.display =\n",
       "          google.colab.kernel.accessAllowed ? 'block' : 'none';\n",
       "\n",
       "        async function convertToInteractive(key) {\n",
       "          const element = document.querySelector('#df-806f2667-55ad-4c93-b42c-9fa875a6dafb');\n",
       "          const dataTable =\n",
       "            await google.colab.kernel.invokeFunction('convertToInteractive',\n",
       "                                                     [key], {});\n",
       "          if (!dataTable) return;\n",
       "\n",
       "          const docLinkHtml = 'Like what you see? Visit the ' +\n",
       "            '<a target=\"_blank\" href=https://colab.research.google.com/notebooks/data_table.ipynb>data table notebook</a>'\n",
       "            + ' to learn more about interactive tables.';\n",
       "          element.innerHTML = '';\n",
       "          dataTable['output_type'] = 'display_data';\n",
       "          await google.colab.output.renderOutput(dataTable, element);\n",
       "          const docLink = document.createElement('div');\n",
       "          docLink.innerHTML = docLinkHtml;\n",
       "          element.appendChild(docLink);\n",
       "        }\n",
       "      </script>\n",
       "    </div>\n",
       "  </div>\n",
       "  "
      ],
      "text/plain": [
       "   song_year      song_name   artist_name                       album_name  \\\n",
       "0       2000  Tho Dem Wraps         Nelly                  Country Grammar   \n",
       "1       2000  Beautiful Day            U2  All That You Can't Leave Behind   \n",
       "2       2000     Kryptonite  3 Doors Down                  The Better Life   \n",
       "3       2000    Without You    Lucy Pearl                       Lucy Pearl   \n",
       "4       2000    Ride Wit Me         Nelly                  Country Grammar   \n",
       "\n",
       "  genre                                             lyrics danceability  \\\n",
       "0   rap  I boss thru in a Hummer, Murphy the Don, Lizzi...       medium   \n",
       "1  rock  The heart is a bloom, shoots up through the st...          low   \n",
       "2  rock  Well, I took a walk around the world to ease m...          low   \n",
       "3   r&b  Girl you know I want you And I dont know what ...         high   \n",
       "4   rap  Where they at? Where they at? Where they at? W...         high   \n",
       "\n",
       "  loudness speechiness acousticness valence tempo num_nonlexvoc star  hit  \n",
       "0   medium      medium          low  medium  high           low   no    0  \n",
       "1   medium      medium          low  medium  high           low  yes    1  \n",
       "2   medium         low          low  medium   low           low   no    1  \n",
       "3     high        high         high    high   low           low  yes    0  \n",
       "4   medium      medium       medium    high   low          high  yes    1  "
      ]
     },
     "execution_count": 7,
     "metadata": {},
     "output_type": "execute_result"
    }
   ],
   "source": [
    "# Visualize data\n",
    "data.head()\n"
   ]
  },
  {
   "cell_type": "markdown",
   "metadata": {
    "id": "uajVy7nZOknC"
   },
   "source": [
    "## Prepare Train, Validation, Test Datasets and Apply Lyric Chunking"
   ]
  },
  {
   "cell_type": "code",
   "execution_count": null,
   "metadata": {
    "id": "IKkqCip_K58N"
   },
   "outputs": [],
   "source": [
    "# Define cutoff date and split train and test sets\n",
    "split_year = 2017\n",
    "train_df = data[data['song_year'] < split_year]\n",
    "test_df = data[data['song_year'] >= split_year]\n",
    "\n",
    "\n",
    "# Define features and target\n",
    "X = train_df.drop(['hit'], axis=1)  #keep only the columns that we will use as x's. Right now I am only removing the y from it but we need to remove all the useless columns\n",
    "y = train_df['hit']\n",
    "\n",
    "# Split training data into training and validation sets (70% - 30%)\n",
    "from sklearn.model_selection import train_test_split\n",
    "X_train, X_val, y_train, y_val = train_test_split(X, y, test_size=0.3, random_state=42) #Random state is to get reproducible results\n",
    "\n",
    "\n",
    "# Oversample hits in dataset to have a 3:2 balance of non-hits vs hits\n",
    "oversample = RandomOverSampler(sampling_strategy=2/3)\n",
    "X_train_over, y_train_over = oversample.fit_resample(X_train, y_train)\n",
    "\n",
    "\n",
    "# Recombine the features and target datasets\n",
    "train_df_over = pd.concat([X_train_over.reset_index(drop=True), y_train_over.reset_index(drop=True)],axis=1)\n",
    "val_df = pd.concat([X_val.reset_index(drop=True), y_val.reset_index(drop=True)],axis=1)\n",
    "\n",
    "# print(\"After oversampling\")\n",
    "# print(y_train_over.value_counts())"
   ]
  },
  {
   "cell_type": "code",
   "execution_count": null,
   "metadata": {
    "id": "1lR_IY-La7fT"
   },
   "outputs": [],
   "source": [
    "def split_lyrics(song,chunk_length=250):\n",
    "    \"\"\"\n",
    "    Split out lyrics into chunks with specified chunk length (default is 250 words) \n",
    "    and 50-word overlap\n",
    "\n",
    "    Return: list of lyric chunks for song (lyric chunks)\n",
    "    \"\"\"\n",
    "\n",
    "    l_total = []\n",
    "    l_partial = []\n",
    "\n",
    "    # Check number of chunks that song needs to be divided up on\n",
    "    if len(song['lyrics'].split())//(chunk_length-50) > 0:\n",
    "        n = math.ceil(len(song['lyrics'].split())/(chunk_length-50))\n",
    "    else: \n",
    "        n = 1\n",
    "    \n",
    "    # Create chunks with 50-word overlap\n",
    "    for w in range(n):\n",
    "        # If this is first chunk\n",
    "        if w == 0:\n",
    "            l_partial = song['lyrics'].split()[:chunk_length]\n",
    "            l_total.append(\" \".join(l_partial))\n",
    "\n",
    "        # If not, create next chunk from 50 words before ending of previous chunk\n",
    "        else:\n",
    "            #print(w)\n",
    "            l_partial = song['lyrics'].split()[w*(chunk_length-50):w*(chunk_length-50) + chunk_length]\n",
    "            l_total.append(\" \".join(l_partial))\n",
    "\n",
    "    return l_total"
   ]
  },
  {
   "cell_type": "code",
   "execution_count": null,
   "metadata": {
    "colab": {
     "base_uri": "https://localhost:8080/"
    },
    "id": "q_-34gChSUEl",
    "outputId": "b429ae31-17c7-44b8-9b69-0bc259e26cab"
   },
   "outputs": [
    {
     "name": "stderr",
     "output_type": "stream",
     "text": [
      "/usr/local/lib/python3.7/dist-packages/ipykernel_launcher.py:4: SettingWithCopyWarning: \n",
      "A value is trying to be set on a copy of a slice from a DataFrame.\n",
      "Try using .loc[row_indexer,col_indexer] = value instead\n",
      "\n",
      "See the caveats in the documentation: https://pandas.pydata.org/pandas-docs/stable/user_guide/indexing.html#returning-a-view-versus-a-copy\n",
      "  after removing the cwd from sys.path.\n"
     ]
    }
   ],
   "source": [
    "# Apply lyric chunking for training/val/test datasets - lyric_split column will contain a list of all the chunks (String format) for EACH song\n",
    "train_df_over['lyric_split'] = train_df_over.apply(split_lyrics,axis=1)\n",
    "val_df['lyric_split'] = val_df.apply(split_lyrics,axis=1)\n",
    "test_df['lyric_split'] = test_df.apply(split_lyrics,axis=1)\n"
   ]
  },
  {
   "cell_type": "code",
   "execution_count": null,
   "metadata": {
    "id": "St-Z6UybIYr1"
   },
   "outputs": [],
   "source": [
    "# Get data for all chunks of lyrics for training/validation/test datasets (including all the labels)\n",
    "train_data_chunks = [i for val in train_df_over['lyric_split'] for i in val]\n",
    "train_labels = [val['hit'] for i,val in train_df_over.iterrows() for t in range(len(val['lyric_split']))]\n",
    "\n",
    "val_data_chunks = [i for val in val_df['lyric_split'] for i in val]\n",
    "val_labels = [val['hit'] for i,val in val_df.iterrows() for t in range(len(val['lyric_split']))]\n",
    "\n",
    "test_data_chunks = [i for val in test_df['lyric_split'] for i in val]\n",
    "test_labels = [val['hit'] for i,val in test_df.iterrows() for t in range(len(val['lyric_split']))]\n",
    "\n",
    "# Verify data and labels lists are the same length for train/val/test\n",
    "assert(len(train_data_chunks)==len(train_labels))\n",
    "assert(len(val_data_chunks)==len(val_labels))\n",
    "assert(len(test_data_chunks)==len(test_labels))"
   ]
  },
  {
   "cell_type": "markdown",
   "metadata": {
    "id": "Uw-Vh4zSoXoN"
   },
   "source": [
    "### OPTIONAL Analysis on distribution of number of songs per chunk amount"
   ]
  },
  {
   "cell_type": "code",
   "execution_count": null,
   "metadata": {
    "colab": {
     "base_uri": "https://localhost:8080/"
    },
    "id": "9I4CrfK9wjoQ",
    "outputId": "cbc0e32c-1854-499b-b815-3d1f9c935e54"
   },
   "outputs": [
    {
     "name": "stdout",
     "output_type": "stream",
     "text": [
      "Max number of lyric splits in training set: 18\n",
      "Max number of lyric splits in validation set: 17\n",
      "Max number of lyric splits in test set: 37\n",
      "\n",
      "\n",
      "Distribution of chunks in training list:\n",
      "1: 249\n",
      "2: 1394\n",
      "3: 1094\n",
      "4: 599\n",
      "5: 461\n",
      "6: 258\n",
      "7: 112\n",
      "8: 52\n",
      "9: 65\n",
      "10: 33\n",
      "11: 40\n",
      "12: 18\n",
      "13: 11\n",
      "14: 6\n",
      "15: 11\n",
      "16: 5\n",
      "17: 2\n",
      "18: 1\n",
      "\n",
      "Distribution of chunks in validation list:\n",
      "1: 96\n",
      "2: 511\n",
      "3: 361\n",
      "4: 212\n",
      "5: 153\n",
      "6: 70\n",
      "7: 21\n",
      "8: 15\n",
      "9: 6\n",
      "10: 4\n",
      "11: 10\n",
      "12: 4\n",
      "13: 1\n",
      "14: 3\n",
      "15: 2\n",
      "16: 3\n",
      "17: 3\n",
      "\n",
      "Distribution of chunks in test list:\n",
      "1: 166\n",
      "2: 1116\n",
      "3: 1125\n",
      "4: 510\n",
      "5: 261\n",
      "6: 132\n",
      "7: 81\n",
      "8: 51\n",
      "9: 40\n",
      "10: 30\n",
      "11: 24\n",
      "12: 8\n",
      "13: 18\n",
      "14: 15\n",
      "15: 8\n",
      "16: 6\n",
      "17: 9\n",
      "18: 4\n",
      "19: 4\n",
      "20: 3\n",
      "21: 5\n",
      "22: 5\n",
      "24: 1\n",
      "25: 2\n",
      "27: 1\n",
      "29: 1\n",
      "30: 1\n",
      "31: 3\n",
      "34: 1\n",
      "37: 1\n"
     ]
    }
   ],
   "source": [
    "# ANALYSIS: Understand number of songs with per lyric chunk distribution (i.e. how many songs have)\n",
    "\n",
    "# Train set\n",
    "max_len_train = 0\n",
    "train_len_list = []\n",
    "for val in train_df_over['lyric_split']:\n",
    "     train_len_list.append(len(val))\n",
    "     max_len_train = max(max_len_train,len(val))\n",
    "print(\"Max number of lyric splits in training set:\",max_len_train)\n",
    "\n",
    "# Validation set\n",
    "max_len_val = 0\n",
    "val_len_list = []\n",
    "for val in val_df['lyric_split']:\n",
    "     val_len_list.append(len(val))\n",
    "     max_len_val = max(max_len_val,len(val))\n",
    "print(\"Max number of lyric splits in validation set:\",max_len_val)\n",
    "\n",
    "# Test set\n",
    "max_len_test = 0\n",
    "test_len_list = []\n",
    "for val in test_df['lyric_split']:\n",
    "     test_len_list.append(len(val))\n",
    "     max_len_test = max(max_len_test,len(val))\n",
    "print(\"Max number of lyric splits in test set:\",max_len_test)\n",
    "print(\"\\n\")\n",
    "\n",
    "def lyric_chunk_freq(lst):\n",
    "    d = {}\n",
    "    for i in lst:\n",
    "        if d.get(i):\n",
    "            d[i] += 1\n",
    "        else:\n",
    "            d[i] = 1\n",
    "    return d\n",
    "\n",
    "print(\"Distribution of chunks in training list:\")\n",
    "#print(lyric_chunk_freq(train_len_list))\n",
    "for key in sorted(lyric_chunk_freq(train_len_list)):\n",
    "    print(\"%s: %s\" % (key, lyric_chunk_freq(train_len_list)[key]))\n",
    "\n",
    "print(\"\\nDistribution of chunks in validation list:\")\n",
    "for key in sorted(lyric_chunk_freq(val_len_list)):\n",
    "    print(\"%s: %s\" % (key, lyric_chunk_freq(val_len_list)[key]))\n",
    "#print(lyric_chunk_freq(val_len_list))\n",
    "\n",
    "print(\"\\nDistribution of chunks in test list:\")\n",
    "for key in sorted(lyric_chunk_freq(test_len_list)):\n",
    "    print(\"%s: %s\" % (key, lyric_chunk_freq(test_len_list)[key]))\n",
    "#print(lyric_chunk_freq(test_len_list))"
   ]
  },
  {
   "cell_type": "code",
   "execution_count": null,
   "metadata": {
    "colab": {
     "base_uri": "https://localhost:8080/"
    },
    "id": "Rj9br_xl4jCY",
    "outputId": "f9a79310-2b75-4b13-c68d-dac3fe72527e"
   },
   "outputs": [
    {
     "name": "stdout",
     "output_type": "stream",
     "text": [
      "Proportion of values in train labels: 0.48\n",
      "Proportion of values in validation labels: 0.42\n",
      "Proportion of values in test labels: 0.27\n"
     ]
    }
   ],
   "source": [
    "# ANALYSIS: Check proportion of label values (0s and 1s) for all datasets\n",
    "print(\"Proportion of values in train labels:\",round(np.mean(train_labels),2)) # This is oversampled\n",
    "print(\"Proportion of values in validation labels:\",round(np.mean(val_labels),2))\n",
    "print(\"Proportion of values in test labels:\",round(np.mean(test_labels),2))"
   ]
  },
  {
   "cell_type": "markdown",
   "metadata": {
    "id": "6eGhUSNIMZ9h"
   },
   "source": []
  },
  {
   "cell_type": "markdown",
   "metadata": {
    "id": "TgYjwvvwPQAe"
   },
   "source": [
    "## Load BERT tokenizer and Encode Train/Validation/Training Sets"
   ]
  },
  {
   "cell_type": "code",
   "execution_count": null,
   "metadata": {
    "id": "3YC_bnXv14V5"
   },
   "outputs": [],
   "source": [
    "# Load BERT tokenizer \n",
    "model_name = \"bert-base-uncased\"\n",
    "tokenizer = BertTokenizer.from_pretrained(model_name, do_lower_case=True)\n",
    "\n",
    "# Set max length for each row of data\n",
    "max_length = 512"
   ]
  },
  {
   "cell_type": "code",
   "execution_count": null,
   "metadata": {
    "id": "l_OI98Bwdixb"
   },
   "outputs": [],
   "source": [
    "# Tokenize train data\n",
    "x_train = tokenizer(train_data_chunks, \n",
    "              max_length=max_length,\n",
    "              truncation=True,\n",
    "              padding='max_length', \n",
    "              return_tensors='tf')\n",
    "\n",
    "\n",
    "# Grab input IDs, token type IDs, and attention masks and convert those+labels to numpy arrays\n",
    "X_train = np.array([x_train.input_ids,x_train.token_type_ids,x_train.attention_mask])\n",
    "y_train = np.array(train_labels)\n"
   ]
  },
  {
   "cell_type": "code",
   "execution_count": null,
   "metadata": {
    "id": "_aHZr7coMeoJ"
   },
   "outputs": [],
   "source": [
    "# Tokenize validation data\n",
    "x_val = tokenizer(val_data_chunks, \n",
    "              max_length=max_length,\n",
    "              truncation=True,\n",
    "              padding='max_length', \n",
    "              return_tensors='tf')\n",
    "\n",
    "\n",
    "# Grab input IDs, token type IDs, and attention masks and convert those+labels to numpy arrays\n",
    "X_val = np.array([x_val.input_ids,x_val.token_type_ids,x_val.attention_mask])\n",
    "y_val = np.array(val_labels)\n"
   ]
  },
  {
   "cell_type": "code",
   "execution_count": null,
   "metadata": {
    "id": "S_FYBxDDMh_5"
   },
   "outputs": [],
   "source": [
    "# Tokenize test data\n",
    "x_test = tokenizer(test_data_chunks, \n",
    "              max_length=max_length,\n",
    "              truncation=True,\n",
    "              padding='max_length', \n",
    "              return_tensors='tf')\n",
    "\n",
    "\n",
    "# Grab input IDs, token type IDs, and attention masks and convert those+labels to numpy arrays\n",
    "X_test = np.array([x_test.input_ids,x_test.token_type_ids,x_test.attention_mask])\n",
    "y_test = np.array(test_labels)\n"
   ]
  },
  {
   "cell_type": "markdown",
   "metadata": {
    "id": "68jvEF_au4X6"
   },
   "source": [
    "### OPTIONAL: Save train/validation/test tensors and read later"
   ]
  },
  {
   "cell_type": "code",
   "execution_count": null,
   "metadata": {
    "id": "R81OTtBGslfM"
   },
   "outputs": [],
   "source": [
    "# Save training tensors\n",
    "with open('drive/MyDrive/X_train_nometadata.pkl', 'wb') as f:\n",
    "    pickle.dump(X_train, f)\n",
    "    f.close()\n",
    "\n",
    "with open('drive/MyDrive/y_train_nometadata.pkl', 'wb') as g:\n",
    "    pickle.dump(y_train, g)\n",
    "    g.close()\n",
    "\n",
    "# Save validation tensors\n",
    "with open('drive/MyDrive/X_val_nometadata.pkl', 'wb') as h:\n",
    "    pickle.dump(X_val, h)\n",
    "    h.close()\n",
    "\n",
    "with open('drive/MyDrive/y_val_nometadata.pkl', 'wb') as i:\n",
    "    pickle.dump(y_val, i)\n",
    "    i.close()\n",
    "\n",
    "# Save test tensors\n",
    "with open('drive/MyDrive/X_test_nometadata.pkl', 'wb') as j:\n",
    "    pickle.dump(X_test, j)\n",
    "    j.close()\n",
    "\n",
    "with open('drive/MyDrive/y_test_nometadata.pkl', 'wb') as k:\n",
    "    pickle.dump(y_test, k)    \n",
    "    k.close()"
   ]
  },
  {
   "cell_type": "code",
   "execution_count": null,
   "metadata": {
    "id": "zmN0ZdwlvKON"
   },
   "outputs": [],
   "source": [
    "# Read saved training tensors\n",
    "with open('drive/MyDrive/X_train_nometadata.pkl', 'rb') as f:\n",
    "    X_train = pickle.load(f)\n",
    "    f.close()\n",
    "\n",
    "with open('drive/MyDrive/y_train_nometadata.pkl', 'rb') as g:\n",
    "    y_train = pickle.load(g)\n",
    "\n",
    "# Read saved validation tensors\n",
    "with open('drive/MyDrive/X_val_nometadata.pkl', 'rb') as h:\n",
    "    X_val = pickle.load(h)\n",
    "\n",
    "with open('drive/MyDrive/y_val_nometadata.pkl', 'rb') as i:\n",
    "    y_val = pickle.load(i)\n",
    "\n",
    "# Read saved test tensors\n",
    "with open('drive/MyDrive/X_test_nometadata.pkl', 'rb') as j:\n",
    "    X_test = pickle.load(j)\n",
    "\n",
    "with open('drive/MyDrive/y_test_nometadata.pkl', 'rb') as k:\n",
    "    y_test = pickle.load(k) "
   ]
  },
  {
   "cell_type": "markdown",
   "metadata": {
    "id": "GvyKsnIXV32N"
   },
   "source": [
    "## Load BERT model and train model"
   ]
  },
  {
   "cell_type": "code",
   "execution_count": null,
   "metadata": {
    "id": "FKrZuFatV7mh"
   },
   "outputs": [],
   "source": [
    "\n",
    "def lyric_classification_model(hidden_size = 200, train_layers = -1, lr_rate=5e-5, dropout=0.1):\n",
    "    \"\"\"\n",
    "    Build classification model with BERT to classify the lyric chunks for each song\n",
    "    \"\"\"\n",
    "    np.random.seed(1337)\n",
    "\n",
    "    # Instantiate optimizer\n",
    "    optimizer=tf.keras.optimizers.Adam(learning_rate=lr_rate)\n",
    "\n",
    "    # Load in pre-trained BERT Model\n",
    "    bert_model = TFBertModel.from_pretrained(model_name) \n",
    "\n",
    "    # Convert into keras layers and put into dictionary\n",
    "    input_ids = tf.keras.layers.Input(shape=(max_length,), dtype=tf.int32, name='input_ids_layer')\n",
    "    token_type_ids = tf.keras.layers.Input(shape=(max_length,), dtype=tf.int32, name='token_type_ids_layer')\n",
    "    attention_mask = tf.keras.layers.Input(shape=(max_length,), dtype=tf.int32, name='attention_mask_layer')\n",
    "\n",
    "    bert_inputs = {'input_ids': input_ids,\n",
    "                  'token_type_ids': token_type_ids,\n",
    "                  'attention_mask': attention_mask}\n",
    "\n",
    "\n",
    "    # Restrict training to the train_layers outer transformer layers - \n",
    "    if not train_layers == -1:\n",
    "\n",
    "            retrain_layers = []\n",
    "\n",
    "            for retrain_layer_number in range(train_layers):\n",
    "\n",
    "                layer_code = '_' + str(11 - retrain_layer_number)\n",
    "                retrain_layers.append(layer_code)\n",
    "\n",
    "            for w in bert_model.weights:\n",
    "                if not any([x in w.name for x in retrain_layers]):\n",
    "                    w._trainable = False\n",
    "\n",
    "    # Put BERT inputs into pre-trained BERT model\n",
    "    bert_out = bert_model.bert(bert_inputs)\n",
    "\n",
    "    # Gather CLS tokens for each row\n",
    "    classification_token = tf.keras.layers.Lambda(lambda x: x[:,0,:], name='get_first_vector')(bert_out[0])\n",
    "\n",
    "    # Dense and Dropout Layers\n",
    "    hidden = tf.keras.layers.Dense(hidden_size, name='hidden_layer')(classification_token)\n",
    "    hidden = tf.keras.layers.Dropout(dropout)(hidden)\n",
    "    classification = tf.keras.layers.Dense(1, activation='sigmoid',name='classification_layer')(hidden)\n",
    "\n",
    "    classification_model = tf.keras.Model(inputs=[input_ids, token_type_ids, attention_mask], \n",
    "                                          outputs=[classification])\n",
    "    \n",
    "    classification_model.compile(optimizer=optimizer,\n",
    "                            loss=tf.keras.losses.BinaryCrossentropy(from_logits=False),\n",
    "                            metrics=['accuracy'])\n",
    "\n",
    "\n",
    "    return classification_model"
   ]
  },
  {
   "cell_type": "code",
   "execution_count": null,
   "metadata": {
    "colab": {
     "base_uri": "https://localhost:8080/"
    },
    "id": "JYaEtOl8V7tK",
    "outputId": "0094b96f-1e7e-46bd-bf44-05fc8f6bf89a"
   },
   "outputs": [
    {
     "name": "stderr",
     "output_type": "stream",
     "text": [
      "Some layers from the model checkpoint at bert-base-uncased were not used when initializing TFBertModel: ['mlm___cls', 'nsp___cls']\n",
      "- This IS expected if you are initializing TFBertModel from the checkpoint of a model trained on another task or with another architecture (e.g. initializing a BertForSequenceClassification model from a BertForPreTraining model).\n",
      "- This IS NOT expected if you are initializing TFBertModel from the checkpoint of a model that you expect to be exactly identical (initializing a BertForSequenceClassification model from a BertForSequenceClassification model).\n",
      "All the layers of TFBertModel were initialized from the model checkpoint at bert-base-uncased.\n",
      "If your task is similar to the task the model of the checkpoint was trained on, you can already use TFBertModel for predictions without further training.\n"
     ]
    }
   ],
   "source": [
    "# Build classification model\n",
    "classification_model = lyric_classification_model(train_layers=1,lr_rate=5e-6,dropout=0.1)     \n"
   ]
  },
  {
   "cell_type": "code",
   "execution_count": null,
   "metadata": {
    "colab": {
     "base_uri": "https://localhost:8080/"
    },
    "id": "e3_na_rgEOE2",
    "outputId": "a2b768d0-a7ce-4d34-c846-8e95ae081cf8"
   },
   "outputs": [
    {
     "name": "stdout",
     "output_type": "stream",
     "text": [
      "Model: \"model_1\"\n",
      "__________________________________________________________________________________________________\n",
      " Layer (type)                   Output Shape         Param #     Connected to                     \n",
      "==================================================================================================\n",
      " attention_mask_layer (InputLay  [(None, 512)]       0           []                               \n",
      " er)                                                                                              \n",
      "                                                                                                  \n",
      " input_ids_layer (InputLayer)   [(None, 512)]        0           []                               \n",
      "                                                                                                  \n",
      " token_type_ids_layer (InputLay  [(None, 512)]       0           []                               \n",
      " er)                                                                                              \n",
      "                                                                                                  \n",
      " bert (TFBertMainLayer)         TFBaseModelOutputWi  109482240   ['attention_mask_layer[0][0]',   \n",
      "                                thPoolingAndCrossAt               'input_ids_layer[0][0]',        \n",
      "                                tentions(last_hidde               'token_type_ids_layer[0][0]']   \n",
      "                                n_state=(None, 512,                                               \n",
      "                                 768),                                                            \n",
      "                                 pooler_output=(Non                                               \n",
      "                                e, 768),                                                          \n",
      "                                 past_key_values=No                                               \n",
      "                                ne, hidden_states=N                                               \n",
      "                                one, attentions=Non                                               \n",
      "                                e, cross_attentions                                               \n",
      "                                =None)                                                            \n",
      "                                                                                                  \n",
      " get_first_vector (Lambda)      (None, 768)          0           ['bert[0][0]']                   \n",
      "                                                                                                  \n",
      " hidden_layer (Dense)           (None, 200)          153800      ['get_first_vector[0][0]']       \n",
      "                                                                                                  \n",
      " dropout_75 (Dropout)           (None, 200)          0           ['hidden_layer[0][0]']           \n",
      "                                                                                                  \n",
      " classification_layer (Dense)   (None, 1)            201         ['dropout_75[0][0]']             \n",
      "                                                                                                  \n",
      "==================================================================================================\n",
      "Total params: 109,636,241\n",
      "Trainable params: 109,636,241\n",
      "Non-trainable params: 0\n",
      "__________________________________________________________________________________________________\n"
     ]
    }
   ],
   "source": [
    "classification_model.summary()"
   ]
  },
  {
   "cell_type": "code",
   "execution_count": null,
   "metadata": {
    "colab": {
     "base_uri": "https://localhost:8080/"
    },
    "id": "NiMnbdWq-l5m",
    "outputId": "3ae16751-fefc-4232-bb93-ce0913cd17de"
   },
   "outputs": [
    {
     "name": "stdout",
     "output_type": "stream",
     "text": [
      "Epoch 1/3\n",
      "1562/1562 [==============================] - 520s 329ms/step - loss: 0.6704 - accuracy: 0.6047 - val_loss: 0.6262 - val_accuracy: 0.6644\n",
      "Epoch 2/3\n",
      "1562/1562 [==============================] - 511s 327ms/step - loss: 0.6076 - accuracy: 0.6695 - val_loss: 0.6213 - val_accuracy: 0.6717\n",
      "Epoch 3/3\n",
      "1562/1562 [==============================] - 513s 328ms/step - loss: 0.5815 - accuracy: 0.6948 - val_loss: 0.6617 - val_accuracy: 0.6446\n"
     ]
    },
    {
     "data": {
      "text/plain": [
       "<keras.callbacks.History at 0x7f3997b54450>"
      ]
     },
     "execution_count": 16,
     "metadata": {},
     "output_type": "execute_result"
    }
   ],
   "source": [
    "# Fit classification model\n",
    "classification_model.fit([X_train[0], X_train[1], X_train[2]], y_train,\n",
    "                          validation_data=([X_val[0], X_val[1], X_val[2]],\n",
    "                          y_val),\n",
    "                          epochs=3,\n",
    "                          batch_size=8)"
   ]
  },
  {
   "cell_type": "markdown",
   "metadata": {
    "id": "M9S0NJFSS0q3"
   },
   "source": [
    "## Predict and Evaluate Results of Classification Model"
   ]
  },
  {
   "cell_type": "code",
   "execution_count": null,
   "metadata": {
    "colab": {
     "base_uri": "https://localhost:8080/"
    },
    "id": "bGbHziUhEuEW",
    "outputId": "63b0adb2-c173-4ce7-8979-67539fc97b8c"
   },
   "outputs": [
    {
     "name": "stdout",
     "output_type": "stream",
     "text": [
      "Test Predictions (Chunks) shape: (10541,)\n",
      "Test Set (Chunks) shape: (10541,)\n"
     ]
    }
   ],
   "source": [
    "# Calculate predictions of song chunks\n",
    "y_predicted_proba = classification_model.predict([X_test[0], X_test[1], X_test[2]])\n",
    "\n",
    "# Uncomment below line if you want to use a loaded model\n",
    "# y_predicted_proba = classification_model_loaded.predict([X_test[0], X_test[1], X_test[2]])\n",
    "\n",
    "# Get 1D array of the song chunk probabilities\n",
    "y_predicted_proba = y_predicted_proba.flatten()\n",
    "\n",
    "# Verify that total number of chunks is between predicted probabilities and test set\n",
    "print(\"Test Predictions (Chunks) shape:\",y_predicted_proba.shape)\n",
    "print(\"Test Set (Chunks) shape:\", y_test.shape)\n",
    "assert(y_predicted_proba.shape==y_test.shape)"
   ]
  },
  {
   "cell_type": "markdown",
   "metadata": {
    "id": "3j4yVIIKDvix"
   },
   "source": [
    "NOTE: Keep below two cells commented unless you want to save/load new chunk probabilities"
   ]
  },
  {
   "cell_type": "code",
   "execution_count": null,
   "metadata": {
    "id": "zlBSks05CREK"
   },
   "outputs": [],
   "source": [
    "# Write chunk probabilties (y_predicted_proba) for chunks to text files\n",
    "# with open(\"drive/MyDrive/y_final_probas_chunk_FineTuning_nometadata_v1.txt\",\"w\") as f:\n",
    "#     for item in y_predicted_proba:\n",
    "#         f.write('%s\\n' % item)"
   ]
  },
  {
   "cell_type": "code",
   "execution_count": null,
   "metadata": {
    "id": "kdCapViqCwts"
   },
   "outputs": [],
   "source": [
    "# Load most recent chunk probabilities from text file into python list\n",
    "# NOTE: Make sure text file is in drive/MyDrive before running this\n",
    "\n",
    "# # define an empty list that you will read y_predictions into\n",
    "# y_predicted_loaded = []\n",
    "# with open('drive/MyDrive/y_final_probas_chunk_noFineTuning.txt', 'r') as filehandle:\n",
    "#     for line in filehandle:\n",
    "#         # remove linebreak which is the last character of the string\n",
    "#         currentPlace = line[:-1]\n",
    "\n",
    "#         # add item to the list\n",
    "#         y_predicted_loaded.append(float(currentPlace))\n",
    "\n",
    "# # Convert list to numpy array like original variable\n",
    "# y_predicted_proba = np.array(y_predicted_loaded)\n",
    "\n"
   ]
  },
  {
   "cell_type": "code",
   "execution_count": null,
   "metadata": {
    "id": "VawISEg5FAdW"
   },
   "outputs": [],
   "source": [
    "# Compile song chunk probabilities per song into a dataframe\n",
    "\n",
    "def song_to_chunk_probas(y_predicted_proba):\n",
    "    \"\"\"This function compiles song chunk probabilities per song\n",
    "       and returns this into a dictionary with the format\n",
    "       song_id_1: [chunk_proba1, chunk_proba2, ...]\n",
    "       song_id_2: [chunk_proba1, chunk_proba2, ...] etc\"\"\"\n",
    "    # Create dict of indexes of each test_df song & number of chunks for that song\n",
    "    chunk_len_dict = {i: len(val['lyric_split']) for i,val in test_df.iterrows()}\n",
    "\n",
    "    # Verify that total number of chunks = total number of predicted values\n",
    "    assert(sum(chunk_len_dict.values())==len(y_predicted_proba))\n",
    "\n",
    "    # Gather indexes of first and last songs from dictionary\n",
    "    dict_counter = int(list(chunk_len_dict.keys())[0])\n",
    "    last_dict_counter = int(list(chunk_len_dict.keys())[-1])\n",
    "\n",
    "    # Call counters\n",
    "    i=0\n",
    "    song_count = 0\n",
    "\n",
    "    # Instantiate new list that'll contain probabilities PER SONG\n",
    "    new_pred_proba_dict = {}\n",
    "\n",
    "    while dict_counter<=last_dict_counter:\n",
    "        # Gather number of chunks for song based on value in dictionary\n",
    "        num_chunks = chunk_len_dict[dict_counter]\n",
    "\n",
    "        # Gather probabilities of chunks for one song\n",
    "        song_chunk_proba = y_predicted_proba[i:i+num_chunks]\n",
    "\n",
    "        # Add to song counter\n",
    "        song_count+=1\n",
    "\n",
    "        # Add list of song chunk probabilities to dict\n",
    "        #new_pred_proba_list.append(np.mean(song_chunk_proba))\n",
    "        new_pred_proba_dict[dict_counter] = song_chunk_proba\n",
    "\n",
    "        # Move to next key in dictionary\n",
    "        dict_counter+=1\n",
    "\n",
    "        # Move to next song index in predicted probabilities list\n",
    "        i+=num_chunks\n",
    "    \n",
    "    # Calculate max number of chunks and create column names based on this value\n",
    "    max_chunks = max([len(item) for key,item in new_pred_proba_dict.items()])\n",
    "    columns = [\"chunk\"+str(i) for i in range(max_chunks)]\n",
    "\n",
    "    # Convert dictionary --> dataframe that contains probabilities of chunks for each song\n",
    "    chunk_proba_df = pd.DataFrame.from_dict(new_pred_proba_dict,orient='index')\n",
    "\n",
    "    # Fill any null values with 0\n",
    "    chunk_proba_df = chunk_proba_df.fillna(0)\n",
    "\n",
    "    # Rename columns\n",
    "    chunk_proba_df.columns = columns\n",
    "\n",
    "    # Set index\n",
    "    chunk_proba_df.index.names = ['ID']\n",
    "\n",
    "    return(chunk_proba_df)\n"
   ]
  },
  {
   "cell_type": "code",
   "execution_count": null,
   "metadata": {
    "colab": {
     "base_uri": "https://localhost:8080/",
     "height": 331
    },
    "id": "c3CCedwy6CV3",
    "outputId": "da02e457-31e6-4c99-949f-abc2e86b7ef6"
   },
   "outputs": [
    {
     "data": {
      "text/html": [
       "\n",
       "  <div id=\"df-6e843c4f-cb75-4731-8c93-ae1a032c6713\">\n",
       "    <div class=\"colab-df-container\">\n",
       "      <div>\n",
       "<style scoped>\n",
       "    .dataframe tbody tr th:only-of-type {\n",
       "        vertical-align: middle;\n",
       "    }\n",
       "\n",
       "    .dataframe tbody tr th {\n",
       "        vertical-align: top;\n",
       "    }\n",
       "\n",
       "    .dataframe thead th {\n",
       "        text-align: right;\n",
       "    }\n",
       "</style>\n",
       "<table border=\"1\" class=\"dataframe\">\n",
       "  <thead>\n",
       "    <tr style=\"text-align: right;\">\n",
       "      <th></th>\n",
       "      <th>chunk0</th>\n",
       "      <th>chunk1</th>\n",
       "      <th>chunk2</th>\n",
       "      <th>chunk3</th>\n",
       "      <th>chunk4</th>\n",
       "      <th>chunk5</th>\n",
       "      <th>chunk6</th>\n",
       "      <th>chunk7</th>\n",
       "      <th>chunk8</th>\n",
       "      <th>chunk9</th>\n",
       "      <th>...</th>\n",
       "      <th>chunk18</th>\n",
       "      <th>chunk19</th>\n",
       "      <th>chunk20</th>\n",
       "      <th>chunk21</th>\n",
       "      <th>chunk22</th>\n",
       "      <th>chunk23</th>\n",
       "      <th>chunk24</th>\n",
       "      <th>chunk25</th>\n",
       "      <th>chunk26</th>\n",
       "      <th>chunk27</th>\n",
       "    </tr>\n",
       "    <tr>\n",
       "      <th>ID</th>\n",
       "      <th></th>\n",
       "      <th></th>\n",
       "      <th></th>\n",
       "      <th></th>\n",
       "      <th></th>\n",
       "      <th></th>\n",
       "      <th></th>\n",
       "      <th></th>\n",
       "      <th></th>\n",
       "      <th></th>\n",
       "      <th></th>\n",
       "      <th></th>\n",
       "      <th></th>\n",
       "      <th></th>\n",
       "      <th></th>\n",
       "      <th></th>\n",
       "      <th></th>\n",
       "      <th></th>\n",
       "      <th></th>\n",
       "      <th></th>\n",
       "      <th></th>\n",
       "    </tr>\n",
       "  </thead>\n",
       "  <tbody>\n",
       "    <tr>\n",
       "      <th>4914</th>\n",
       "      <td>0.122965</td>\n",
       "      <td>0.000000</td>\n",
       "      <td>0.000000</td>\n",
       "      <td>0.00000</td>\n",
       "      <td>0.0</td>\n",
       "      <td>0.0</td>\n",
       "      <td>0.0</td>\n",
       "      <td>0.0</td>\n",
       "      <td>0.0</td>\n",
       "      <td>0.0</td>\n",
       "      <td>...</td>\n",
       "      <td>0.0</td>\n",
       "      <td>0.0</td>\n",
       "      <td>0.0</td>\n",
       "      <td>0.0</td>\n",
       "      <td>0.0</td>\n",
       "      <td>0.0</td>\n",
       "      <td>0.0</td>\n",
       "      <td>0.0</td>\n",
       "      <td>0.0</td>\n",
       "      <td>0.0</td>\n",
       "    </tr>\n",
       "    <tr>\n",
       "      <th>4915</th>\n",
       "      <td>0.488153</td>\n",
       "      <td>0.554319</td>\n",
       "      <td>0.000000</td>\n",
       "      <td>0.00000</td>\n",
       "      <td>0.0</td>\n",
       "      <td>0.0</td>\n",
       "      <td>0.0</td>\n",
       "      <td>0.0</td>\n",
       "      <td>0.0</td>\n",
       "      <td>0.0</td>\n",
       "      <td>...</td>\n",
       "      <td>0.0</td>\n",
       "      <td>0.0</td>\n",
       "      <td>0.0</td>\n",
       "      <td>0.0</td>\n",
       "      <td>0.0</td>\n",
       "      <td>0.0</td>\n",
       "      <td>0.0</td>\n",
       "      <td>0.0</td>\n",
       "      <td>0.0</td>\n",
       "      <td>0.0</td>\n",
       "    </tr>\n",
       "    <tr>\n",
       "      <th>4916</th>\n",
       "      <td>0.235101</td>\n",
       "      <td>0.173108</td>\n",
       "      <td>0.000000</td>\n",
       "      <td>0.00000</td>\n",
       "      <td>0.0</td>\n",
       "      <td>0.0</td>\n",
       "      <td>0.0</td>\n",
       "      <td>0.0</td>\n",
       "      <td>0.0</td>\n",
       "      <td>0.0</td>\n",
       "      <td>...</td>\n",
       "      <td>0.0</td>\n",
       "      <td>0.0</td>\n",
       "      <td>0.0</td>\n",
       "      <td>0.0</td>\n",
       "      <td>0.0</td>\n",
       "      <td>0.0</td>\n",
       "      <td>0.0</td>\n",
       "      <td>0.0</td>\n",
       "      <td>0.0</td>\n",
       "      <td>0.0</td>\n",
       "    </tr>\n",
       "    <tr>\n",
       "      <th>4917</th>\n",
       "      <td>0.161030</td>\n",
       "      <td>0.497399</td>\n",
       "      <td>0.416635</td>\n",
       "      <td>0.49759</td>\n",
       "      <td>0.0</td>\n",
       "      <td>0.0</td>\n",
       "      <td>0.0</td>\n",
       "      <td>0.0</td>\n",
       "      <td>0.0</td>\n",
       "      <td>0.0</td>\n",
       "      <td>...</td>\n",
       "      <td>0.0</td>\n",
       "      <td>0.0</td>\n",
       "      <td>0.0</td>\n",
       "      <td>0.0</td>\n",
       "      <td>0.0</td>\n",
       "      <td>0.0</td>\n",
       "      <td>0.0</td>\n",
       "      <td>0.0</td>\n",
       "      <td>0.0</td>\n",
       "      <td>0.0</td>\n",
       "    </tr>\n",
       "    <tr>\n",
       "      <th>4918</th>\n",
       "      <td>0.255281</td>\n",
       "      <td>0.350244</td>\n",
       "      <td>0.000000</td>\n",
       "      <td>0.00000</td>\n",
       "      <td>0.0</td>\n",
       "      <td>0.0</td>\n",
       "      <td>0.0</td>\n",
       "      <td>0.0</td>\n",
       "      <td>0.0</td>\n",
       "      <td>0.0</td>\n",
       "      <td>...</td>\n",
       "      <td>0.0</td>\n",
       "      <td>0.0</td>\n",
       "      <td>0.0</td>\n",
       "      <td>0.0</td>\n",
       "      <td>0.0</td>\n",
       "      <td>0.0</td>\n",
       "      <td>0.0</td>\n",
       "      <td>0.0</td>\n",
       "      <td>0.0</td>\n",
       "      <td>0.0</td>\n",
       "    </tr>\n",
       "  </tbody>\n",
       "</table>\n",
       "<p>5 rows × 28 columns</p>\n",
       "</div>\n",
       "      <button class=\"colab-df-convert\" onclick=\"convertToInteractive('df-6e843c4f-cb75-4731-8c93-ae1a032c6713')\"\n",
       "              title=\"Convert this dataframe to an interactive table.\"\n",
       "              style=\"display:none;\">\n",
       "        \n",
       "  <svg xmlns=\"http://www.w3.org/2000/svg\" height=\"24px\"viewBox=\"0 0 24 24\"\n",
       "       width=\"24px\">\n",
       "    <path d=\"M0 0h24v24H0V0z\" fill=\"none\"/>\n",
       "    <path d=\"M18.56 5.44l.94 2.06.94-2.06 2.06-.94-2.06-.94-.94-2.06-.94 2.06-2.06.94zm-11 1L8.5 8.5l.94-2.06 2.06-.94-2.06-.94L8.5 2.5l-.94 2.06-2.06.94zm10 10l.94 2.06.94-2.06 2.06-.94-2.06-.94-.94-2.06-.94 2.06-2.06.94z\"/><path d=\"M17.41 7.96l-1.37-1.37c-.4-.4-.92-.59-1.43-.59-.52 0-1.04.2-1.43.59L10.3 9.45l-7.72 7.72c-.78.78-.78 2.05 0 2.83L4 21.41c.39.39.9.59 1.41.59.51 0 1.02-.2 1.41-.59l7.78-7.78 2.81-2.81c.8-.78.8-2.07 0-2.86zM5.41 20L4 18.59l7.72-7.72 1.47 1.35L5.41 20z\"/>\n",
       "  </svg>\n",
       "      </button>\n",
       "      \n",
       "  <style>\n",
       "    .colab-df-container {\n",
       "      display:flex;\n",
       "      flex-wrap:wrap;\n",
       "      gap: 12px;\n",
       "    }\n",
       "\n",
       "    .colab-df-convert {\n",
       "      background-color: #E8F0FE;\n",
       "      border: none;\n",
       "      border-radius: 50%;\n",
       "      cursor: pointer;\n",
       "      display: none;\n",
       "      fill: #1967D2;\n",
       "      height: 32px;\n",
       "      padding: 0 0 0 0;\n",
       "      width: 32px;\n",
       "    }\n",
       "\n",
       "    .colab-df-convert:hover {\n",
       "      background-color: #E2EBFA;\n",
       "      box-shadow: 0px 1px 2px rgba(60, 64, 67, 0.3), 0px 1px 3px 1px rgba(60, 64, 67, 0.15);\n",
       "      fill: #174EA6;\n",
       "    }\n",
       "\n",
       "    [theme=dark] .colab-df-convert {\n",
       "      background-color: #3B4455;\n",
       "      fill: #D2E3FC;\n",
       "    }\n",
       "\n",
       "    [theme=dark] .colab-df-convert:hover {\n",
       "      background-color: #434B5C;\n",
       "      box-shadow: 0px 1px 3px 1px rgba(0, 0, 0, 0.15);\n",
       "      filter: drop-shadow(0px 1px 2px rgba(0, 0, 0, 0.3));\n",
       "      fill: #FFFFFF;\n",
       "    }\n",
       "  </style>\n",
       "\n",
       "      <script>\n",
       "        const buttonEl =\n",
       "          document.querySelector('#df-6e843c4f-cb75-4731-8c93-ae1a032c6713 button.colab-df-convert');\n",
       "        buttonEl.style.display =\n",
       "          google.colab.kernel.accessAllowed ? 'block' : 'none';\n",
       "\n",
       "        async function convertToInteractive(key) {\n",
       "          const element = document.querySelector('#df-6e843c4f-cb75-4731-8c93-ae1a032c6713');\n",
       "          const dataTable =\n",
       "            await google.colab.kernel.invokeFunction('convertToInteractive',\n",
       "                                                     [key], {});\n",
       "          if (!dataTable) return;\n",
       "\n",
       "          const docLinkHtml = 'Like what you see? Visit the ' +\n",
       "            '<a target=\"_blank\" href=https://colab.research.google.com/notebooks/data_table.ipynb>data table notebook</a>'\n",
       "            + ' to learn more about interactive tables.';\n",
       "          element.innerHTML = '';\n",
       "          dataTable['output_type'] = 'display_data';\n",
       "          await google.colab.output.renderOutput(dataTable, element);\n",
       "          const docLink = document.createElement('div');\n",
       "          docLink.innerHTML = docLinkHtml;\n",
       "          element.appendChild(docLink);\n",
       "        }\n",
       "      </script>\n",
       "    </div>\n",
       "  </div>\n",
       "  "
      ],
      "text/plain": [
       "        chunk0    chunk1    chunk2   chunk3  chunk4  chunk5  chunk6  chunk7  \\\n",
       "ID                                                                            \n",
       "4914  0.122965  0.000000  0.000000  0.00000     0.0     0.0     0.0     0.0   \n",
       "4915  0.488153  0.554319  0.000000  0.00000     0.0     0.0     0.0     0.0   \n",
       "4916  0.235101  0.173108  0.000000  0.00000     0.0     0.0     0.0     0.0   \n",
       "4917  0.161030  0.497399  0.416635  0.49759     0.0     0.0     0.0     0.0   \n",
       "4918  0.255281  0.350244  0.000000  0.00000     0.0     0.0     0.0     0.0   \n",
       "\n",
       "      chunk8  chunk9  ...  chunk18  chunk19  chunk20  chunk21  chunk22  \\\n",
       "ID                    ...                                                \n",
       "4914     0.0     0.0  ...      0.0      0.0      0.0      0.0      0.0   \n",
       "4915     0.0     0.0  ...      0.0      0.0      0.0      0.0      0.0   \n",
       "4916     0.0     0.0  ...      0.0      0.0      0.0      0.0      0.0   \n",
       "4917     0.0     0.0  ...      0.0      0.0      0.0      0.0      0.0   \n",
       "4918     0.0     0.0  ...      0.0      0.0      0.0      0.0      0.0   \n",
       "\n",
       "      chunk23  chunk24  chunk25  chunk26  chunk27  \n",
       "ID                                                 \n",
       "4914      0.0      0.0      0.0      0.0      0.0  \n",
       "4915      0.0      0.0      0.0      0.0      0.0  \n",
       "4916      0.0      0.0      0.0      0.0      0.0  \n",
       "4917      0.0      0.0      0.0      0.0      0.0  \n",
       "4918      0.0      0.0      0.0      0.0      0.0  \n",
       "\n",
       "[5 rows x 28 columns]"
      ]
     },
     "execution_count": 25,
     "metadata": {},
     "output_type": "execute_result"
    }
   ],
   "source": [
    "# Dataframe containing song chunk probabilities per song ID\n",
    "chunk_proba_df = song_to_chunk_probas(y_predicted_proba)\n",
    "chunk_proba_df.head()"
   ]
  },
  {
   "cell_type": "markdown",
   "metadata": {
    "id": "pCZnVf6xBU3L"
   },
   "source": [
    "## Run Regression to calculate accuracy and f1-score"
   ]
  },
  {
   "cell_type": "code",
   "execution_count": null,
   "metadata": {
    "colab": {
     "base_uri": "https://localhost:8080/",
     "height": 1000
    },
    "id": "nke7MICB6q3l",
    "outputId": "92a42298-e716-48e7-bee6-4a55061c9799"
   },
   "outputs": [
    {
     "data": {
      "text/html": [
       "<table class=\"simpletable\">\n",
       "<caption>OLS Regression Results</caption>\n",
       "<tr>\n",
       "  <th>Dep. Variable:</th>           <td>hit</td>       <th>  R-squared (uncentered):</th>      <td>   0.300</td> \n",
       "</tr>\n",
       "<tr>\n",
       "  <th>Model:</th>                   <td>OLS</td>       <th>  Adj. R-squared (uncentered):</th> <td>   0.295</td> \n",
       "</tr>\n",
       "<tr>\n",
       "  <th>Method:</th>             <td>Least Squares</td>  <th>  F-statistic:       </th>          <td>   59.46</td> \n",
       "</tr>\n",
       "<tr>\n",
       "  <th>Date:</th>             <td>Sat, 09 Apr 2022</td> <th>  Prob (F-statistic):</th>          <td>6.18e-256</td>\n",
       "</tr>\n",
       "<tr>\n",
       "  <th>Time:</th>                 <td>03:33:40</td>     <th>  Log-Likelihood:    </th>          <td> -856.87</td> \n",
       "</tr>\n",
       "<tr>\n",
       "  <th>No. Observations:</th>      <td>  3632</td>      <th>  AIC:               </th>          <td>   1766.</td> \n",
       "</tr>\n",
       "<tr>\n",
       "  <th>Df Residuals:</th>          <td>  3606</td>      <th>  BIC:               </th>          <td>   1927.</td> \n",
       "</tr>\n",
       "<tr>\n",
       "  <th>Df Model:</th>              <td>    26</td>      <th>                     </th>              <td> </td>    \n",
       "</tr>\n",
       "<tr>\n",
       "  <th>Covariance Type:</th>      <td>nonrobust</td>    <th>                     </th>              <td> </td>    \n",
       "</tr>\n",
       "</table>\n",
       "<table class=\"simpletable\">\n",
       "<tr>\n",
       "     <td></td>        <th>coef</th>     <th>std err</th>      <th>t</th>      <th>P>|t|</th>  <th>[0.025</th>    <th>0.975]</th>  \n",
       "</tr>\n",
       "<tr>\n",
       "  <th>chunk0</th>  <td>    0.1188</td> <td>    0.025</td> <td>    4.838</td> <td> 0.000</td> <td>    0.071</td> <td>    0.167</td>\n",
       "</tr>\n",
       "<tr>\n",
       "  <th>chunk1</th>  <td>    0.0085</td> <td>    0.029</td> <td>    0.291</td> <td> 0.771</td> <td>   -0.049</td> <td>    0.066</td>\n",
       "</tr>\n",
       "<tr>\n",
       "  <th>chunk2</th>  <td>    0.1549</td> <td>    0.025</td> <td>    6.214</td> <td> 0.000</td> <td>    0.106</td> <td>    0.204</td>\n",
       "</tr>\n",
       "<tr>\n",
       "  <th>chunk3</th>  <td>    0.0653</td> <td>    0.036</td> <td>    1.830</td> <td> 0.067</td> <td>   -0.005</td> <td>    0.135</td>\n",
       "</tr>\n",
       "<tr>\n",
       "  <th>chunk4</th>  <td>    0.1258</td> <td>    0.051</td> <td>    2.454</td> <td> 0.014</td> <td>    0.025</td> <td>    0.226</td>\n",
       "</tr>\n",
       "<tr>\n",
       "  <th>chunk5</th>  <td>    0.0215</td> <td>    0.070</td> <td>    0.305</td> <td> 0.760</td> <td>   -0.117</td> <td>    0.160</td>\n",
       "</tr>\n",
       "<tr>\n",
       "  <th>chunk6</th>  <td>    0.3046</td> <td>    0.093</td> <td>    3.259</td> <td> 0.001</td> <td>    0.121</td> <td>    0.488</td>\n",
       "</tr>\n",
       "<tr>\n",
       "  <th>chunk7</th>  <td>   -0.1236</td> <td>    0.112</td> <td>   -1.104</td> <td> 0.270</td> <td>   -0.343</td> <td>    0.096</td>\n",
       "</tr>\n",
       "<tr>\n",
       "  <th>chunk8</th>  <td>    0.1288</td> <td>    0.133</td> <td>    0.967</td> <td> 0.334</td> <td>   -0.132</td> <td>    0.390</td>\n",
       "</tr>\n",
       "<tr>\n",
       "  <th>chunk9</th>  <td>    0.1642</td> <td>    0.144</td> <td>    1.137</td> <td> 0.256</td> <td>   -0.119</td> <td>    0.447</td>\n",
       "</tr>\n",
       "<tr>\n",
       "  <th>chunk10</th> <td>   -0.2842</td> <td>    0.153</td> <td>   -1.858</td> <td> 0.063</td> <td>   -0.584</td> <td>    0.016</td>\n",
       "</tr>\n",
       "<tr>\n",
       "  <th>chunk11</th> <td>   -0.1171</td> <td>    0.197</td> <td>   -0.596</td> <td> 0.551</td> <td>   -0.502</td> <td>    0.268</td>\n",
       "</tr>\n",
       "<tr>\n",
       "  <th>chunk12</th> <td>    0.7597</td> <td>    0.228</td> <td>    3.335</td> <td> 0.001</td> <td>    0.313</td> <td>    1.206</td>\n",
       "</tr>\n",
       "<tr>\n",
       "  <th>chunk13</th> <td>   -0.3459</td> <td>    0.208</td> <td>   -1.664</td> <td> 0.096</td> <td>   -0.753</td> <td>    0.062</td>\n",
       "</tr>\n",
       "<tr>\n",
       "  <th>chunk14</th> <td>    0.3230</td> <td>    0.244</td> <td>    1.322</td> <td> 0.186</td> <td>   -0.156</td> <td>    0.802</td>\n",
       "</tr>\n",
       "<tr>\n",
       "  <th>chunk15</th> <td>   -0.5425</td> <td>    0.278</td> <td>   -1.953</td> <td> 0.051</td> <td>   -1.087</td> <td>    0.002</td>\n",
       "</tr>\n",
       "<tr>\n",
       "  <th>chunk16</th> <td>   -0.2981</td> <td>    0.386</td> <td>   -0.772</td> <td> 0.440</td> <td>   -1.055</td> <td>    0.459</td>\n",
       "</tr>\n",
       "<tr>\n",
       "  <th>chunk17</th> <td>    0.9329</td> <td>    0.501</td> <td>    1.862</td> <td> 0.063</td> <td>   -0.050</td> <td>    1.915</td>\n",
       "</tr>\n",
       "<tr>\n",
       "  <th>chunk18</th> <td>   -1.6702</td> <td>    0.687</td> <td>   -2.430</td> <td> 0.015</td> <td>   -3.018</td> <td>   -0.323</td>\n",
       "</tr>\n",
       "<tr>\n",
       "  <th>chunk19</th> <td>    0.6481</td> <td>    2.428</td> <td>    0.267</td> <td> 0.790</td> <td>   -4.112</td> <td>    5.409</td>\n",
       "</tr>\n",
       "<tr>\n",
       "  <th>chunk20</th> <td>   -0.1912</td> <td>    2.741</td> <td>   -0.070</td> <td> 0.944</td> <td>   -5.566</td> <td>    5.184</td>\n",
       "</tr>\n",
       "<tr>\n",
       "  <th>chunk21</th> <td>    1.1645</td> <td>    1.179</td> <td>    0.988</td> <td> 0.323</td> <td>   -1.146</td> <td>    3.475</td>\n",
       "</tr>\n",
       "<tr>\n",
       "  <th>chunk22</th> <td>    0.0247</td> <td>    1.028</td> <td>    0.024</td> <td> 0.981</td> <td>   -1.991</td> <td>    2.041</td>\n",
       "</tr>\n",
       "<tr>\n",
       "  <th>chunk23</th> <td>    0.0667</td> <td>    1.518</td> <td>    0.044</td> <td> 0.965</td> <td>   -2.910</td> <td>    3.043</td>\n",
       "</tr>\n",
       "<tr>\n",
       "  <th>chunk24</th> <td>   -1.3190</td> <td>    0.717</td> <td>   -1.841</td> <td> 0.066</td> <td>   -2.724</td> <td>    0.086</td>\n",
       "</tr>\n",
       "<tr>\n",
       "  <th>chunk25</th> <td>   -0.1382</td> <td>    0.485</td> <td>   -0.285</td> <td> 0.776</td> <td>   -1.089</td> <td>    0.812</td>\n",
       "</tr>\n",
       "<tr>\n",
       "  <th>chunk26</th> <td>    0.8548</td> <td>    0.475</td> <td>    1.799</td> <td> 0.072</td> <td>   -0.077</td> <td>    1.786</td>\n",
       "</tr>\n",
       "<tr>\n",
       "  <th>chunk27</th> <td>    0.9922</td> <td>    0.551</td> <td>    1.799</td> <td> 0.072</td> <td>   -0.089</td> <td>    2.073</td>\n",
       "</tr>\n",
       "</table>\n",
       "<table class=\"simpletable\">\n",
       "<tr>\n",
       "  <th>Omnibus:</th>       <td>1259.225</td> <th>  Durbin-Watson:     </th> <td>   1.991</td>\n",
       "</tr>\n",
       "<tr>\n",
       "  <th>Prob(Omnibus):</th>  <td> 0.000</td>  <th>  Jarque-Bera (JB):  </th> <td>3519.880</td>\n",
       "</tr>\n",
       "<tr>\n",
       "  <th>Skew:</th>           <td> 1.865</td>  <th>  Prob(JB):          </th> <td>    0.00</td>\n",
       "</tr>\n",
       "<tr>\n",
       "  <th>Kurtosis:</th>       <td> 6.057</td>  <th>  Cond. No.          </th> <td>1.45e+16</td>\n",
       "</tr>\n",
       "</table><br/><br/>Warnings:<br/>[1] Standard Errors assume that the covariance matrix of the errors is correctly specified.<br/>[2] The smallest eigenvalue is 1.43e-29. This might indicate that there are<br/>strong multicollinearity problems or that the design matrix is singular."
      ],
      "text/plain": [
       "<class 'statsmodels.iolib.summary.Summary'>\n",
       "\"\"\"\n",
       "                                 OLS Regression Results                                \n",
       "=======================================================================================\n",
       "Dep. Variable:                    hit   R-squared (uncentered):                   0.300\n",
       "Model:                            OLS   Adj. R-squared (uncentered):              0.295\n",
       "Method:                 Least Squares   F-statistic:                              59.46\n",
       "Date:                Sat, 09 Apr 2022   Prob (F-statistic):                   6.18e-256\n",
       "Time:                        03:33:40   Log-Likelihood:                         -856.87\n",
       "No. Observations:                3632   AIC:                                      1766.\n",
       "Df Residuals:                    3606   BIC:                                      1927.\n",
       "Df Model:                          26                                                  \n",
       "Covariance Type:            nonrobust                                                  \n",
       "==============================================================================\n",
       "                 coef    std err          t      P>|t|      [0.025      0.975]\n",
       "------------------------------------------------------------------------------\n",
       "chunk0         0.1188      0.025      4.838      0.000       0.071       0.167\n",
       "chunk1         0.0085      0.029      0.291      0.771      -0.049       0.066\n",
       "chunk2         0.1549      0.025      6.214      0.000       0.106       0.204\n",
       "chunk3         0.0653      0.036      1.830      0.067      -0.005       0.135\n",
       "chunk4         0.1258      0.051      2.454      0.014       0.025       0.226\n",
       "chunk5         0.0215      0.070      0.305      0.760      -0.117       0.160\n",
       "chunk6         0.3046      0.093      3.259      0.001       0.121       0.488\n",
       "chunk7        -0.1236      0.112     -1.104      0.270      -0.343       0.096\n",
       "chunk8         0.1288      0.133      0.967      0.334      -0.132       0.390\n",
       "chunk9         0.1642      0.144      1.137      0.256      -0.119       0.447\n",
       "chunk10       -0.2842      0.153     -1.858      0.063      -0.584       0.016\n",
       "chunk11       -0.1171      0.197     -0.596      0.551      -0.502       0.268\n",
       "chunk12        0.7597      0.228      3.335      0.001       0.313       1.206\n",
       "chunk13       -0.3459      0.208     -1.664      0.096      -0.753       0.062\n",
       "chunk14        0.3230      0.244      1.322      0.186      -0.156       0.802\n",
       "chunk15       -0.5425      0.278     -1.953      0.051      -1.087       0.002\n",
       "chunk16       -0.2981      0.386     -0.772      0.440      -1.055       0.459\n",
       "chunk17        0.9329      0.501      1.862      0.063      -0.050       1.915\n",
       "chunk18       -1.6702      0.687     -2.430      0.015      -3.018      -0.323\n",
       "chunk19        0.6481      2.428      0.267      0.790      -4.112       5.409\n",
       "chunk20       -0.1912      2.741     -0.070      0.944      -5.566       5.184\n",
       "chunk21        1.1645      1.179      0.988      0.323      -1.146       3.475\n",
       "chunk22        0.0247      1.028      0.024      0.981      -1.991       2.041\n",
       "chunk23        0.0667      1.518      0.044      0.965      -2.910       3.043\n",
       "chunk24       -1.3190      0.717     -1.841      0.066      -2.724       0.086\n",
       "chunk25       -0.1382      0.485     -0.285      0.776      -1.089       0.812\n",
       "chunk26        0.8548      0.475      1.799      0.072      -0.077       1.786\n",
       "chunk27        0.9922      0.551      1.799      0.072      -0.089       2.073\n",
       "==============================================================================\n",
       "Omnibus:                     1259.225   Durbin-Watson:                   1.991\n",
       "Prob(Omnibus):                  0.000   Jarque-Bera (JB):             3519.880\n",
       "Skew:                           1.865   Prob(JB):                         0.00\n",
       "Kurtosis:                       6.057   Cond. No.                     1.45e+16\n",
       "==============================================================================\n",
       "\n",
       "Warnings:\n",
       "[1] Standard Errors assume that the covariance matrix of the errors is correctly specified.\n",
       "[2] The smallest eigenvalue is 1.43e-29. This might indicate that there are\n",
       "strong multicollinearity problems or that the design matrix is singular.\n",
       "\"\"\""
      ]
     },
     "execution_count": 26,
     "metadata": {},
     "output_type": "execute_result"
    }
   ],
   "source": [
    "# Fit regression over song probabilities per chunk\n",
    "mod = sm.OLS(test_df['hit'],chunk_proba_df)\n",
    "fii = mod.fit()\n",
    "\n",
    "fii.summary()"
   ]
  },
  {
   "cell_type": "code",
   "execution_count": null,
   "metadata": {
    "id": "qZIGmFBnHQbB"
   },
   "outputs": [],
   "source": [
    "# Calculate aggregated probability for song based on regression coefficients\n",
    "# NOTE: Check summary above to make sure you are getting right number of chunks\n",
    "\n",
    "chunk_proba_df['agg_prob'] = fii.params[0]*chunk_proba_df['chunk0'] + fii.params[1]*chunk_proba_df['chunk1'] + \\\n",
    "                             fii.params[2]*chunk_proba_df['chunk2'] + fii.params[3]*chunk_proba_df['chunk3'] + \\\n",
    "                             fii.params[4]*chunk_proba_df['chunk4'] + fii.params[5]*chunk_proba_df['chunk5'] + \\\n",
    "                             fii.params[6]*chunk_proba_df['chunk6'] + fii.params[7]*chunk_proba_df['chunk7'] + \\\n",
    "                             fii.params[8]*chunk_proba_df['chunk8'] + fii.params[9]*chunk_proba_df['chunk9'] + \\\n",
    "                             fii.params[10]*chunk_proba_df['chunk10'] + fii.params[11]*chunk_proba_df['chunk11'] + \\\n",
    "                             fii.params[12]*chunk_proba_df['chunk12'] + fii.params[13]*chunk_proba_df['chunk13'] + \\\n",
    "                             fii.params[14]*chunk_proba_df['chunk14'] + fii.params[15]*chunk_proba_df['chunk15'] + \\\n",
    "                             fii.params[16]*chunk_proba_df['chunk16'] + fii.params[17]*chunk_proba_df['chunk17'] + \\\n",
    "                             fii.params[18]*chunk_proba_df['chunk18'] + fii.params[19]*chunk_proba_df['chunk19'] + \\\n",
    "                             fii.params[20]*chunk_proba_df['chunk20'] + fii.params[21]*chunk_proba_df['chunk21'] + \\\n",
    "                             fii.params[22]*chunk_proba_df['chunk22'] + fii.params[23]*chunk_proba_df['chunk23'] + \\\n",
    "                             fii.params[24]*chunk_proba_df['chunk24'] + fii.params[25]*chunk_proba_df['chunk25'] + \\\n",
    "                             fii.params[26]*chunk_proba_df['chunk26'] + fii.params[27]*chunk_proba_df['chunk27'] \n"
   ]
  },
  {
   "cell_type": "markdown",
   "metadata": {
    "id": "s-xJOP8xEreT"
   },
   "source": [
    "NOTE: Keep below two cells commented unless you want to save/load new song probabilities"
   ]
  },
  {
   "cell_type": "code",
   "execution_count": null,
   "metadata": {
    "id": "pBIfkFMDCFy8"
   },
   "outputs": [],
   "source": [
    "# Write song probabilties (chunk_proba_df['agg_prob']) for chunks to text files\n",
    "# with open(\"drive/MyDrive/y_final_probas_song.txt\",\"wb\") as f:\n",
    "#     for item in chunk_proba_df['agg_prob']:\n",
    "#         f.write('%s\\n' % item)"
   ]
  },
  {
   "cell_type": "code",
   "execution_count": null,
   "metadata": {
    "id": "K3lkGhy9EUff"
   },
   "outputs": [],
   "source": [
    "# Load most recent song probabilities from text file into python list\n",
    "# NOTE: Make sure text file is in drive/MyDrive before running this\n",
    "\n",
    "# # define an empty list that you will read y_predictions into\n",
    "# y_predicted_loaded = []\n",
    "# with open('drive/MyDrive/y_final_probas_chunk_noFineTuning.txt', 'r') as filehandle:\n",
    "#     for line in filehandle:\n",
    "#         # remove linebreak which is the last character of the string\n",
    "#         currentPlace = line[:-1]\n",
    "\n",
    "#         # add item to the list\n",
    "#         y_predicted_loaded.append(float(currentPlace))\n",
    "\n",
    "# # Load song probability list into original variable\n",
    "# chunk_probs = y_predicted_loaded\n",
    "\n"
   ]
  },
  {
   "cell_type": "code",
   "execution_count": null,
   "metadata": {
    "id": "G-VC9mwqSgVE"
   },
   "outputs": [],
   "source": [
    "def predictions_accuracy_precision(chunk_probs):\n",
    "    \"\"\"This function takes in all of the song chunk probabilities and \n",
    "       displays the accuracy and precision for different cutoffs values \n",
    "       in order for the user to determine the best cutoff value that \n",
    "       maximizes both accuracy and precision\"\"\"\n",
    "\n",
    "    cutoff = 0.9\n",
    "\n",
    "    # Search cutoff values from 0.1 to 0.9\n",
    "    while cutoff>0.1:\n",
    "        y_predicted_songs_new = np.where(chunk_probs>cutoff,1,0)\n",
    "        accuracy = round(accuracy_score(test_df['hit'], y_predicted_songs_new),4)\n",
    "        f1score = round(f1_score(test_df['hit'], y_predicted_songs_new),4)\n",
    "        print(\"For cutoff value %.1f, accuracy is %.3f, f1 score is %.3f\"\n",
    "                %(cutoff,accuracy,f1score))\n",
    "        cutoff-=0.1\n",
    "\n",
    "\n"
   ]
  },
  {
   "cell_type": "code",
   "execution_count": null,
   "metadata": {
    "colab": {
     "base_uri": "https://localhost:8080/"
    },
    "id": "uHOQbOtmFRnt",
    "outputId": "b6d02a8e-2e13-46d7-c5d2-d68f78311f37"
   },
   "outputs": [
    {
     "name": "stdout",
     "output_type": "stream",
     "text": [
      "For cutoff value 0.9, accuracy is 0.870, f1 score is 0.056\n",
      "For cutoff value 0.8, accuracy is 0.873, f1 score is 0.111\n",
      "For cutoff value 0.7, accuracy is 0.875, f1 score is 0.160\n",
      "For cutoff value 0.6, accuracy is 0.880, f1 score is 0.243\n",
      "For cutoff value 0.5, accuracy is 0.880, f1 score is 0.286\n",
      "For cutoff value 0.4, accuracy is 0.873, f1 score is 0.326\n",
      "For cutoff value 0.3, accuracy is 0.870, f1 score is 0.419\n",
      "For cutoff value 0.2, accuracy is 0.803, f1 score is 0.437\n",
      "For cutoff value 0.1, accuracy is 0.656, f1 score is 0.390\n"
     ]
    }
   ],
   "source": [
    "# Call above function to calculate different accuracies and f1-scores per cutoff value\n",
    "predictions_accuracy_precision(chunk_proba_df['agg_prob'])\n",
    "\n",
    "# Uncomment below if reading song probabilities from text file\n",
    "#predictions_accuracy_precision(chunk_probs)"
   ]
  },
  {
   "cell_type": "code",
   "execution_count": null,
   "metadata": {
    "id": "dwEzzJR67PDJ"
   },
   "outputs": [],
   "source": [
    "# Calculate predicted labels based on cutoff value that you choose\n",
    "cutoff = 0.4\n",
    "y_predicted_songs = np.where(chunk_proba_df['agg_prob']>cutoff,1,0)"
   ]
  },
  {
   "cell_type": "markdown",
   "metadata": {
    "id": "KQnFT4aqqzCh"
   },
   "source": [
    "## Analysis Of Results"
   ]
  },
  {
   "cell_type": "code",
   "execution_count": null,
   "metadata": {
    "colab": {
     "base_uri": "https://localhost:8080/",
     "height": 295
    },
    "id": "tlDQ2M1Iu7h9",
    "outputId": "707ea395-bfbb-44e4-ce7a-2843d0408b6d"
   },
   "outputs": [
    {
     "data": {
      "image/png": "[encoded data removed]",
      "text/plain": [
       "<Figure size 432x288 with 2 Axes>"
      ]
     },
     "metadata": {
      "needs_background": "light"
     },
     "output_type": "display_data"
    }
   ],
   "source": [
    "# Plot confusion matrix\n",
    "cm = confusion_matrix(test_df['hit'],y_predicted_songs)\n",
    "ax = sn.heatmap(cm,annot=True,fmt='d')\n",
    "\n",
    "ax.set_title(\"Confusion Matrix (Song Non-Hits vs Hits)\")\n",
    "ax.set_xlabel(\"Predicted\")\n",
    "ax.set_ylabel('Truth')\n",
    "\n",
    "# Set tick labels\n",
    "ax.xaxis.set_ticklabels(['Non-Hit','Hit'])\n",
    "ax.yaxis.set_ticklabels(['Non-Hit','Hit'])\n",
    "\n",
    "# Show confusion matrix\n",
    "plt.show()"
   ]
  },
  {
   "cell_type": "code",
   "execution_count": null,
   "metadata": {
    "colab": {
     "base_uri": "https://localhost:8080/"
    },
    "id": "OvupbqWNl0M2",
    "outputId": "03984cf9-f477-4e53-f979-1efc512926d1"
   },
   "outputs": [
    {
     "name": "stdout",
     "output_type": "stream",
     "text": [
      "AUC Score (Songs): 0.601\n",
      "Accuracy Score (Songs): 0.873\n"
     ]
    }
   ],
   "source": [
    "# Get AUC and accuracy scores at song level\n",
    "auc_score=roc_auc_score(test_df['hit'],y_predicted_songs)\n",
    "accuracy = accuracy_score(test_df['hit'], y_predicted_songs)\n",
    "print(\"AUC Score (Songs):\",round(auc_score,3))\n",
    "print(\"Accuracy Score (Songs):\",round(accuracy,3))\n"
   ]
  },
  {
   "cell_type": "code",
   "execution_count": null,
   "metadata": {
    "colab": {
     "base_uri": "https://localhost:8080/",
     "height": 295
    },
    "id": "atWs38O6giMk",
    "outputId": "fab4516b-967c-43c7-b9f1-add8f8e97b79"
   },
   "outputs": [
    {
     "data": {
      "image/png": "[encoded data removed]",
      "text/plain": [
       "<Figure size 432x288 with 1 Axes>"
      ]
     },
     "metadata": {
      "needs_background": "light"
     },
     "output_type": "display_data"
    }
   ],
   "source": [
    "# Plot ROC Curve for songs\n",
    "fpr,tpr,thresholds = roc_curve (test_df['hit'],y_predicted_songs)\n",
    "\n",
    "def plot_roc_curve(fpr,tpr): \n",
    "    plt.plot(fpr,tpr) \n",
    "    plt.axis([0,1,0,1]) \n",
    "    plt.xlabel('False Positive Rate') \n",
    "    plt.ylabel('True Positive Rate') \n",
    "    plt.title('ROC Curve Songs')\n",
    "    plt.show()    \n",
    "  \n",
    "plot_roc_curve (fpr,tpr) "
   ]
  },
  {
   "cell_type": "code",
   "execution_count": null,
   "metadata": {
    "id": "7YXOywXgTqn0"
   },
   "outputs": [],
   "source": []
  }
 ],
 "metadata": {
  "accelerator": "GPU",
  "colab": {
   "collapsed_sections": [
    "Uw-Vh4zSoXoN",
    "68jvEF_au4X6"
   ],
   "name": "BERT_Model_Baseline_v9_SS_NoMetadata.ipynb",
   "provenance": []
  },
  "kernelspec": {
   "display_name": "Python 3",
   "language": "python",
   "name": "python3"
  },
  "language_info": {
   "codemirror_mode": {
    "name": "ipython",
    "version": 3
   },
   "file_extension": ".py",
   "mimetype": "text/x-python",
   "name": "python",
   "nbconvert_exporter": "python",
   "pygments_lexer": "ipython3",
   "version": "3.8.8"
  }
 },
 "nbformat": 4,
 "nbformat_minor": 1
}
