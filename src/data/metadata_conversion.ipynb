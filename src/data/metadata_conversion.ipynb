{
 "cells": [
  {
   "cell_type": "code",
   "execution_count": 55,
   "metadata": {
    "id": "ZRn93pHS_Pz_"
   },
   "outputs": [],
   "source": [
    "import pandas as pd\n",
    "import numpy as np"
   ]
  },
  {
   "cell_type": "code",
   "execution_count": 56,
   "metadata": {
    "colab": {
     "base_uri": "https://localhost:8080/",
     "height": 35
    },
    "executionInfo": {
     "elapsed": 134,
     "status": "ok",
     "timestamp": 1648700729065,
     "user": {
      "displayName": "Natali Ojeda Meneses",
      "userId": "11843372147541461570"
     },
     "user_tz": 300
    },
    "id": "sy5BTWmVm2Ch",
    "outputId": "f2b959cb-42f5-4439-9886-d65c1bee0a57"
   },
   "outputs": [
    {
     "data": {
      "text/plain": [
       "'/home/sumedhshah94/w266_project_topmusichits/src/data'"
      ]
     },
     "execution_count": 56,
     "metadata": {},
     "output_type": "execute_result"
    }
   ],
   "source": [
    "%pwd"
   ]
  },
  {
   "cell_type": "markdown",
   "metadata": {
    "id": "GqJkp9tglaLn"
   },
   "source": [
    "## **Load Data**"
   ]
  },
  {
   "cell_type": "code",
   "execution_count": 57,
   "metadata": {
    "executionInfo": {
     "elapsed": 485,
     "status": "ok",
     "timestamp": 1648702837754,
     "user": {
      "displayName": "Natali Ojeda Meneses",
      "userId": "11843372147541461570"
     },
     "user_tz": 300
    },
    "id": "eBuoi39r_Ubo"
   },
   "outputs": [
    {
     "data": {
      "text/html": [
       "<div>\n",
       "<style scoped>\n",
       "    .dataframe tbody tr th:only-of-type {\n",
       "        vertical-align: middle;\n",
       "    }\n",
       "\n",
       "    .dataframe tbody tr th {\n",
       "        vertical-align: top;\n",
       "    }\n",
       "\n",
       "    .dataframe thead th {\n",
       "        text-align: right;\n",
       "    }\n",
       "</style>\n",
       "<table border=\"1\" class=\"dataframe\">\n",
       "  <thead>\n",
       "    <tr style=\"text-align: right;\">\n",
       "      <th></th>\n",
       "      <th>song_name</th>\n",
       "      <th>artist_name</th>\n",
       "      <th>lyrics</th>\n",
       "      <th>album_name</th>\n",
       "      <th>genre</th>\n",
       "      <th>subgenre</th>\n",
       "      <th>danceability</th>\n",
       "      <th>energy</th>\n",
       "      <th>key</th>\n",
       "      <th>loudness</th>\n",
       "      <th>...</th>\n",
       "      <th>valence</th>\n",
       "      <th>tempo</th>\n",
       "      <th>duration_ms</th>\n",
       "      <th>song_year</th>\n",
       "      <th>trending_year</th>\n",
       "      <th>weeks_on_chart</th>\n",
       "      <th>hit</th>\n",
       "      <th>star</th>\n",
       "      <th>num_nonlexvoc_1</th>\n",
       "      <th>num_nonlexvoc_1_r_label</th>\n",
       "    </tr>\n",
       "  </thead>\n",
       "  <tbody>\n",
       "    <tr>\n",
       "      <th>7504</th>\n",
       "      <td>Tho Dem Wraps</td>\n",
       "      <td>Nelly</td>\n",
       "      <td>I boss thru in a Hummer, Murphy the Don, Lizzi...</td>\n",
       "      <td>Country Grammar</td>\n",
       "      <td>rap</td>\n",
       "      <td>southern hip hop</td>\n",
       "      <td>0.656</td>\n",
       "      <td>0.795</td>\n",
       "      <td>2</td>\n",
       "      <td>-6.859</td>\n",
       "      <td>...</td>\n",
       "      <td>0.476</td>\n",
       "      <td>179.643</td>\n",
       "      <td>248467</td>\n",
       "      <td>2000</td>\n",
       "      <td>0</td>\n",
       "      <td>0</td>\n",
       "      <td>0</td>\n",
       "      <td>0</td>\n",
       "      <td>26</td>\n",
       "      <td>low</td>\n",
       "    </tr>\n",
       "    <tr>\n",
       "      <th>615</th>\n",
       "      <td>Beautiful Day</td>\n",
       "      <td>U2</td>\n",
       "      <td>The heart is a bloom, shoots up through the st...</td>\n",
       "      <td>All That You Can't Leave Behind</td>\n",
       "      <td>rock</td>\n",
       "      <td>permanent wave</td>\n",
       "      <td>0.536</td>\n",
       "      <td>0.928</td>\n",
       "      <td>11</td>\n",
       "      <td>-6.492</td>\n",
       "      <td>...</td>\n",
       "      <td>0.389</td>\n",
       "      <td>136.258</td>\n",
       "      <td>248400</td>\n",
       "      <td>2000</td>\n",
       "      <td>2000</td>\n",
       "      <td>25</td>\n",
       "      <td>1</td>\n",
       "      <td>1</td>\n",
       "      <td>23</td>\n",
       "      <td>low</td>\n",
       "    </tr>\n",
       "    <tr>\n",
       "      <th>3988</th>\n",
       "      <td>Kryptonite</td>\n",
       "      <td>3 Doors Down</td>\n",
       "      <td>Well, I took a walk around the world to ease m...</td>\n",
       "      <td>The Better Life</td>\n",
       "      <td>rock</td>\n",
       "      <td>permanent wave</td>\n",
       "      <td>0.545</td>\n",
       "      <td>0.865</td>\n",
       "      <td>11</td>\n",
       "      <td>-5.708</td>\n",
       "      <td>...</td>\n",
       "      <td>0.543</td>\n",
       "      <td>99.010</td>\n",
       "      <td>233933</td>\n",
       "      <td>2000</td>\n",
       "      <td>2000</td>\n",
       "      <td>53</td>\n",
       "      <td>1</td>\n",
       "      <td>0</td>\n",
       "      <td>9</td>\n",
       "      <td>low</td>\n",
       "    </tr>\n",
       "    <tr>\n",
       "      <th>8309</th>\n",
       "      <td>Without You</td>\n",
       "      <td>Lucy Pearl</td>\n",
       "      <td>Girl you know I want you And I dont know what ...</td>\n",
       "      <td>Lucy Pearl</td>\n",
       "      <td>r&amp;b</td>\n",
       "      <td>new jack swing</td>\n",
       "      <td>0.740</td>\n",
       "      <td>0.648</td>\n",
       "      <td>7</td>\n",
       "      <td>-4.510</td>\n",
       "      <td>...</td>\n",
       "      <td>0.705</td>\n",
       "      <td>88.843</td>\n",
       "      <td>237880</td>\n",
       "      <td>2000</td>\n",
       "      <td>0</td>\n",
       "      <td>0</td>\n",
       "      <td>0</td>\n",
       "      <td>1</td>\n",
       "      <td>33</td>\n",
       "      <td>low</td>\n",
       "    </tr>\n",
       "    <tr>\n",
       "      <th>5970</th>\n",
       "      <td>Ride Wit Me</td>\n",
       "      <td>Nelly</td>\n",
       "      <td>Where they at? Where they at? Where they at? W...</td>\n",
       "      <td>Country Grammar</td>\n",
       "      <td>rap</td>\n",
       "      <td>hip hop</td>\n",
       "      <td>0.854</td>\n",
       "      <td>0.692</td>\n",
       "      <td>7</td>\n",
       "      <td>-6.625</td>\n",
       "      <td>...</td>\n",
       "      <td>0.753</td>\n",
       "      <td>101.865</td>\n",
       "      <td>291782</td>\n",
       "      <td>2000</td>\n",
       "      <td>2001</td>\n",
       "      <td>29</td>\n",
       "      <td>1</td>\n",
       "      <td>1</td>\n",
       "      <td>94</td>\n",
       "      <td>high</td>\n",
       "    </tr>\n",
       "  </tbody>\n",
       "</table>\n",
       "<p>5 rows × 25 columns</p>\n",
       "</div>"
      ],
      "text/plain": [
       "          song_name   artist_name  \\\n",
       "7504  Tho Dem Wraps         Nelly   \n",
       "615   Beautiful Day            U2   \n",
       "3988     Kryptonite  3 Doors Down   \n",
       "8309    Without You    Lucy Pearl   \n",
       "5970    Ride Wit Me         Nelly   \n",
       "\n",
       "                                                 lyrics  \\\n",
       "7504  I boss thru in a Hummer, Murphy the Don, Lizzi...   \n",
       "615   The heart is a bloom, shoots up through the st...   \n",
       "3988  Well, I took a walk around the world to ease m...   \n",
       "8309  Girl you know I want you And I dont know what ...   \n",
       "5970  Where they at? Where they at? Where they at? W...   \n",
       "\n",
       "                           album_name genre          subgenre  danceability  \\\n",
       "7504                  Country Grammar   rap  southern hip hop         0.656   \n",
       "615   All That You Can't Leave Behind  rock    permanent wave         0.536   \n",
       "3988                  The Better Life  rock    permanent wave         0.545   \n",
       "8309                       Lucy Pearl   r&b    new jack swing         0.740   \n",
       "5970                  Country Grammar   rap           hip hop         0.854   \n",
       "\n",
       "      energy  key  loudness  ...  valence    tempo  duration_ms  song_year  \\\n",
       "7504   0.795    2    -6.859  ...    0.476  179.643       248467       2000   \n",
       "615    0.928   11    -6.492  ...    0.389  136.258       248400       2000   \n",
       "3988   0.865   11    -5.708  ...    0.543   99.010       233933       2000   \n",
       "8309   0.648    7    -4.510  ...    0.705   88.843       237880       2000   \n",
       "5970   0.692    7    -6.625  ...    0.753  101.865       291782       2000   \n",
       "\n",
       "      trending_year  weeks_on_chart  hit  star  num_nonlexvoc_1  \\\n",
       "7504              0               0    0     0               26   \n",
       "615            2000              25    1     1               23   \n",
       "3988           2000              53    1     0                9   \n",
       "8309              0               0    0     1               33   \n",
       "5970           2001              29    1     1               94   \n",
       "\n",
       "      num_nonlexvoc_1_r_label  \n",
       "7504                      low  \n",
       "615                       low  \n",
       "3988                      low  \n",
       "8309                      low  \n",
       "5970                     high  \n",
       "\n",
       "[5 rows x 25 columns]"
      ]
     },
     "execution_count": 57,
     "metadata": {},
     "output_type": "execute_result"
    }
   ],
   "source": [
    "songs = pd.read_csv(\"~/w266_project_topmusichits/data/interim/songs_charts_new_2000s.csv\",index_col=False)\n",
    "songs = songs.sort_values('song_year')\n",
    "songs.head()"
   ]
  },
  {
   "cell_type": "code",
   "execution_count": 58,
   "metadata": {
    "colab": {
     "base_uri": "https://localhost:8080/"
    },
    "executionInfo": {
     "elapsed": 169,
     "status": "ok",
     "timestamp": 1648702839763,
     "user": {
      "displayName": "Natali Ojeda Meneses",
      "userId": "11843372147541461570"
     },
     "user_tz": 300
    },
    "id": "7CwiWMgmFvYe",
    "outputId": "0a5463ca-09c2-463b-b61b-989bb1987adf"
   },
   "outputs": [
    {
     "data": {
      "text/plain": [
       "(8546, 25)"
      ]
     },
     "execution_count": 58,
     "metadata": {},
     "output_type": "execute_result"
    }
   ],
   "source": [
    "songs.shape"
   ]
  },
  {
   "cell_type": "code",
   "execution_count": 59,
   "metadata": {
    "id": "eq-kxD6fXXDD"
   },
   "outputs": [
    {
     "data": {
      "text/plain": [
       "song_name                   object\n",
       "artist_name                 object\n",
       "lyrics                      object\n",
       "album_name                  object\n",
       "genre                       object\n",
       "subgenre                    object\n",
       "danceability               float64\n",
       "energy                     float64\n",
       "key                          int64\n",
       "loudness                   float64\n",
       "mode                         int64\n",
       "speechiness                float64\n",
       "acousticness               float64\n",
       "instrumentalness           float64\n",
       "liveness                   float64\n",
       "valence                    float64\n",
       "tempo                      float64\n",
       "duration_ms                  int64\n",
       "song_year                    int64\n",
       "trending_year                int64\n",
       "weeks_on_chart               int64\n",
       "hit                          int64\n",
       "star                         int64\n",
       "num_nonlexvoc_1              int64\n",
       "num_nonlexvoc_1_r_label     object\n",
       "dtype: object"
      ]
     },
     "execution_count": 59,
     "metadata": {},
     "output_type": "execute_result"
    }
   ],
   "source": [
    "songs.dtypes"
   ]
  },
  {
   "cell_type": "markdown",
   "metadata": {
    "id": "q3TMbV0sLF_d"
   },
   "source": [
    "### **Analysis was done in Excel to determine the cutoffs for each of the metadata's ranges and then coded in Python below. The file with the analysis is song_metadata_analysis.xlsx in the references folder**"
   ]
  },
  {
   "cell_type": "markdown",
   "metadata": {
    "id": "vZF-I7v-XlKW"
   },
   "source": [
    " #### Danceability"
   ]
  },
  {
   "cell_type": "code",
   "execution_count": 60,
   "metadata": {
    "executionInfo": {
     "elapsed": 131,
     "status": "ok",
     "timestamp": 1648702842194,
     "user": {
      "displayName": "Natali Ojeda Meneses",
      "userId": "11843372147541461570"
     },
     "user_tz": 300
    },
    "id": "oMrGWQc2USk2"
   },
   "outputs": [],
   "source": [
    "songs['danceability2'] = pd.cut(x=songs['danceability'], bins=[-np.inf, 0.56, 0.70, np.inf],\n",
    "                    labels=['low', 'medium', 'high'])"
   ]
  },
  {
   "cell_type": "code",
   "execution_count": 61,
   "metadata": {
    "colab": {
     "base_uri": "https://localhost:8080/"
    },
    "executionInfo": {
     "elapsed": 174,
     "status": "ok",
     "timestamp": 1648702845772,
     "user": {
      "displayName": "Natali Ojeda Meneses",
      "userId": "11843372147541461570"
     },
     "user_tz": 300
    },
    "id": "-MBD0KcypeT-",
    "outputId": "9fea9dd3-db73-4784-da73-4622b4e49e4d"
   },
   "outputs": [
    {
     "data": {
      "text/plain": [
       "high      2987\n",
       "medium    2852\n",
       "low       2707\n",
       "Name: danceability2, dtype: int64"
      ]
     },
     "execution_count": 61,
     "metadata": {},
     "output_type": "execute_result"
    }
   ],
   "source": [
    "songs['danceability2'].value_counts()"
   ]
  },
  {
   "cell_type": "code",
   "execution_count": 62,
   "metadata": {
    "colab": {
     "base_uri": "https://localhost:8080/",
     "height": 143
    },
    "executionInfo": {
     "elapsed": 160,
     "status": "ok",
     "timestamp": 1648703181201,
     "user": {
      "displayName": "Natali Ojeda Meneses",
      "userId": "11843372147541461570"
     },
     "user_tz": 300
    },
    "id": "h7qNprj3OV1q",
    "outputId": "614709bd-b457-4cc1-e5ee-a01d9db59cf8"
   },
   "outputs": [
    {
     "data": {
      "text/html": [
       "<div>\n",
       "<style scoped>\n",
       "    .dataframe tbody tr th:only-of-type {\n",
       "        vertical-align: middle;\n",
       "    }\n",
       "\n",
       "    .dataframe tbody tr th {\n",
       "        vertical-align: top;\n",
       "    }\n",
       "\n",
       "    .dataframe thead th {\n",
       "        text-align: right;\n",
       "    }\n",
       "</style>\n",
       "<table border=\"1\" class=\"dataframe\">\n",
       "  <thead>\n",
       "    <tr style=\"text-align: right;\">\n",
       "      <th>danceability2</th>\n",
       "      <th>low</th>\n",
       "      <th>medium</th>\n",
       "      <th>high</th>\n",
       "    </tr>\n",
       "    <tr>\n",
       "      <th>hit</th>\n",
       "      <th></th>\n",
       "      <th></th>\n",
       "      <th></th>\n",
       "    </tr>\n",
       "  </thead>\n",
       "  <tbody>\n",
       "    <tr>\n",
       "      <th>0</th>\n",
       "      <td>0.334246</td>\n",
       "      <td>0.334823</td>\n",
       "      <td>0.330931</td>\n",
       "    </tr>\n",
       "    <tr>\n",
       "      <th>1</th>\n",
       "      <td>0.241294</td>\n",
       "      <td>0.328980</td>\n",
       "      <td>0.429726</td>\n",
       "    </tr>\n",
       "  </tbody>\n",
       "</table>\n",
       "</div>"
      ],
      "text/plain": [
       "danceability2       low    medium      high\n",
       "hit                                        \n",
       "0              0.334246  0.334823  0.330931\n",
       "1              0.241294  0.328980  0.429726"
      ]
     },
     "execution_count": 62,
     "metadata": {},
     "output_type": "execute_result"
    }
   ],
   "source": [
    "pd.crosstab(songs.hit, songs.danceability2, normalize='index')"
   ]
  },
  {
   "cell_type": "markdown",
   "metadata": {
    "id": "XH4AVCNzXpaH"
   },
   "source": [
    "#### Energy"
   ]
  },
  {
   "cell_type": "code",
   "execution_count": 63,
   "metadata": {
    "executionInfo": {
     "elapsed": 189,
     "status": "ok",
     "timestamp": 1648703389000,
     "user": {
      "displayName": "Natali Ojeda Meneses",
      "userId": "11843372147541461570"
     },
     "user_tz": 300
    },
    "id": "iBr7B9h4XooO"
   },
   "outputs": [],
   "source": [
    "songs['energy2'] = pd.cut(x=songs['energy'], bins=[-np.inf, 0.6, 0.77, np.inf],\n",
    "                    labels=['low', 'medium', 'high'])"
   ]
  },
  {
   "cell_type": "code",
   "execution_count": 64,
   "metadata": {
    "colab": {
     "base_uri": "https://localhost:8080/"
    },
    "executionInfo": {
     "elapsed": 7,
     "status": "ok",
     "timestamp": 1648703389412,
     "user": {
      "displayName": "Natali Ojeda Meneses",
      "userId": "11843372147541461570"
     },
     "user_tz": 300
    },
    "id": "bLsMuuRUXorp",
    "outputId": "ffc57090-2785-4188-ab03-1f391bfcb5b7"
   },
   "outputs": [
    {
     "data": {
      "text/plain": [
       "high      2876\n",
       "low       2864\n",
       "medium    2806\n",
       "Name: energy2, dtype: int64"
      ]
     },
     "execution_count": 64,
     "metadata": {},
     "output_type": "execute_result"
    }
   ],
   "source": [
    "songs['energy2'].value_counts()"
   ]
  },
  {
   "cell_type": "code",
   "execution_count": 65,
   "metadata": {
    "colab": {
     "base_uri": "https://localhost:8080/",
     "height": 143
    },
    "executionInfo": {
     "elapsed": 19,
     "status": "ok",
     "timestamp": 1648703390005,
     "user": {
      "displayName": "Natali Ojeda Meneses",
      "userId": "11843372147541461570"
     },
     "user_tz": 300
    },
    "id": "m5SyV0D2XouZ",
    "outputId": "b8e4ed6f-6433-4b93-ae27-577c216836ba"
   },
   "outputs": [
    {
     "data": {
      "text/html": [
       "<div>\n",
       "<style scoped>\n",
       "    .dataframe tbody tr th:only-of-type {\n",
       "        vertical-align: middle;\n",
       "    }\n",
       "\n",
       "    .dataframe tbody tr th {\n",
       "        vertical-align: top;\n",
       "    }\n",
       "\n",
       "    .dataframe thead th {\n",
       "        text-align: right;\n",
       "    }\n",
       "</style>\n",
       "<table border=\"1\" class=\"dataframe\">\n",
       "  <thead>\n",
       "    <tr style=\"text-align: right;\">\n",
       "      <th>energy2</th>\n",
       "      <th>low</th>\n",
       "      <th>medium</th>\n",
       "      <th>high</th>\n",
       "    </tr>\n",
       "    <tr>\n",
       "      <th>hit</th>\n",
       "      <th></th>\n",
       "      <th></th>\n",
       "      <th></th>\n",
       "    </tr>\n",
       "  </thead>\n",
       "  <tbody>\n",
       "    <tr>\n",
       "      <th>0</th>\n",
       "      <td>0.335399</td>\n",
       "      <td>0.324733</td>\n",
       "      <td>0.339867</td>\n",
       "    </tr>\n",
       "    <tr>\n",
       "      <th>1</th>\n",
       "      <td>0.333955</td>\n",
       "      <td>0.343905</td>\n",
       "      <td>0.322139</td>\n",
       "    </tr>\n",
       "  </tbody>\n",
       "</table>\n",
       "</div>"
      ],
      "text/plain": [
       "energy2       low    medium      high\n",
       "hit                                  \n",
       "0        0.335399  0.324733  0.339867\n",
       "1        0.333955  0.343905  0.322139"
      ]
     },
     "execution_count": 65,
     "metadata": {},
     "output_type": "execute_result"
    }
   ],
   "source": [
    "pd.crosstab(songs.hit, songs.energy2, normalize='index')"
   ]
  },
  {
   "cell_type": "markdown",
   "metadata": {},
   "source": [
    "*Should not include energy because of lack of difference between hit and non-hit*"
   ]
  },
  {
   "cell_type": "markdown",
   "metadata": {
    "id": "Ke8VVnhIa0lP"
   },
   "source": [
    "#### Loudness"
   ]
  },
  {
   "cell_type": "code",
   "execution_count": 66,
   "metadata": {
    "executionInfo": {
     "elapsed": 172,
     "status": "ok",
     "timestamp": 1648704237424,
     "user": {
      "displayName": "Natali Ojeda Meneses",
      "userId": "11843372147541461570"
     },
     "user_tz": 300
    },
    "id": "QCXt-WbmXoz_"
   },
   "outputs": [],
   "source": [
    "songs['loudness2'] = pd.cut(x=songs['loudness'], bins=[-np.inf, -7.41, -5.34, np.inf],\n",
    "                    labels=['low', 'medium', 'high'])"
   ]
  },
  {
   "cell_type": "code",
   "execution_count": 67,
   "metadata": {
    "colab": {
     "base_uri": "https://localhost:8080/"
    },
    "executionInfo": {
     "elapsed": 129,
     "status": "ok",
     "timestamp": 1648704249002,
     "user": {
      "displayName": "Natali Ojeda Meneses",
      "userId": "11843372147541461570"
     },
     "user_tz": 300
    },
    "id": "fqyL1J7Sa3ET",
    "outputId": "f021f738-6fdd-44b0-f755-ceda4e16a6f6"
   },
   "outputs": [
    {
     "data": {
      "text/plain": [
       "high      3063\n",
       "medium    2845\n",
       "low       2638\n",
       "Name: loudness2, dtype: int64"
      ]
     },
     "execution_count": 67,
     "metadata": {},
     "output_type": "execute_result"
    }
   ],
   "source": [
    "songs['loudness2'].value_counts()"
   ]
  },
  {
   "cell_type": "code",
   "execution_count": 68,
   "metadata": {
    "colab": {
     "base_uri": "https://localhost:8080/",
     "height": 143
    },
    "executionInfo": {
     "elapsed": 123,
     "status": "ok",
     "timestamp": 1648704251203,
     "user": {
      "displayName": "Natali Ojeda Meneses",
      "userId": "11843372147541461570"
     },
     "user_tz": 300
    },
    "id": "z5Y-LG6aa3MJ",
    "outputId": "f289ae7a-41d4-48b0-9596-1cda2b0f2c09"
   },
   "outputs": [
    {
     "data": {
      "text/html": [
       "<div>\n",
       "<style scoped>\n",
       "    .dataframe tbody tr th:only-of-type {\n",
       "        vertical-align: middle;\n",
       "    }\n",
       "\n",
       "    .dataframe tbody tr th {\n",
       "        vertical-align: top;\n",
       "    }\n",
       "\n",
       "    .dataframe thead th {\n",
       "        text-align: right;\n",
       "    }\n",
       "</style>\n",
       "<table border=\"1\" class=\"dataframe\">\n",
       "  <thead>\n",
       "    <tr style=\"text-align: right;\">\n",
       "      <th>loudness2</th>\n",
       "      <th>low</th>\n",
       "      <th>medium</th>\n",
       "      <th>high</th>\n",
       "    </tr>\n",
       "    <tr>\n",
       "      <th>hit</th>\n",
       "      <th></th>\n",
       "      <th></th>\n",
       "      <th></th>\n",
       "    </tr>\n",
       "  </thead>\n",
       "  <tbody>\n",
       "    <tr>\n",
       "      <th>0</th>\n",
       "      <td>0.330066</td>\n",
       "      <td>0.330643</td>\n",
       "      <td>0.339291</td>\n",
       "    </tr>\n",
       "    <tr>\n",
       "      <th>1</th>\n",
       "      <td>0.216418</td>\n",
       "      <td>0.342662</td>\n",
       "      <td>0.440920</td>\n",
       "    </tr>\n",
       "  </tbody>\n",
       "</table>\n",
       "</div>"
      ],
      "text/plain": [
       "loudness2       low    medium      high\n",
       "hit                                    \n",
       "0          0.330066  0.330643  0.339291\n",
       "1          0.216418  0.342662  0.440920"
      ]
     },
     "execution_count": 68,
     "metadata": {},
     "output_type": "execute_result"
    }
   ],
   "source": [
    "pd.crosstab(songs.hit, songs.loudness2, normalize='index')"
   ]
  },
  {
   "cell_type": "markdown",
   "metadata": {
    "id": "_TE--t_La3vJ"
   },
   "source": [
    "**Speechiness**"
   ]
  },
  {
   "cell_type": "code",
   "execution_count": 69,
   "metadata": {
    "executionInfo": {
     "elapsed": 99,
     "status": "ok",
     "timestamp": 1648704820655,
     "user": {
      "displayName": "Natali Ojeda Meneses",
      "userId": "11843372147541461570"
     },
     "user_tz": 300
    },
    "id": "yzabBglaa4D6"
   },
   "outputs": [],
   "source": [
    "songs['speechiness2'] = pd.cut(x=songs['speechiness'], bins=[-np.inf, 0.042, 0.11, np.inf],\n",
    "                    labels=['low', 'medium', 'high'])"
   ]
  },
  {
   "cell_type": "code",
   "execution_count": 70,
   "metadata": {
    "colab": {
     "base_uri": "https://localhost:8080/"
    },
    "executionInfo": {
     "elapsed": 123,
     "status": "ok",
     "timestamp": 1648704821882,
     "user": {
      "displayName": "Natali Ojeda Meneses",
      "userId": "11843372147541461570"
     },
     "user_tz": 300
    },
    "id": "NcImDYsia4Kz",
    "outputId": "51603de0-8a10-4846-a02b-a2cd7e229e8e"
   },
   "outputs": [
    {
     "data": {
      "text/plain": [
       "medium    3411\n",
       "high      2708\n",
       "low       2427\n",
       "Name: speechiness2, dtype: int64"
      ]
     },
     "execution_count": 70,
     "metadata": {},
     "output_type": "execute_result"
    }
   ],
   "source": [
    "songs['speechiness2'].value_counts()"
   ]
  },
  {
   "cell_type": "code",
   "execution_count": 71,
   "metadata": {
    "colab": {
     "base_uri": "https://localhost:8080/",
     "height": 143
    },
    "executionInfo": {
     "elapsed": 132,
     "status": "ok",
     "timestamp": 1648704823738,
     "user": {
      "displayName": "Natali Ojeda Meneses",
      "userId": "11843372147541461570"
     },
     "user_tz": 300
    },
    "id": "OsaQICIXa4Rl",
    "outputId": "7e91e6af-268b-4db2-918a-e66f1b2a82cb"
   },
   "outputs": [
    {
     "data": {
      "text/html": [
       "<div>\n",
       "<style scoped>\n",
       "    .dataframe tbody tr th:only-of-type {\n",
       "        vertical-align: middle;\n",
       "    }\n",
       "\n",
       "    .dataframe tbody tr th {\n",
       "        vertical-align: top;\n",
       "    }\n",
       "\n",
       "    .dataframe thead th {\n",
       "        text-align: right;\n",
       "    }\n",
       "</style>\n",
       "<table border=\"1\" class=\"dataframe\">\n",
       "  <thead>\n",
       "    <tr style=\"text-align: right;\">\n",
       "      <th>speechiness2</th>\n",
       "      <th>low</th>\n",
       "      <th>medium</th>\n",
       "      <th>high</th>\n",
       "    </tr>\n",
       "    <tr>\n",
       "      <th>hit</th>\n",
       "      <th></th>\n",
       "      <th></th>\n",
       "      <th></th>\n",
       "    </tr>\n",
       "  </thead>\n",
       "  <tbody>\n",
       "    <tr>\n",
       "      <th>0</th>\n",
       "      <td>0.300086</td>\n",
       "      <td>0.396368</td>\n",
       "      <td>0.303546</td>\n",
       "    </tr>\n",
       "    <tr>\n",
       "      <th>1</th>\n",
       "      <td>0.214552</td>\n",
       "      <td>0.411070</td>\n",
       "      <td>0.374378</td>\n",
       "    </tr>\n",
       "  </tbody>\n",
       "</table>\n",
       "</div>"
      ],
      "text/plain": [
       "speechiness2       low    medium      high\n",
       "hit                                       \n",
       "0             0.300086  0.396368  0.303546\n",
       "1             0.214552  0.411070  0.374378"
      ]
     },
     "execution_count": 71,
     "metadata": {},
     "output_type": "execute_result"
    }
   ],
   "source": [
    "pd.crosstab(songs.hit, songs.speechiness2, normalize='index')"
   ]
  },
  {
   "cell_type": "markdown",
   "metadata": {
    "id": "pq-fFsYDa5EM"
   },
   "source": [
    "#### Acousticness"
   ]
  },
  {
   "cell_type": "code",
   "execution_count": 72,
   "metadata": {
    "executionInfo": {
     "elapsed": 168,
     "status": "ok",
     "timestamp": 1648705488253,
     "user": {
      "displayName": "Natali Ojeda Meneses",
      "userId": "11843372147541461570"
     },
     "user_tz": 300
    },
    "id": "W9n8wcvra5OA"
   },
   "outputs": [],
   "source": [
    "songs['acousticness2'] = pd.cut(x=songs['acousticness'], bins=[-np.inf, 0.023, 0.14, np.inf],\n",
    "                    labels=['low', 'medium', 'high'])"
   ]
  },
  {
   "cell_type": "code",
   "execution_count": 73,
   "metadata": {
    "colab": {
     "base_uri": "https://localhost:8080/"
    },
    "executionInfo": {
     "elapsed": 175,
     "status": "ok",
     "timestamp": 1648705489060,
     "user": {
      "displayName": "Natali Ojeda Meneses",
      "userId": "11843372147541461570"
     },
     "user_tz": 300
    },
    "id": "B86_F0Bza5RK",
    "outputId": "6624f5ed-d37f-490f-eefb-1a4a47e15e2c"
   },
   "outputs": [
    {
     "data": {
      "text/plain": [
       "high      3407\n",
       "medium    2598\n",
       "low       2541\n",
       "Name: acousticness2, dtype: int64"
      ]
     },
     "execution_count": 73,
     "metadata": {},
     "output_type": "execute_result"
    }
   ],
   "source": [
    "songs['acousticness2'].value_counts()"
   ]
  },
  {
   "cell_type": "code",
   "execution_count": 74,
   "metadata": {
    "colab": {
     "base_uri": "https://localhost:8080/",
     "height": 143
    },
    "executionInfo": {
     "elapsed": 111,
     "status": "ok",
     "timestamp": 1648705489972,
     "user": {
      "displayName": "Natali Ojeda Meneses",
      "userId": "11843372147541461570"
     },
     "user_tz": 300
    },
    "id": "CRs3WBUta5TS",
    "outputId": "78045e5a-c9f3-4222-84e0-9a698f29d81a"
   },
   "outputs": [
    {
     "data": {
      "text/html": [
       "<div>\n",
       "<style scoped>\n",
       "    .dataframe tbody tr th:only-of-type {\n",
       "        vertical-align: middle;\n",
       "    }\n",
       "\n",
       "    .dataframe tbody tr th {\n",
       "        vertical-align: top;\n",
       "    }\n",
       "\n",
       "    .dataframe thead th {\n",
       "        text-align: right;\n",
       "    }\n",
       "</style>\n",
       "<table border=\"1\" class=\"dataframe\">\n",
       "  <thead>\n",
       "    <tr style=\"text-align: right;\">\n",
       "      <th>acousticness2</th>\n",
       "      <th>low</th>\n",
       "      <th>medium</th>\n",
       "      <th>high</th>\n",
       "    </tr>\n",
       "    <tr>\n",
       "      <th>hit</th>\n",
       "      <th></th>\n",
       "      <th></th>\n",
       "      <th></th>\n",
       "    </tr>\n",
       "  </thead>\n",
       "  <tbody>\n",
       "    <tr>\n",
       "      <th>0</th>\n",
       "      <td>0.297780</td>\n",
       "      <td>0.292159</td>\n",
       "      <td>0.410061</td>\n",
       "    </tr>\n",
       "    <tr>\n",
       "      <th>1</th>\n",
       "      <td>0.295398</td>\n",
       "      <td>0.355100</td>\n",
       "      <td>0.349502</td>\n",
       "    </tr>\n",
       "  </tbody>\n",
       "</table>\n",
       "</div>"
      ],
      "text/plain": [
       "acousticness2       low    medium      high\n",
       "hit                                        \n",
       "0              0.297780  0.292159  0.410061\n",
       "1              0.295398  0.355100  0.349502"
      ]
     },
     "execution_count": 74,
     "metadata": {},
     "output_type": "execute_result"
    }
   ],
   "source": [
    "pd.crosstab(songs.hit, songs.acousticness2, normalize='index')"
   ]
  },
  {
   "cell_type": "markdown",
   "metadata": {
    "id": "otiXjzEIa5cd"
   },
   "source": [
    "#### Liveness"
   ]
  },
  {
   "cell_type": "code",
   "execution_count": 75,
   "metadata": {
    "executionInfo": {
     "elapsed": 179,
     "status": "ok",
     "timestamp": 1648706525496,
     "user": {
      "displayName": "Natali Ojeda Meneses",
      "userId": "11843372147541461570"
     },
     "user_tz": 300
    },
    "id": "xhtCn_aea5j3"
   },
   "outputs": [],
   "source": [
    "songs['liveness2'] = pd.cut(x=songs['liveness'], bins=[-np.inf, 0.1, 0.2, np.inf],\n",
    "                    labels=['low', 'medium', 'high'])"
   ]
  },
  {
   "cell_type": "code",
   "execution_count": 76,
   "metadata": {
    "colab": {
     "base_uri": "https://localhost:8080/"
    },
    "executionInfo": {
     "elapsed": 92,
     "status": "ok",
     "timestamp": 1648706526431,
     "user": {
      "displayName": "Natali Ojeda Meneses",
      "userId": "11843372147541461570"
     },
     "user_tz": 300
    },
    "id": "_IxNDIyoa5m_",
    "outputId": "384d6902-ed3a-4b78-8793-64222cb06340"
   },
   "outputs": [
    {
     "data": {
      "text/plain": [
       "medium    3551\n",
       "high      2577\n",
       "low       2418\n",
       "Name: liveness2, dtype: int64"
      ]
     },
     "execution_count": 76,
     "metadata": {},
     "output_type": "execute_result"
    }
   ],
   "source": [
    "songs['liveness2'].value_counts()"
   ]
  },
  {
   "cell_type": "code",
   "execution_count": 77,
   "metadata": {
    "colab": {
     "base_uri": "https://localhost:8080/",
     "height": 143
    },
    "executionInfo": {
     "elapsed": 164,
     "status": "ok",
     "timestamp": 1648706528307,
     "user": {
      "displayName": "Natali Ojeda Meneses",
      "userId": "11843372147541461570"
     },
     "user_tz": 300
    },
    "id": "6Bmm9hQJa5qN",
    "outputId": "c4a7452f-2e87-4fa9-a124-6aafb3824688"
   },
   "outputs": [
    {
     "data": {
      "text/html": [
       "<div>\n",
       "<style scoped>\n",
       "    .dataframe tbody tr th:only-of-type {\n",
       "        vertical-align: middle;\n",
       "    }\n",
       "\n",
       "    .dataframe tbody tr th {\n",
       "        vertical-align: top;\n",
       "    }\n",
       "\n",
       "    .dataframe thead th {\n",
       "        text-align: right;\n",
       "    }\n",
       "</style>\n",
       "<table border=\"1\" class=\"dataframe\">\n",
       "  <thead>\n",
       "    <tr style=\"text-align: right;\">\n",
       "      <th>liveness2</th>\n",
       "      <th>low</th>\n",
       "      <th>medium</th>\n",
       "      <th>high</th>\n",
       "    </tr>\n",
       "    <tr>\n",
       "      <th>hit</th>\n",
       "      <th></th>\n",
       "      <th></th>\n",
       "      <th></th>\n",
       "    </tr>\n",
       "  </thead>\n",
       "  <tbody>\n",
       "    <tr>\n",
       "      <th>0</th>\n",
       "      <td>0.281637</td>\n",
       "      <td>0.414817</td>\n",
       "      <td>0.303546</td>\n",
       "    </tr>\n",
       "    <tr>\n",
       "      <th>1</th>\n",
       "      <td>0.288557</td>\n",
       "      <td>0.418532</td>\n",
       "      <td>0.292910</td>\n",
       "    </tr>\n",
       "  </tbody>\n",
       "</table>\n",
       "</div>"
      ],
      "text/plain": [
       "liveness2       low    medium      high\n",
       "hit                                    \n",
       "0          0.281637  0.414817  0.303546\n",
       "1          0.288557  0.418532  0.292910"
      ]
     },
     "execution_count": 77,
     "metadata": {},
     "output_type": "execute_result"
    }
   ],
   "source": [
    "pd.crosstab(songs.hit, songs.liveness2, normalize='index')"
   ]
  },
  {
   "cell_type": "markdown",
   "metadata": {},
   "source": [
    "*Should not include liveness because of lack of difference between hit and non-hit*"
   ]
  },
  {
   "cell_type": "markdown",
   "metadata": {
    "id": "LK_CDWsobOMD"
   },
   "source": [
    "**Valence**"
   ]
  },
  {
   "cell_type": "code",
   "execution_count": 78,
   "metadata": {
    "executionInfo": {
     "elapsed": 106,
     "status": "ok",
     "timestamp": 1648707106659,
     "user": {
      "displayName": "Natali Ojeda Meneses",
      "userId": "11843372147541461570"
     },
     "user_tz": 300
    },
    "id": "OP9fZ7QjbOsT"
   },
   "outputs": [],
   "source": [
    "songs['valence2'] = pd.cut(x=songs['valence'], bins=[-np.inf, 0.37, 0.59, np.inf],\n",
    "                    labels=['low', 'medium', 'high'])"
   ]
  },
  {
   "cell_type": "code",
   "execution_count": 79,
   "metadata": {
    "colab": {
     "base_uri": "https://localhost:8080/"
    },
    "executionInfo": {
     "elapsed": 181,
     "status": "ok",
     "timestamp": 1648707107523,
     "user": {
      "displayName": "Natali Ojeda Meneses",
      "userId": "11843372147541461570"
     },
     "user_tz": 300
    },
    "id": "lpbLIGpUbO5q",
    "outputId": "5eacbbb7-be1b-466e-cb95-f707ea8a7404"
   },
   "outputs": [
    {
     "data": {
      "text/plain": [
       "medium    2921\n",
       "high      2859\n",
       "low       2766\n",
       "Name: valence2, dtype: int64"
      ]
     },
     "execution_count": 79,
     "metadata": {},
     "output_type": "execute_result"
    }
   ],
   "source": [
    "songs['valence2'].value_counts()"
   ]
  },
  {
   "cell_type": "code",
   "execution_count": 80,
   "metadata": {
    "colab": {
     "base_uri": "https://localhost:8080/",
     "height": 143
    },
    "executionInfo": {
     "elapsed": 165,
     "status": "ok",
     "timestamp": 1648707859573,
     "user": {
      "displayName": "Natali Ojeda Meneses",
      "userId": "11843372147541461570"
     },
     "user_tz": 300
    },
    "id": "VVVJz-TobPAm",
    "outputId": "aa95d674-87ef-4d0f-93d9-1c8da8515a84"
   },
   "outputs": [
    {
     "data": {
      "text/html": [
       "<div>\n",
       "<style scoped>\n",
       "    .dataframe tbody tr th:only-of-type {\n",
       "        vertical-align: middle;\n",
       "    }\n",
       "\n",
       "    .dataframe tbody tr th {\n",
       "        vertical-align: top;\n",
       "    }\n",
       "\n",
       "    .dataframe thead th {\n",
       "        text-align: right;\n",
       "    }\n",
       "</style>\n",
       "<table border=\"1\" class=\"dataframe\">\n",
       "  <thead>\n",
       "    <tr style=\"text-align: right;\">\n",
       "      <th>valence2</th>\n",
       "      <th>low</th>\n",
       "      <th>medium</th>\n",
       "      <th>high</th>\n",
       "    </tr>\n",
       "    <tr>\n",
       "      <th>hit</th>\n",
       "      <th></th>\n",
       "      <th></th>\n",
       "      <th></th>\n",
       "    </tr>\n",
       "  </thead>\n",
       "  <tbody>\n",
       "    <tr>\n",
       "      <th>0</th>\n",
       "      <td>0.330066</td>\n",
       "      <td>0.343471</td>\n",
       "      <td>0.326463</td>\n",
       "    </tr>\n",
       "    <tr>\n",
       "      <th>1</th>\n",
       "      <td>0.296020</td>\n",
       "      <td>0.334577</td>\n",
       "      <td>0.369403</td>\n",
       "    </tr>\n",
       "  </tbody>\n",
       "</table>\n",
       "</div>"
      ],
      "text/plain": [
       "valence2       low    medium      high\n",
       "hit                                   \n",
       "0         0.330066  0.343471  0.326463\n",
       "1         0.296020  0.334577  0.369403"
      ]
     },
     "execution_count": 80,
     "metadata": {},
     "output_type": "execute_result"
    }
   ],
   "source": [
    "pd.crosstab(songs.hit, songs.valence2, normalize='index')"
   ]
  },
  {
   "cell_type": "markdown",
   "metadata": {
    "id": "rPpev2UGbPgI"
   },
   "source": [
    "**Tempo**"
   ]
  },
  {
   "cell_type": "code",
   "execution_count": 81,
   "metadata": {
    "executionInfo": {
     "elapsed": 125,
     "status": "ok",
     "timestamp": 1648707901149,
     "user": {
      "displayName": "Natali Ojeda Meneses",
      "userId": "11843372147541461570"
     },
     "user_tz": 300
    },
    "id": "qA8j3WxqbPpp"
   },
   "outputs": [],
   "source": [
    "songs['tempo2'] = pd.cut(x=songs['tempo'], bins=[-np.inf, 103.6, 123.04, np.inf],\n",
    "                    labels=['low', 'medium', 'high'])"
   ]
  },
  {
   "cell_type": "code",
   "execution_count": 82,
   "metadata": {
    "colab": {
     "base_uri": "https://localhost:8080/"
    },
    "executionInfo": {
     "elapsed": 145,
     "status": "ok",
     "timestamp": 1648707902531,
     "user": {
      "displayName": "Natali Ojeda Meneses",
      "userId": "11843372147541461570"
     },
     "user_tz": 300
    },
    "id": "XBwcL8H0bPum",
    "outputId": "2272efd2-c04b-4274-cb35-784413c63a9d"
   },
   "outputs": [
    {
     "data": {
      "text/plain": [
       "high      3700\n",
       "low       2838\n",
       "medium    2008\n",
       "Name: tempo2, dtype: int64"
      ]
     },
     "execution_count": 82,
     "metadata": {},
     "output_type": "execute_result"
    }
   ],
   "source": [
    "songs['tempo2'].value_counts()"
   ]
  },
  {
   "cell_type": "code",
   "execution_count": 83,
   "metadata": {
    "colab": {
     "base_uri": "https://localhost:8080/",
     "height": 143
    },
    "executionInfo": {
     "elapsed": 213,
     "status": "ok",
     "timestamp": 1648707912201,
     "user": {
      "displayName": "Natali Ojeda Meneses",
      "userId": "11843372147541461570"
     },
     "user_tz": 300
    },
    "id": "juEFH36fbPz_",
    "outputId": "44a878ce-b9a7-42ed-a483-24ac938b975e"
   },
   "outputs": [
    {
     "data": {
      "text/html": [
       "<div>\n",
       "<style scoped>\n",
       "    .dataframe tbody tr th:only-of-type {\n",
       "        vertical-align: middle;\n",
       "    }\n",
       "\n",
       "    .dataframe tbody tr th {\n",
       "        vertical-align: top;\n",
       "    }\n",
       "\n",
       "    .dataframe thead th {\n",
       "        text-align: right;\n",
       "    }\n",
       "</style>\n",
       "<table border=\"1\" class=\"dataframe\">\n",
       "  <thead>\n",
       "    <tr style=\"text-align: right;\">\n",
       "      <th>tempo2</th>\n",
       "      <th>low</th>\n",
       "      <th>medium</th>\n",
       "      <th>high</th>\n",
       "    </tr>\n",
       "    <tr>\n",
       "      <th>hit</th>\n",
       "      <th></th>\n",
       "      <th></th>\n",
       "      <th></th>\n",
       "    </tr>\n",
       "  </thead>\n",
       "  <tbody>\n",
       "    <tr>\n",
       "      <th>0</th>\n",
       "      <td>0.330355</td>\n",
       "      <td>0.243586</td>\n",
       "      <td>0.426059</td>\n",
       "    </tr>\n",
       "    <tr>\n",
       "      <th>1</th>\n",
       "      <td>0.339552</td>\n",
       "      <td>0.197761</td>\n",
       "      <td>0.462687</td>\n",
       "    </tr>\n",
       "  </tbody>\n",
       "</table>\n",
       "</div>"
      ],
      "text/plain": [
       "tempo2       low    medium      high\n",
       "hit                                 \n",
       "0       0.330355  0.243586  0.426059\n",
       "1       0.339552  0.197761  0.462687"
      ]
     },
     "execution_count": 83,
     "metadata": {},
     "output_type": "execute_result"
    }
   ],
   "source": [
    "pd.crosstab(songs.hit, songs.tempo2, normalize='index')"
   ]
  },
  {
   "cell_type": "markdown",
   "metadata": {
    "id": "MArkOLf5ppaP"
   },
   "source": [
    "**To csv**"
   ]
  },
  {
   "cell_type": "code",
   "execution_count": 84,
   "metadata": {
    "executionInfo": {
     "elapsed": 826,
     "status": "ok",
     "timestamp": 1648708019207,
     "user": {
      "displayName": "Natali Ojeda Meneses",
      "userId": "11843372147541461570"
     },
     "user_tz": 300
    },
    "id": "jsibXxiIprtE"
   },
   "outputs": [],
   "source": [
    "# Save updated metadata dataset \n",
    "songs.to_csv('~/w266_project_topmusichits/data/interim/songs_charts_new_2000s_meta.csv',index=False)"
   ]
  },
  {
   "cell_type": "code",
   "execution_count": null,
   "metadata": {},
   "outputs": [],
   "source": []
  }
 ],
 "metadata": {
  "accelerator": "GPU",
  "colab": {
   "collapsed_sections": [],
   "name": "NOM_Metadata.ipynb",
   "provenance": [
    {
     "file_id": "12za0XXVYHWID32iPJxJaSKC8Be2LtPL0",
     "timestamp": 1648441800056
    },
    {
     "file_id": "1q7X02HQ9ZHPnMaLIFBMrEfEXIVENEntw",
     "timestamp": 1648438749908
    }
   ]
  },
  "kernelspec": {
   "display_name": "Python 3",
   "language": "python",
   "name": "python3"
  },
  "language_info": {
   "codemirror_mode": {
    "name": "ipython",
    "version": 3
   },
   "file_extension": ".py",
   "mimetype": "text/x-python",
   "name": "python",
   "nbconvert_exporter": "python",
   "pygments_lexer": "ipython3",
   "version": "3.8.8"
  }
 },
 "nbformat": 4,
 "nbformat_minor": 1
}
